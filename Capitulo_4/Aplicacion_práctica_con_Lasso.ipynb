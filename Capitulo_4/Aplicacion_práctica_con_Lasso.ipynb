{
 "cells": [
  {
   "cell_type": "markdown",
   "id": "83ed09b3",
   "metadata": {},
   "source": [
    "# Aplicación Práctica: Predicción de Ingresos con Regresión Lasso\n",
    "\n",
    "<a href=\"https://colab.research.google.com/github/josuecaldas/predict_income/blob/main/PYTHON_predict_income.ipynb\" target=\"_parent\"><img src=\"https://colab.research.google.com/assets/colab-badge.svg\" alt=\"Open In Colab\"/></a>\n",
    "\n",
    "**Objetivo:** Este cuaderno demuestra el uso de la Regresión Lasso para predecir el ingreso monetario y, fundamentalmente, para seleccionar las variables más relevantes de un conjunto de datos de alta dimensionalidad.\n",
    "\n",
    "**Contexto de Investigación:** Utilizamos datos de la Encuesta Nacional de Hogares (ENAHO) 2020 para Lima Metropolitana. Nos enfrentamos a un problema común en las ciencias sociales: disponemos de una gran cantidad de predictores (144 en este caso) y sospechamos que solo un subconjunto de ellos es verdaderamente influyente.\n",
    "\n",
    "**Metodología:** La Regresión Lasso es ideal para este escenario, ya que su capacidad de penalización puede reducir los coeficientes de las variables menos importantes a exactamente cero, realizando así una selección de variables automática."
   ]
  },
  {
   "cell_type": "markdown",
   "id": "dfac44bf",
   "metadata": {},
   "source": [
    "### 1. Configuración del Entorno\n",
    "\n",
    "En esta sección, importamos todas las librerías necesarias para el análisis. Utilizamos `pandas` para la manipulación de datos, `numpy` para operaciones numéricas y `scikit-learn` para el modelado y la evaluación."
   ]
  },
  {
   "cell_type": "code",
   "execution_count": 23,
   "id": "c3da32f0",
   "metadata": {},
   "outputs": [],
   "source": [
    "#pip install pandas numpy seaborn matplotlib scikit-learn"
   ]
  },
  {
   "cell_type": "code",
   "execution_count": 24,
   "id": "42efc349",
   "metadata": {},
   "outputs": [],
   "source": [
    "# Librerías para manipulación y análisis de datos\n",
    "import pandas as pd\n",
    "import numpy as np\n",
    "\n",
    "# Librerías para visualización\n",
    "import seaborn as sns\n",
    "import matplotlib.pyplot as plt\n",
    "\n",
    "# Clases y funciones de Scikit-Learn para el modelado\n",
    "from sklearn.model_selection import train_test_split\n",
    "from sklearn.linear_model import LassoCV\n",
    "from sklearn.metrics import mean_squared_error, r2_score\n",
    "\n",
    "# Configuración para mejorar la visualización\n",
    "pd.set_option('display.max_rows', 100)\n",
    "sns.set_style('whitegrid')\n",
    "plt.rcParams['figure.figsize'] = (10, 6)"
   ]
  },
  {
   "cell_type": "markdown",
   "id": "428be2b6",
   "metadata": {},
   "source": [
    "### 2. Carga y Exploración Inicial de los Datos (EDA)\n",
    "\n",
    "Cargamos el conjunto de datos y realizamos una exploración inicial para entender su estructura y la variable que deseamos predecir."
   ]
  },
  {
   "cell_type": "code",
   "execution_count": 25,
   "id": "661103c9",
   "metadata": {},
   "outputs": [
    {
     "data": {
      "application/vnd.microsoft.datawrangler.viewer.v0+json": {
       "columns": [
        {
         "name": "index",
         "rawType": "int64",
         "type": "integer"
        },
        {
         "name": "p207_20",
         "rawType": "int64",
         "type": "integer"
        },
        {
         "name": "p208a_20",
         "rawType": "int64",
         "type": "integer"
        },
        {
         "name": "p104_20",
         "rawType": "int64",
         "type": "integer"
        },
        {
         "name": "p110a1_20",
         "rawType": "int64",
         "type": "integer"
        },
        {
         "name": "p1121_20",
         "rawType": "int64",
         "type": "integer"
        },
        {
         "name": "p1123_20",
         "rawType": "int64",
         "type": "integer"
        },
        {
         "name": "p1124_20",
         "rawType": "int64",
         "type": "integer"
        },
        {
         "name": "p1125_20",
         "rawType": "int64",
         "type": "integer"
        },
        {
         "name": "p1126_20",
         "rawType": "int64",
         "type": "integer"
        },
        {
         "name": "p1127_20",
         "rawType": "int64",
         "type": "integer"
        },
        {
         "name": "p1141_20",
         "rawType": "int64",
         "type": "integer"
        },
        {
         "name": "p1142_20",
         "rawType": "int64",
         "type": "integer"
        },
        {
         "name": "p1143_20",
         "rawType": "int64",
         "type": "integer"
        },
        {
         "name": "p1144_20",
         "rawType": "int64",
         "type": "integer"
        },
        {
         "name": "p1145_20",
         "rawType": "int64",
         "type": "integer"
        },
        {
         "name": "p301b_20",
         "rawType": "int64",
         "type": "integer"
        },
        {
         "name": "p301d_20",
         "rawType": "int64",
         "type": "integer"
        },
        {
         "name": "p306_20",
         "rawType": "int64",
         "type": "integer"
        },
        {
         "name": "p310_20",
         "rawType": "int64",
         "type": "integer"
        },
        {
         "name": "p314a_20",
         "rawType": "int64",
         "type": "integer"
        },
        {
         "name": "p314b1_1_20",
         "rawType": "int64",
         "type": "integer"
        },
        {
         "name": "p314b1_2_20",
         "rawType": "int64",
         "type": "integer"
        },
        {
         "name": "p314b1_6_20",
         "rawType": "int64",
         "type": "integer"
        },
        {
         "name": "p314b1_7_20",
         "rawType": "int64",
         "type": "integer"
        },
        {
         "name": "p314b1_8_20",
         "rawType": "int64",
         "type": "integer"
        },
        {
         "name": "p314b1_9_20",
         "rawType": "int64",
         "type": "integer"
        },
        {
         "name": "p501_20",
         "rawType": "int64",
         "type": "integer"
        },
        {
         "name": "p5561a_20",
         "rawType": "int64",
         "type": "integer"
        },
        {
         "name": "p5562a_20",
         "rawType": "int64",
         "type": "integer"
        },
        {
         "name": "p5563a_20",
         "rawType": "int64",
         "type": "integer"
        },
        {
         "name": "p5564a_20",
         "rawType": "int64",
         "type": "integer"
        },
        {
         "name": "p5565a_20",
         "rawType": "int64",
         "type": "integer"
        },
        {
         "name": "p5566a_20",
         "rawType": "int64",
         "type": "integer"
        },
        {
         "name": "p5567a_20",
         "rawType": "int64",
         "type": "integer"
        },
        {
         "name": "p5568a_20",
         "rawType": "int64",
         "type": "integer"
        },
        {
         "name": "p5569a_20",
         "rawType": "int64",
         "type": "integer"
        },
        {
         "name": "p558a1_20",
         "rawType": "int64",
         "type": "integer"
        },
        {
         "name": "p558a2_20",
         "rawType": "int64",
         "type": "integer"
        },
        {
         "name": "p558a3_20",
         "rawType": "int64",
         "type": "integer"
        },
        {
         "name": "p558a4_20",
         "rawType": "int64",
         "type": "integer"
        },
        {
         "name": "p558a5_20",
         "rawType": "int64",
         "type": "integer"
        },
        {
         "name": "p558e1_1_20",
         "rawType": "int64",
         "type": "integer"
        },
        {
         "name": "p558e1_2_20",
         "rawType": "int64",
         "type": "integer"
        },
        {
         "name": "p558e1_3_20",
         "rawType": "int64",
         "type": "integer"
        },
        {
         "name": "p558e1_6_20",
         "rawType": "int64",
         "type": "integer"
        },
        {
         "name": "p558e1_7_20",
         "rawType": "int64",
         "type": "integer"
        },
        {
         "name": "p558g1_20",
         "rawType": "int64",
         "type": "integer"
        },
        {
         "name": "p558g2_20",
         "rawType": "int64",
         "type": "integer"
        },
        {
         "name": "p558g3_20",
         "rawType": "int64",
         "type": "integer"
        },
        {
         "name": "p558g4_20",
         "rawType": "int64",
         "type": "integer"
        },
        {
         "name": "p558g5_20",
         "rawType": "int64",
         "type": "integer"
        },
        {
         "name": "ingmo2hd",
         "rawType": "float64",
         "type": "float"
        },
        {
         "name": "p401h1_20",
         "rawType": "int64",
         "type": "integer"
        },
        {
         "name": "p401h2_20",
         "rawType": "int64",
         "type": "integer"
        },
        {
         "name": "p401h3_20",
         "rawType": "int64",
         "type": "integer"
        },
        {
         "name": "p401h4_20",
         "rawType": "int64",
         "type": "integer"
        },
        {
         "name": "p401h5_20",
         "rawType": "int64",
         "type": "integer"
        },
        {
         "name": "p401h6_20",
         "rawType": "int64",
         "type": "integer"
        },
        {
         "name": "p401_20",
         "rawType": "int64",
         "type": "integer"
        },
        {
         "name": "p4021_20",
         "rawType": "int64",
         "type": "integer"
        },
        {
         "name": "p4022_20",
         "rawType": "int64",
         "type": "integer"
        },
        {
         "name": "p4023_20",
         "rawType": "int64",
         "type": "integer"
        },
        {
         "name": "p4024_20",
         "rawType": "int64",
         "type": "integer"
        },
        {
         "name": "p4025_20",
         "rawType": "int64",
         "type": "integer"
        },
        {
         "name": "p4191_20",
         "rawType": "int64",
         "type": "integer"
        },
        {
         "name": "p4192_20",
         "rawType": "int64",
         "type": "integer"
        },
        {
         "name": "p4193_20",
         "rawType": "int64",
         "type": "integer"
        },
        {
         "name": "p4194_20",
         "rawType": "int64",
         "type": "integer"
        },
        {
         "name": "p4195_20",
         "rawType": "int64",
         "type": "integer"
        },
        {
         "name": "p4196_20",
         "rawType": "int64",
         "type": "integer"
        },
        {
         "name": "p4197_20",
         "rawType": "int64",
         "type": "integer"
        },
        {
         "name": "p4198_20",
         "rawType": "int64",
         "type": "integer"
        },
        {
         "name": "p101_20_2",
         "rawType": "int64",
         "type": "integer"
        },
        {
         "name": "p101_20_3",
         "rawType": "int64",
         "type": "integer"
        },
        {
         "name": "p101_20_4",
         "rawType": "int64",
         "type": "integer"
        },
        {
         "name": "p101_20_6",
         "rawType": "int64",
         "type": "integer"
        },
        {
         "name": "p102_20_2",
         "rawType": "int64",
         "type": "integer"
        },
        {
         "name": "p102_20_3",
         "rawType": "int64",
         "type": "integer"
        },
        {
         "name": "p102_20_5",
         "rawType": "int64",
         "type": "integer"
        },
        {
         "name": "p102_20_6",
         "rawType": "int64",
         "type": "integer"
        },
        {
         "name": "p102_20_7",
         "rawType": "int64",
         "type": "integer"
        },
        {
         "name": "p102_20_8",
         "rawType": "int64",
         "type": "integer"
        },
        {
         "name": "p102_20_9",
         "rawType": "int64",
         "type": "integer"
        },
        {
         "name": "p105a_20_2",
         "rawType": "int64",
         "type": "integer"
        },
        {
         "name": "p105a_20_3",
         "rawType": "int64",
         "type": "integer"
        },
        {
         "name": "p105a_20_4",
         "rawType": "int64",
         "type": "integer"
        },
        {
         "name": "p105a_20_5",
         "rawType": "int64",
         "type": "integer"
        },
        {
         "name": "p105a_20_6",
         "rawType": "int64",
         "type": "integer"
        },
        {
         "name": "p110_20_2",
         "rawType": "int64",
         "type": "integer"
        },
        {
         "name": "p110_20_3",
         "rawType": "int64",
         "type": "integer"
        },
        {
         "name": "p110_20_4",
         "rawType": "int64",
         "type": "integer"
        },
        {
         "name": "p110_20_5",
         "rawType": "int64",
         "type": "integer"
        },
        {
         "name": "p110_20_6",
         "rawType": "int64",
         "type": "integer"
        },
        {
         "name": "p110_20_7",
         "rawType": "int64",
         "type": "integer"
        },
        {
         "name": "p111a_20_2",
         "rawType": "int64",
         "type": "integer"
        },
        {
         "name": "p111a_20_3",
         "rawType": "int64",
         "type": "integer"
        },
        {
         "name": "p111a_20_4",
         "rawType": "int64",
         "type": "integer"
        },
        {
         "name": "p111a_20_5",
         "rawType": "int64",
         "type": "integer"
        },
        {
         "name": "p111a_20_6",
         "rawType": "int64",
         "type": "integer"
        },
        {
         "name": "p111a_20_7",
         "rawType": "int64",
         "type": "integer"
        },
        {
         "name": "p111a_20_9",
         "rawType": "int64",
         "type": "integer"
        },
        {
         "name": "p113a_20_2",
         "rawType": "int64",
         "type": "integer"
        },
        {
         "name": "p113a_20_3",
         "rawType": "int64",
         "type": "integer"
        },
        {
         "name": "p113a_20_5",
         "rawType": "int64",
         "type": "integer"
        },
        {
         "name": "p113a_20_6",
         "rawType": "int64",
         "type": "integer"
        },
        {
         "name": "p113a_20_7",
         "rawType": "int64",
         "type": "integer"
        },
        {
         "name": "dominio_20_",
         "rawType": "int64",
         "type": "integer"
        },
        {
         "name": "estrato_20_",
         "rawType": "int64",
         "type": "integer"
        },
        {
         "name": "p209_20_2",
         "rawType": "int64",
         "type": "integer"
        },
        {
         "name": "p209_20_3",
         "rawType": "int64",
         "type": "integer"
        },
        {
         "name": "p209_20_4",
         "rawType": "int64",
         "type": "integer"
        },
        {
         "name": "p209_20_5",
         "rawType": "int64",
         "type": "integer"
        },
        {
         "name": "p209_20_6",
         "rawType": "int64",
         "type": "integer"
        },
        {
         "name": "p300a_20_2",
         "rawType": "int64",
         "type": "integer"
        },
        {
         "name": "p300a_20_3",
         "rawType": "int64",
         "type": "integer"
        },
        {
         "name": "p300a_20_4",
         "rawType": "int64",
         "type": "integer"
        },
        {
         "name": "p300a_20_6",
         "rawType": "int64",
         "type": "integer"
        },
        {
         "name": "p300a_20_7",
         "rawType": "int64",
         "type": "integer"
        },
        {
         "name": "p300a_20_8",
         "rawType": "int64",
         "type": "integer"
        },
        {
         "name": "p300a_20_9",
         "rawType": "int64",
         "type": "integer"
        },
        {
         "name": "p300a_20_11",
         "rawType": "int64",
         "type": "integer"
        },
        {
         "name": "p300a_20_14",
         "rawType": "int64",
         "type": "integer"
        },
        {
         "name": "p300a_20_15",
         "rawType": "int64",
         "type": "integer"
        },
        {
         "name": "p301a_20_2",
         "rawType": "int64",
         "type": "integer"
        },
        {
         "name": "p301a_20_3",
         "rawType": "int64",
         "type": "integer"
        },
        {
         "name": "p301a_20_4",
         "rawType": "int64",
         "type": "integer"
        },
        {
         "name": "p301a_20_5",
         "rawType": "int64",
         "type": "integer"
        },
        {
         "name": "p301a_20_6",
         "rawType": "int64",
         "type": "integer"
        },
        {
         "name": "p301a_20_7",
         "rawType": "int64",
         "type": "integer"
        },
        {
         "name": "p301a_20_8",
         "rawType": "int64",
         "type": "integer"
        },
        {
         "name": "p301a_20_9",
         "rawType": "int64",
         "type": "integer"
        },
        {
         "name": "p301a_20_10",
         "rawType": "int64",
         "type": "integer"
        },
        {
         "name": "p301a_20_11",
         "rawType": "int64",
         "type": "integer"
        },
        {
         "name": "p301a_20_12",
         "rawType": "int64",
         "type": "integer"
        },
        {
         "name": "p401f_20_2",
         "rawType": "int64",
         "type": "integer"
        },
        {
         "name": "p401f_20_3",
         "rawType": "int64",
         "type": "integer"
        },
        {
         "name": "p558c_20_2",
         "rawType": "int64",
         "type": "integer"
        },
        {
         "name": "p558c_20_3",
         "rawType": "int64",
         "type": "integer"
        },
        {
         "name": "p558c_20_4",
         "rawType": "int64",
         "type": "integer"
        },
        {
         "name": "p558c_20_5",
         "rawType": "int64",
         "type": "integer"
        },
        {
         "name": "p558c_20_6",
         "rawType": "int64",
         "type": "integer"
        },
        {
         "name": "p558c_20_7",
         "rawType": "int64",
         "type": "integer"
        },
        {
         "name": "p558c_20_8",
         "rawType": "int64",
         "type": "integer"
        },
        {
         "name": "p558c_20_9",
         "rawType": "int64",
         "type": "integer"
        }
       ],
       "ref": "7ed702b1-ae87-4604-83f7-9920f3d023a2",
       "rows": [
        [
         "0",
         "2",
         "56",
         "3",
         "1",
         "1",
         "0",
         "0",
         "0",
         "0",
         "0",
         "0",
         "1",
         "0",
         "1",
         "0",
         "5",
         "1",
         "2",
         "2",
         "1",
         "0",
         "0",
         "0",
         "0",
         "8",
         "0",
         "2",
         "2",
         "2",
         "1",
         "2",
         "2",
         "2",
         "2",
         "2",
         "2",
         "0",
         "0",
         "0",
         "0",
         "5",
         "0",
         "0",
         "0",
         "6",
         "0",
         "0",
         "0",
         "3",
         "0",
         "0",
         "7983.0",
         "2",
         "2",
         "2",
         "2",
         "2",
         "2",
         "1",
         "1",
         "1",
         "1",
         "0",
         "0",
         "2",
         "2",
         "2",
         "2",
         "2",
         "2",
         "2",
         "2",
         "0",
         "0",
         "0",
         "0",
         "0",
         "0",
         "0",
         "0",
         "1",
         "0",
         "0",
         "1",
         "0",
         "0",
         "0",
         "0",
         "0",
         "0",
         "0",
         "0",
         "0",
         "0",
         "0",
         "0",
         "0",
         "0",
         "0",
         "0",
         "0",
         "1",
         "0",
         "0",
         "0",
         "0",
         "0",
         "0",
         "0",
         "0",
         "0",
         "1",
         "0",
         "0",
         "0",
         "0",
         "0",
         "0",
         "0",
         "0",
         "0",
         "0",
         "0",
         "0",
         "0",
         "0",
         "0",
         "1",
         "0",
         "0",
         "0",
         "0",
         "0",
         "0",
         "0",
         "0",
         "0",
         "0",
         "0",
         "0",
         "1",
         "0",
         "0",
         "0"
        ],
        [
         "1",
         "1",
         "25",
         "3",
         "1",
         "1",
         "0",
         "0",
         "0",
         "0",
         "0",
         "0",
         "1",
         "0",
         "1",
         "0",
         "3",
         "2",
         "2",
         "2",
         "1",
         "0",
         "0",
         "0",
         "0",
         "8",
         "0",
         "2",
         "2",
         "2",
         "2",
         "2",
         "2",
         "2",
         "2",
         "2",
         "2",
         "0",
         "0",
         "0",
         "0",
         "5",
         "0",
         "0",
         "0",
         "6",
         "0",
         "0",
         "0",
         "0",
         "0",
         "5",
         "0.0",
         "2",
         "2",
         "2",
         "2",
         "2",
         "2",
         "1",
         "0",
         "0",
         "1",
         "0",
         "0",
         "2",
         "2",
         "2",
         "2",
         "1",
         "2",
         "2",
         "2",
         "0",
         "0",
         "0",
         "0",
         "0",
         "0",
         "0",
         "0",
         "1",
         "0",
         "0",
         "1",
         "0",
         "0",
         "0",
         "0",
         "0",
         "0",
         "0",
         "0",
         "0",
         "0",
         "0",
         "0",
         "0",
         "0",
         "0",
         "0",
         "0",
         "1",
         "0",
         "0",
         "0",
         "0",
         "0",
         "0",
         "0",
         "0",
         "0",
         "0",
         "1",
         "0",
         "0",
         "1",
         "0",
         "0",
         "0",
         "0",
         "0",
         "0",
         "0",
         "0",
         "0",
         "0",
         "0",
         "0",
         "0",
         "1",
         "0",
         "0",
         "0",
         "0",
         "0",
         "0",
         "0",
         "0",
         "0",
         "0",
         "0",
         "1",
         "0",
         "0"
        ],
        [
         "2",
         "1",
         "24",
         "3",
         "1",
         "1",
         "0",
         "0",
         "0",
         "0",
         "0",
         "0",
         "1",
         "0",
         "1",
         "0",
         "3",
         "1",
         "1",
         "2",
         "1",
         "0",
         "0",
         "0",
         "0",
         "8",
         "0",
         "2",
         "2",
         "2",
         "1",
         "2",
         "2",
         "2",
         "2",
         "2",
         "2",
         "0",
         "0",
         "0",
         "0",
         "5",
         "1",
         "0",
         "0",
         "0",
         "0",
         "0",
         "0",
         "0",
         "0",
         "5",
         "1203.0",
         "2",
         "2",
         "2",
         "2",
         "2",
         "2",
         "2",
         "0",
         "0",
         "0",
         "0",
         "1",
         "2",
         "2",
         "2",
         "2",
         "1",
         "2",
         "2",
         "2",
         "0",
         "0",
         "0",
         "0",
         "0",
         "0",
         "0",
         "0",
         "1",
         "0",
         "0",
         "1",
         "0",
         "0",
         "0",
         "0",
         "0",
         "0",
         "0",
         "0",
         "0",
         "0",
         "0",
         "0",
         "0",
         "0",
         "0",
         "0",
         "0",
         "1",
         "0",
         "0",
         "0",
         "0",
         "0",
         "0",
         "0",
         "0",
         "0",
         "0",
         "1",
         "0",
         "0",
         "1",
         "0",
         "0",
         "0",
         "0",
         "0",
         "0",
         "0",
         "0",
         "0",
         "0",
         "0",
         "0",
         "0",
         "0",
         "1",
         "0",
         "0",
         "0",
         "0",
         "0",
         "0",
         "0",
         "0",
         "0",
         "0",
         "1",
         "0",
         "0"
        ],
        [
         "3",
         "2",
         "52",
         "4",
         "1",
         "1",
         "0",
         "0",
         "0",
         "0",
         "0",
         "0",
         "1",
         "0",
         "0",
         "0",
         "0",
         "1",
         "2",
         "2",
         "1",
         "0",
         "0",
         "0",
         "0",
         "8",
         "0",
         "1",
         "2",
         "2",
         "2",
         "2",
         "2",
         "2",
         "2",
         "2",
         "2",
         "0",
         "0",
         "0",
         "0",
         "5",
         "0",
         "0",
         "0",
         "6",
         "0",
         "0",
         "0",
         "0",
         "0",
         "5",
         "8543.0",
         "2",
         "2",
         "2",
         "2",
         "2",
         "2",
         "1",
         "1",
         "0",
         "0",
         "0",
         "0",
         "2",
         "2",
         "2",
         "2",
         "1",
         "2",
         "2",
         "2",
         "0",
         "0",
         "0",
         "0",
         "0",
         "0",
         "0",
         "0",
         "0",
         "0",
         "1",
         "1",
         "0",
         "0",
         "0",
         "0",
         "0",
         "0",
         "0",
         "0",
         "0",
         "0",
         "0",
         "0",
         "0",
         "0",
         "0",
         "0",
         "0",
         "1",
         "0",
         "0",
         "0",
         "0",
         "0",
         "0",
         "0",
         "0",
         "0",
         "1",
         "0",
         "0",
         "0",
         "0",
         "0",
         "0",
         "0",
         "0",
         "0",
         "0",
         "0",
         "0",
         "0",
         "1",
         "0",
         "0",
         "0",
         "0",
         "0",
         "0",
         "0",
         "0",
         "0",
         "0",
         "0",
         "0",
         "0",
         "0",
         "0",
         "1",
         "0",
         "0"
        ],
        [
         "4",
         "2",
         "54",
         "3",
         "1",
         "1",
         "0",
         "0",
         "0",
         "0",
         "0",
         "0",
         "1",
         "0",
         "1",
         "0",
         "5",
         "1",
         "2",
         "2",
         "1",
         "0",
         "0",
         "0",
         "0",
         "0",
         "9",
         "1",
         "2",
         "2",
         "2",
         "2",
         "2",
         "2",
         "2",
         "2",
         "2",
         "0",
         "2",
         "0",
         "0",
         "0",
         "0",
         "0",
         "0",
         "6",
         "0",
         "0",
         "0",
         "3",
         "0",
         "0",
         "16308.0",
         "2",
         "2",
         "2",
         "2",
         "2",
         "2",
         "1",
         "0",
         "0",
         "0",
         "0",
         "1",
         "1",
         "2",
         "2",
         "2",
         "2",
         "2",
         "2",
         "2",
         "0",
         "0",
         "0",
         "0",
         "0",
         "0",
         "0",
         "0",
         "1",
         "0",
         "0",
         "1",
         "0",
         "0",
         "0",
         "0",
         "0",
         "0",
         "0",
         "0",
         "0",
         "0",
         "0",
         "0",
         "0",
         "0",
         "0",
         "0",
         "0",
         "0",
         "1",
         "0",
         "0",
         "0",
         "0",
         "0",
         "0",
         "0",
         "0",
         "0",
         "0",
         "0",
         "0",
         "1",
         "0",
         "0",
         "0",
         "0",
         "0",
         "0",
         "0",
         "0",
         "0",
         "0",
         "0",
         "1",
         "0",
         "0",
         "0",
         "0",
         "0",
         "0",
         "0",
         "0",
         "0",
         "0",
         "0",
         "1",
         "0",
         "0",
         "0",
         "0"
        ]
       ],
       "shape": {
        "columns": 144,
        "rows": 5
       }
      },
      "text/html": [
       "<div>\n",
       "<style scoped>\n",
       "    .dataframe tbody tr th:only-of-type {\n",
       "        vertical-align: middle;\n",
       "    }\n",
       "\n",
       "    .dataframe tbody tr th {\n",
       "        vertical-align: top;\n",
       "    }\n",
       "\n",
       "    .dataframe thead th {\n",
       "        text-align: right;\n",
       "    }\n",
       "</style>\n",
       "<table border=\"1\" class=\"dataframe\">\n",
       "  <thead>\n",
       "    <tr style=\"text-align: right;\">\n",
       "      <th></th>\n",
       "      <th>p207_20</th>\n",
       "      <th>p208a_20</th>\n",
       "      <th>p104_20</th>\n",
       "      <th>p110a1_20</th>\n",
       "      <th>p1121_20</th>\n",
       "      <th>p1123_20</th>\n",
       "      <th>p1124_20</th>\n",
       "      <th>p1125_20</th>\n",
       "      <th>p1126_20</th>\n",
       "      <th>p1127_20</th>\n",
       "      <th>...</th>\n",
       "      <th>p401f_20_2</th>\n",
       "      <th>p401f_20_3</th>\n",
       "      <th>p558c_20_2</th>\n",
       "      <th>p558c_20_3</th>\n",
       "      <th>p558c_20_4</th>\n",
       "      <th>p558c_20_5</th>\n",
       "      <th>p558c_20_6</th>\n",
       "      <th>p558c_20_7</th>\n",
       "      <th>p558c_20_8</th>\n",
       "      <th>p558c_20_9</th>\n",
       "    </tr>\n",
       "  </thead>\n",
       "  <tbody>\n",
       "    <tr>\n",
       "      <th>0</th>\n",
       "      <td>2</td>\n",
       "      <td>56</td>\n",
       "      <td>3</td>\n",
       "      <td>1</td>\n",
       "      <td>1</td>\n",
       "      <td>0</td>\n",
       "      <td>0</td>\n",
       "      <td>0</td>\n",
       "      <td>0</td>\n",
       "      <td>0</td>\n",
       "      <td>...</td>\n",
       "      <td>0</td>\n",
       "      <td>0</td>\n",
       "      <td>0</td>\n",
       "      <td>0</td>\n",
       "      <td>0</td>\n",
       "      <td>0</td>\n",
       "      <td>1</td>\n",
       "      <td>0</td>\n",
       "      <td>0</td>\n",
       "      <td>0</td>\n",
       "    </tr>\n",
       "    <tr>\n",
       "      <th>1</th>\n",
       "      <td>1</td>\n",
       "      <td>25</td>\n",
       "      <td>3</td>\n",
       "      <td>1</td>\n",
       "      <td>1</td>\n",
       "      <td>0</td>\n",
       "      <td>0</td>\n",
       "      <td>0</td>\n",
       "      <td>0</td>\n",
       "      <td>0</td>\n",
       "      <td>...</td>\n",
       "      <td>0</td>\n",
       "      <td>0</td>\n",
       "      <td>0</td>\n",
       "      <td>0</td>\n",
       "      <td>0</td>\n",
       "      <td>0</td>\n",
       "      <td>0</td>\n",
       "      <td>1</td>\n",
       "      <td>0</td>\n",
       "      <td>0</td>\n",
       "    </tr>\n",
       "    <tr>\n",
       "      <th>2</th>\n",
       "      <td>1</td>\n",
       "      <td>24</td>\n",
       "      <td>3</td>\n",
       "      <td>1</td>\n",
       "      <td>1</td>\n",
       "      <td>0</td>\n",
       "      <td>0</td>\n",
       "      <td>0</td>\n",
       "      <td>0</td>\n",
       "      <td>0</td>\n",
       "      <td>...</td>\n",
       "      <td>0</td>\n",
       "      <td>0</td>\n",
       "      <td>0</td>\n",
       "      <td>0</td>\n",
       "      <td>0</td>\n",
       "      <td>0</td>\n",
       "      <td>0</td>\n",
       "      <td>1</td>\n",
       "      <td>0</td>\n",
       "      <td>0</td>\n",
       "    </tr>\n",
       "    <tr>\n",
       "      <th>3</th>\n",
       "      <td>2</td>\n",
       "      <td>52</td>\n",
       "      <td>4</td>\n",
       "      <td>1</td>\n",
       "      <td>1</td>\n",
       "      <td>0</td>\n",
       "      <td>0</td>\n",
       "      <td>0</td>\n",
       "      <td>0</td>\n",
       "      <td>0</td>\n",
       "      <td>...</td>\n",
       "      <td>0</td>\n",
       "      <td>0</td>\n",
       "      <td>0</td>\n",
       "      <td>0</td>\n",
       "      <td>0</td>\n",
       "      <td>0</td>\n",
       "      <td>0</td>\n",
       "      <td>1</td>\n",
       "      <td>0</td>\n",
       "      <td>0</td>\n",
       "    </tr>\n",
       "    <tr>\n",
       "      <th>4</th>\n",
       "      <td>2</td>\n",
       "      <td>54</td>\n",
       "      <td>3</td>\n",
       "      <td>1</td>\n",
       "      <td>1</td>\n",
       "      <td>0</td>\n",
       "      <td>0</td>\n",
       "      <td>0</td>\n",
       "      <td>0</td>\n",
       "      <td>0</td>\n",
       "      <td>...</td>\n",
       "      <td>0</td>\n",
       "      <td>0</td>\n",
       "      <td>0</td>\n",
       "      <td>0</td>\n",
       "      <td>0</td>\n",
       "      <td>1</td>\n",
       "      <td>0</td>\n",
       "      <td>0</td>\n",
       "      <td>0</td>\n",
       "      <td>0</td>\n",
       "    </tr>\n",
       "  </tbody>\n",
       "</table>\n",
       "<p>5 rows × 144 columns</p>\n",
       "</div>"
      ],
      "text/plain": [
       "   p207_20  p208a_20  p104_20  p110a1_20  p1121_20  p1123_20  p1124_20  \\\n",
       "0        2        56        3          1         1         0         0   \n",
       "1        1        25        3          1         1         0         0   \n",
       "2        1        24        3          1         1         0         0   \n",
       "3        2        52        4          1         1         0         0   \n",
       "4        2        54        3          1         1         0         0   \n",
       "\n",
       "   p1125_20  p1126_20  p1127_20  ...  p401f_20_2  p401f_20_3  p558c_20_2  \\\n",
       "0         0         0         0  ...           0           0           0   \n",
       "1         0         0         0  ...           0           0           0   \n",
       "2         0         0         0  ...           0           0           0   \n",
       "3         0         0         0  ...           0           0           0   \n",
       "4         0         0         0  ...           0           0           0   \n",
       "\n",
       "   p558c_20_3  p558c_20_4  p558c_20_5  p558c_20_6  p558c_20_7  p558c_20_8  \\\n",
       "0           0           0           0           1           0           0   \n",
       "1           0           0           0           0           1           0   \n",
       "2           0           0           0           0           1           0   \n",
       "3           0           0           0           0           1           0   \n",
       "4           0           0           1           0           0           0   \n",
       "\n",
       "   p558c_20_9  \n",
       "0           0  \n",
       "1           0  \n",
       "2           0  \n",
       "3           0  \n",
       "4           0  \n",
       "\n",
       "[5 rows x 144 columns]"
      ]
     },
     "execution_count": 25,
     "metadata": {},
     "output_type": "execute_result"
    }
   ],
   "source": [
    "# Carga de la base de datos desde el archivo CSV\n",
    "data = pd.read_csv(\"predict_income_2020.csv\", encoding = \"latin-1\")\n",
    "\n",
    "# Eliminamos la columna 'Unnamed: 0' que parece ser un índice residual del archivo\n",
    "if 'Unnamed: 0' in data.columns:\n",
    "    data = data.drop('Unnamed: 0', axis=1)\n",
    "\n",
    "# Mostramos las primeras filas para verificar la carga\n",
    "data.head()"
   ]
  },
  {
   "cell_type": "markdown",
   "id": "dd7192c2",
   "metadata": {},
   "source": [
    "#### Diccionario de Variables (Ejemplos)\n",
    "\n",
    "Para que el análisis sea interpretable, es fundamental entender qué significan las variables. Los nombres como `p207_20` provienen de la encuesta y son poco intuitivos. A continuación, se describen algunas variables clave y la variable objetivo:\n",
    "\n",
    "| Código de Variable | Descripción Corta |\n",
    "| :--- | :--- |\n",
    "| **`ingmo2hd`** | **Ingreso monetario neto anual (Variable Objetivo)** |\n",
    "| `p207_20` | Sexo |\n",
    "| `p208a_20` | Edad en años cumplidos |\n",
    "| `p301b_20` | Último año o grado de estudios aprobado |\n",
    "| `p501_20` | Tuvo algún trabajo la semana pasada |\n",
    "| `p1142_20` | El hogar tiene teléfono celular |\n",
    "| `p1144_20` | El hogar tiene conexión a internet |"
   ]
  },
  {
   "cell_type": "code",
   "execution_count": 26,
   "id": "cf5f17d0",
   "metadata": {},
   "outputs": [
    {
     "name": "stdout",
     "output_type": "stream",
     "text": [
      "Estadísticas Descriptivas del Ingreso (ingmo2hd):\n",
      "count      7941.000000\n",
      "mean      16417.901556\n",
      "std       27288.599042\n",
      "min           0.000000\n",
      "25%         606.000000\n",
      "50%        8427.000000\n",
      "75%       20445.000000\n",
      "max      382633.000000\n",
      "Name: ingmo2hd, dtype: float64\n"
     ]
    },
    {
     "data": {
      "image/png": "[encoded data removed]",
      "text/plain": [
       "<Figure size 1200x600 with 1 Axes>"
      ]
     },
     "metadata": {},
     "output_type": "display_data"
    }
   ],
   "source": [
    "\n",
    "\n",
    "# Analizar la distribución de la variable objetivo (ingreso)\n",
    "print(\"Estadísticas Descriptivas del Ingreso (ingmo2hd):\")\n",
    "print(data['ingmo2hd'].describe())\n",
    "\n",
    "# Visualizar la distribución del ingreso\n",
    "plt.figure(figsize=(12, 6))\n",
    "sns.histplot(data['ingmo2hd'], kde=True, bins=50)\n",
    "plt.title('Distribución del Ingreso Monetario Neto Anual')\n",
    "plt.xlabel('Ingreso (Soles)')\n",
    "plt.ylabel('Frecuencia')\n",
    "plt.show()"
   ]
  },
  {
   "cell_type": "markdown",
   "id": "b9dc2fd5",
   "metadata": {},
   "source": [
    "### 3. Preparación para el Modelado\n",
    "\n",
    "Aquí, separamos nuestros datos en:\n",
    "1.  **Variable Predicha (y):** `ingmo2hd`.\n",
    "2.  **Variables Predictoras (X):** Todas las demás variables.\n",
    "\n",
    "Posteriormente, dividimos los datos en conjuntos de **entrenamiento (training)** y **prueba (test)**. Este es un paso crucial para evaluar el modelo de forma objetiva, probando su rendimiento en datos que no utilizó para aprender."
   ]
  },
  {
   "cell_type": "code",
   "execution_count": 27,
   "id": "86de88c9",
   "metadata": {},
   "outputs": [
    {
     "name": "stdout",
     "output_type": "stream",
     "text": [
      "Dimensiones del conjunto de entrenamiento (X_train): (5558, 143)\n",
      "Dimensiones del conjunto de prueba (X_test): (2383, 143)\n"
     ]
    }
   ],
   "source": [
    "# 1. Separación de la variable predicha y los predictores\n",
    "y = data['ingmo2hd']\n",
    "X = data.drop('ingmo2hd', axis=1)\n",
    "\n",
    "# 2. División en conjuntos de entrenamiento (70%) y prueba (30%)\n",
    "# Usamos random_state para que la división sea reproducible\n",
    "X_train, X_test, y_train, y_test = train_test_split(X, y,\n",
    "                                                    test_size=0.30,\n",
    "                                                    random_state=42)\n",
    "\n",
    "print(f\"Dimensiones del conjunto de entrenamiento (X_train): {X_train.shape}\")\n",
    "print(f\"Dimensiones del conjunto de prueba (X_test): {X_test.shape}\")"
   ]
  },
  {
   "cell_type": "markdown",
   "id": "2bb5e54e",
   "metadata": {},
   "source": [
    "### 4. Implementación y Entrenamiento del Modelo Lasso\n",
    "\n",
    "Ahora procedemos a entrenar nuestro modelo. Utilizamos `LassoCV`, que no solo ajusta un modelo Lasso, sino que también utiliza **validación cruzada (Cross-Validation)** para encontrar el mejor hiperparámetro de penalización (`alpha`). Esto nos libera de tener que elegir un `alpha` manualmente y resulta en un modelo más robusto."
   ]
  },
  {
   "cell_type": "code",
   "execution_count": 28,
   "id": "7f38be35",
   "metadata": {},
   "outputs": [
    {
     "name": "stdout",
     "output_type": "stream",
     "text": [
      "Entrenando el modelo LassoCV... (puede tardar unos momentos)\n",
      "Entrenamiento completado.\n",
      "\n",
      "Mejor alpha encontrado: 26.7384\n"
     ]
    }
   ],
   "source": [
    "# Definimos el modelo Lasso con Validación Cruzada\n",
    "# Se probarán 200 valores de alpha en un rango logarítmico\n",
    "lasso_cv_model = LassoCV(alphas=np.logspace(-4, 4, 200), cv=5, random_state=42)\n",
    "\n",
    "# Entrenamos el modelo con los datos de entrenamiento\n",
    "print(\"Entrenando el modelo LassoCV... (puede tardar unos momentos)\")\n",
    "lasso_cv_model.fit(X_train, y_train)\n",
    "print(\"Entrenamiento completado.\")\n",
    "\n",
    "# Mostramos el mejor alpha encontrado por la validación cruzada\n",
    "print(f\"\\nMejor alpha encontrado: {lasso_cv_model.alpha_:.4f}\")"
   ]
  },
  {
   "cell_type": "markdown",
   "id": "64f6283b",
   "metadata": {},
   "source": [
    "### 5. Evaluación e Interpretación de Resultados\n",
    "\n",
    "Con el modelo ya entrenado, evaluamos su desempeño en el **conjunto de prueba**, que contiene datos que el modelo nunca antes ha visto. Esto nos da una medida honesta de su capacidad de generalización."
   ]
  },
  {
   "cell_type": "code",
   "execution_count": 29,
   "id": "037ef803",
   "metadata": {},
   "outputs": [
    {
     "name": "stdout",
     "output_type": "stream",
     "text": [
      "Raíz del Error Cuadrático Medio (RMSE) en el conjunto de prueba: 22764.85\n",
      "Coeficiente de Determinación (R²) en el conjunto de prueba: 0.3831\n"
     ]
    }
   ],
   "source": [
    "# Realizar predicciones sobre el conjunto de prueba\n",
    "y_pred_lasso = lasso_cv_model.predict(X_test)\n",
    "\n",
    "# Calcular métricas de error\n",
    "rmse_lasso = np.sqrt(mean_squared_error(y_test, y_pred_lasso))\n",
    "r2_lasso = r2_score(y_test, y_pred_lasso)\n",
    "\n",
    "print(f\"Raíz del Error Cuadrático Medio (RMSE) en el conjunto de prueba: {rmse_lasso:.2f}\")\n",
    "print(f\"Coeficiente de Determinación (R²) en el conjunto de prueba: {r2_lasso:.4f}\")"
   ]
  },
  {
   "cell_type": "markdown",
   "id": "9103d239",
   "metadata": {},
   "source": [
    "#### Análisis de Coeficientes: El Poder de la Selección de Variables\n",
    "\n",
    "El resultado más importante de Lasso para las ciencias sociales es la **interpretación de los coeficientes**. Para facilitar esto, primero crearemos un diccionario que traduce los códigos de las variables a etiquetas comprensibles."
   ]
  },
  {
   "cell_type": "code",
   "execution_count": 30,
   "id": "3275f42f",
   "metadata": {},
   "outputs": [
    {
     "name": "stdout",
     "output_type": "stream",
     "text": [
      "De 143 predictores iniciales, Lasso seleccionó 65.\n",
      "\n",
      "Predictores más importantes seleccionados por el modelo Lasso:\n",
      "                predictor_label      coef\n",
      "131                 p301a_20_11  33577.39\n",
      "41      Tiene Cuenta de Ahorros  10717.65\n",
      "42                  p558e1_2_20   9356.74\n",
      "130                 p301a_20_10   8699.01\n",
      "39                    p558a4_20   4065.22\n",
      "43                  p558e1_3_20   2399.94\n",
      "71                    p101_20_2   2226.05\n",
      "30                    p5564a_20   1789.89\n",
      "21                  p314b1_2_20   1610.94\n",
      "45                  p558e1_7_20   1595.85\n",
      "20                  p314b1_1_20   1514.62\n",
      "133                  p401f_20_2   1468.18\n",
      "44                  p558e1_6_20   1443.76\n",
      "79                    p102_20_7   1172.92\n",
      "127                  p301a_20_7   1093.54\n",
      "22                  p314b1_6_20    984.12\n",
      "59                     p4022_20    786.79\n",
      "17                      p306_20    722.40\n",
      "2    Nro. Habitaciones Vivienda    695.22\n",
      "82                   p105a_20_2    626.17\n",
      "84                   p105a_20_4    504.88\n",
      "12           Hogar con TV Cable    399.75\n",
      "15    Años de Estudio Aprobados    338.55\n",
      "100                  p113a_20_2    327.75\n",
      "107                   p209_20_2    262.90\n",
      "23                  p314b1_7_20    165.67\n",
      "1                          Edad    139.02\n",
      "139                  p558c_20_6    -25.94\n",
      "60                     p4023_20    -55.82\n",
      "49                    p558g4_20    -62.55\n",
      "10                     p1141_20    -99.27\n",
      "25                  p314b1_9_20   -147.12\n",
      "24                  p314b1_8_20   -155.30\n",
      "57    Padece Enfermedad Crónica   -169.78\n",
      "50                    p558g5_20   -176.95\n",
      "110                   p209_20_5   -177.77\n",
      "137                  p558c_20_4   -215.13\n",
      "48                    p558g3_20   -228.01\n",
      "124                  p301a_20_4   -311.23\n",
      "16                     p301d_20   -374.95\n",
      "58                     p4021_20   -379.42\n",
      "35                    p5569a_20   -468.08\n",
      "83                   p105a_20_3   -502.35\n",
      "109                   p209_20_4   -551.19\n",
      "34                    p5568a_20   -645.54\n",
      "13           Hogar con Internet   -686.43\n",
      "86                   p105a_20_6   -690.37\n",
      "40                    p558a5_20   -844.46\n",
      "101                  p113a_20_3   -854.28\n",
      "126                  p301a_20_6   -975.26\n",
      "67                     p4195_20  -1068.41\n",
      "29                    p5563a_20  -1279.76\n",
      "140                  p558c_20_7  -1461.76\n",
      "37               Afiliado a ONP  -1722.48\n",
      "138                  p558c_20_5  -1727.99\n",
      "66                     p4194_20  -2293.21\n",
      "111                   p209_20_6  -2477.34\n",
      "63                     p4191_20  -3337.28\n",
      "0                          Sexo  -3520.80\n",
      "28                    p5562a_20  -4728.30\n",
      "18                      p310_20  -5677.76\n",
      "70                     p4198_20  -9289.88\n",
      "64                     p4192_20 -12087.75\n",
      "26     Trabajó la Última Semana -14475.43\n",
      "65                     p4193_20 -22390.42\n"
     ]
    }
   ],
   "source": [
    "# Creación del diccionario para mapear códigos a etiquetas legibles\n",
    "# (Este es un subconjunto, se pueden añadir más según sea necesario)\n",
    "variable_labels = {\n",
    "    'p207_20': 'Sexo',\n",
    "    'p208a_20': 'Edad',\n",
    "    'p104_20': 'Nro. Habitaciones Vivienda',\n",
    "    'p110a1_20': 'Agua es Potable',\n",
    "    'p1121_20': 'Alumbrado: Electricidad',\n",
    "    'p1142_20': 'Hogar con Celular',\n",
    "    'p1143_20': 'Hogar con TV Cable',\n",
    "    'p1144_20': 'Hogar con Internet',\n",
    "    'p301b_20': 'Años de Estudio Aprobados',\n",
    "    'p314a_20': 'Usó Internet Último Mes',\n",
    "    'p501_20': 'Trabajó la Última Semana',\n",
    "    'p558a1_20': 'Afiliado a AFP',\n",
    "    'p558a2_20': 'Afiliado a ONP',\n",
    "    'p558e1_1_20': 'Tiene Cuenta de Ahorros',\n",
    "    'p401_20': 'Padece Enfermedad Crónica'\n",
    "}\n",
    "\n",
    "# Crear un DataFrame con los predictores y sus coeficientes\n",
    "coeficientes_lasso = pd.DataFrame({\n",
    "    'predictor_code': X.columns,\n",
    "    'coef': lasso_cv_model.coef_\n",
    "})\n",
    "\n",
    "# Mapear los códigos a las etiquetas legibles\n",
    "coeficientes_lasso['predictor_label'] = coeficientes_lasso['predictor_code'].map(variable_labels).fillna(coeficientes_lasso['predictor_code'])\n",
    "\n",
    "# Filtrar los coeficientes que no son cero y ordenar por su valor\n",
    "coeficientes_seleccionados = coeficientes_lasso[coeficientes_lasso['coef'] != 0].sort_values(by='coef', ascending=False)\n",
    "\n",
    "print(f\"De {len(coeficientes_lasso)} predictores iniciales, Lasso seleccionó {len(coeficientes_seleccionados)}.\")\n",
    "print(\"\\nPredictores más importantes seleccionados por el modelo Lasso:\")\n",
    "\n",
    "# Mostrar la tabla con etiquetas legibles\n",
    "print(coeficientes_seleccionados[['predictor_label', 'coef']].round(2))"
   ]
  },
  {
   "cell_type": "code",
   "execution_count": 31,
   "id": "f4f144e1",
   "metadata": {},
   "outputs": [
    {
     "name": "stderr",
     "output_type": "stream",
     "text": [
      "C:\\Users\\zadel\\AppData\\Local\\Temp\\ipykernel_6484\\3088531810.py:3: FutureWarning: \n",
      "\n",
      "Passing `palette` without assigning `hue` is deprecated and will be removed in v0.14.0. Assign the `y` variable to `hue` and set `legend=False` for the same effect.\n",
      "\n",
      "  sns.barplot(x='coef', y='predictor_label', data=coeficientes_seleccionados, palette='viridis')\n"
     ]
    },
    {
     "data": {
      "image/png": "[encoded data removed]",
      "text/plain": [
       "<Figure size 1200x1000 with 1 Axes>"
      ]
     },
     "metadata": {},
     "output_type": "display_data"
    }
   ],
   "source": [
    "# Visualizar los coeficientes más importantes usando las etiquetas legibles\n",
    "plt.figure(figsize=(12, 10))\n",
    "sns.barplot(x='coef', y='predictor_label', data=coeficientes_seleccionados, palette='viridis')\n",
    "plt.title('Coeficientes de las Variables Seleccionadas por el Modelo Lasso', fontsize=16)\n",
    "plt.xlabel('Valor del Coeficiente (Impacto en el Ingreso)', fontsize=12)\n",
    "plt.ylabel('Predictor', fontsize=12)\n",
    "plt.show()"
   ]
  },
  {
   "cell_type": "markdown",
   "id": "835e6f11",
   "metadata": {},
   "source": []
  }
 ],
 "metadata": {
  "kernelspec": {
   "display_name": "Python 3",
   "language": "python",
   "name": "python3"
  },
  "language_info": {
   "codemirror_mode": {
    "name": "ipython",
    "version": 3
   },
   "file_extension": ".py",
   "mimetype": "text/x-python",
   "name": "python",
   "nbconvert_exporter": "python",
   "pygments_lexer": "ipython3",
   "version": "3.13.5"
  }
 },
 "nbformat": 4,
 "nbformat_minor": 5
}
