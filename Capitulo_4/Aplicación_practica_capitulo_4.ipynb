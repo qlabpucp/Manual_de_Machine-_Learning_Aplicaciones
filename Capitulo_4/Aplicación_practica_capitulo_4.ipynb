{
 "cells": [
  {
   "cell_type": "markdown",
   "id": "fd98fee2",
   "metadata": {},
   "source": [
    "\n",
    "# Aplicación Práctica: Predicción de Ingresos con Regresión Lasso\n",
    "# \n",
    "##  Objetivo de la Actividad\n",
    "En esta actividad práctica, aprenderemos a usar la **Regresión Lasso** para predecir el ingreso monetario de una persona. Más allá de la predicción, nuestro objetivo principal es descubrir qué características socioeconómicas son las más influyentes para determinar dicho ingreso.\n",
    "\n",
    "### ¿Qué es la Regresión Lasso?\n",
    "Es una técnica de Machine Learning que realiza dos tareas simultáneamente:\n",
    "1.  **Predicción**: Crea un modelo para estimar un valor numérico (como el ingreso).\n",
    "2.  **Selección de Variables**: Identifica y descarta automáticamente las variables menos importantes.\n",
    "\n",
    "###  Hipótesis que vamos a probar:\n",
    "1.  Podemos construir un modelo que explique una parte significativa de la variación en los ingresos.\n",
    "2.  **Lasso** nos ayudará a identificar un subconjunto de variables clave de entre todas las disponibles en la encuesta.\n",
    "\n",
    "\n"
   ]
  },
  {
   "cell_type": "code",
   "execution_count": 2,
   "id": "fcdbe14b",
   "metadata": {},
   "outputs": [
    {
     "name": "stdout",
     "output_type": "stream",
     "text": [
      "✅ Librerías importadas correctamente\n",
      "📊 Configuración de gráficos lista\n",
      "🚀 ¡Listos para comenzar la actividad!\n"
     ]
    }
   ],
   "source": [
    "\n",
    "# 📚 Importar librerías necesarias\n",
    "# NumPy: Para operaciones matemáticas y arrays\n",
    "import numpy as np\n",
    "\n",
    "# Pandas: Para manipulación y análisis de datos\n",
    "import pandas as pd\n",
    "\n",
    "# Matplotlib y Seaborn: Para visualizaciones de alta calidad\n",
    "import matplotlib.pyplot as plt\n",
    "import seaborn as sns\n",
    "\n",
    "# Scikit-learn: Nuestra librería principal de Machine Learning\n",
    "from sklearn.model_selection import train_test_split\n",
    "from sklearn.linear_model import LassoCV\n",
    "from sklearn.metrics import mean_squared_error, r2_score\n",
    "\n",
    "#  Configurar estilo de gráficos para que se vean más profesionales\n",
    "plt.style.use('seaborn-v0_8-whitegrid')\n",
    "sns.set_palette(\"viridis\")\n",
    "\n",
    "print(\"✅ Librerías importadas correctamente\")\n",
    "print(\"📊 Configuración de gráficos lista\")\n",
    "print(\"🚀 ¡Listos para comenzar la actividad!\")\n"
   ]
  },
  {
   "cell_type": "markdown",
   "id": "07bcf81f",
   "metadata": {},
   "source": [
    "\n",
    "## Paso 1: Carga y Exploración de los Datos\n",
    "\n",
    "### ¿Qué datos estamos usando?\n",
    "Vamos a cargar un archivo llamado `data_processed_income_2.csv`. Este no es el archivo original de la encuesta, sino una versión que ya ha sido preparada para el modelado.\n",
    " \n",
    "###  Concepto Importante: Preprocesamiento\n",
    "El preprocesamiento es el conjunto de pasos que se realizan para limpiar y transformar los datos antes de dárselos a un modelo. En nuestro caso, el preprocesamiento incluyó:\n",
    "\n",
    "1.  **Filtrado**: Se eliminaron las personas con ingreso cero para simplificar el problema.\n",
    "2.  **Transformación Logarítmica**: La variable de ingreso fue transformada para que su distribución sea más simétrica, lo que ayuda a los modelos lineales.\n",
    "3.  **Estandarización y Codificación**: Las variables numéricas se pusieron en la misma escala y las categóricas se convirtieron a un formato numérico.\n",
    "\n",
    ">  **Nota:** La calidad del preprocesamiento es a menudo más importante que la elección del modelo en sí.\n"
   ]
  },
  {
   "cell_type": "code",
   "execution_count": 3,
   "id": "ece3b6a1",
   "metadata": {},
   "outputs": [
    {
     "name": "stdout",
     "output_type": "stream",
     "text": [
      "✅ Datos preprocesados cargados exitosamente.\n",
      "📊 Dimensiones del dataset: 6193 filas y 130 columnas.\n",
      "\n",
      "📋 Primeras 5 filas del dataset procesado:\n"
     ]
    },
    {
     "data": {
      "application/vnd.microsoft.datawrangler.viewer.v0+json": {
       "columns": [
        {
         "name": "index",
         "rawType": "int64",
         "type": "integer"
        },
        {
         "name": "num__p208a_20",
         "rawType": "float64",
         "type": "float"
        },
        {
         "name": "num__p104_20",
         "rawType": "float64",
         "type": "float"
        },
        {
         "name": "num__p301b_20",
         "rawType": "float64",
         "type": "float"
        },
        {
         "name": "cat__p207_20_2",
         "rawType": "float64",
         "type": "float"
        },
        {
         "name": "cat__p110a1_20_2",
         "rawType": "float64",
         "type": "float"
        },
        {
         "name": "cat__p1121_20_1",
         "rawType": "float64",
         "type": "float"
        },
        {
         "name": "cat__p1124_20_1",
         "rawType": "float64",
         "type": "float"
        },
        {
         "name": "cat__p1125_20_1",
         "rawType": "float64",
         "type": "float"
        },
        {
         "name": "cat__p1126_20_1",
         "rawType": "float64",
         "type": "float"
        },
        {
         "name": "cat__p1127_20_1",
         "rawType": "float64",
         "type": "float"
        },
        {
         "name": "cat__p1141_20_1",
         "rawType": "float64",
         "type": "float"
        },
        {
         "name": "cat__p1142_20_1",
         "rawType": "float64",
         "type": "float"
        },
        {
         "name": "cat__p1143_20_1",
         "rawType": "float64",
         "type": "float"
        },
        {
         "name": "cat__p1144_20_1",
         "rawType": "float64",
         "type": "float"
        },
        {
         "name": "cat__p1145_20_1",
         "rawType": "float64",
         "type": "float"
        },
        {
         "name": "cat__p301d_20_2",
         "rawType": "float64",
         "type": "float"
        },
        {
         "name": "cat__p306_20_2",
         "rawType": "float64",
         "type": "float"
        },
        {
         "name": "cat__p310_20_2",
         "rawType": "float64",
         "type": "float"
        },
        {
         "name": "cat__p314b1_1_20_1",
         "rawType": "float64",
         "type": "float"
        },
        {
         "name": "cat__p314b1_2_20_2",
         "rawType": "float64",
         "type": "float"
        },
        {
         "name": "cat__p314b1_6_20_6",
         "rawType": "float64",
         "type": "float"
        },
        {
         "name": "cat__p314b1_7_20_7",
         "rawType": "float64",
         "type": "float"
        },
        {
         "name": "cat__p314b1_8_20_8",
         "rawType": "float64",
         "type": "float"
        },
        {
         "name": "cat__p314b1_9_20_9",
         "rawType": "float64",
         "type": "float"
        },
        {
         "name": "cat__p501_20_2",
         "rawType": "float64",
         "type": "float"
        },
        {
         "name": "cat__p5561a_20_2",
         "rawType": "float64",
         "type": "float"
        },
        {
         "name": "cat__p5562a_20_2",
         "rawType": "float64",
         "type": "float"
        },
        {
         "name": "cat__p5563a_20_2",
         "rawType": "float64",
         "type": "float"
        },
        {
         "name": "cat__p5564a_20_2",
         "rawType": "float64",
         "type": "float"
        },
        {
         "name": "cat__p5565a_20_2",
         "rawType": "float64",
         "type": "float"
        },
        {
         "name": "cat__p5566a_20_2",
         "rawType": "float64",
         "type": "float"
        },
        {
         "name": "cat__p5568a_20_2",
         "rawType": "float64",
         "type": "float"
        },
        {
         "name": "cat__p5569a_20_2",
         "rawType": "float64",
         "type": "float"
        },
        {
         "name": "cat__p558a1_20_1",
         "rawType": "float64",
         "type": "float"
        },
        {
         "name": "cat__p558a2_20_2",
         "rawType": "float64",
         "type": "float"
        },
        {
         "name": "cat__p558a3_20_3",
         "rawType": "float64",
         "type": "float"
        },
        {
         "name": "cat__p558a4_20_4",
         "rawType": "float64",
         "type": "float"
        },
        {
         "name": "cat__p558a5_20_5",
         "rawType": "float64",
         "type": "float"
        },
        {
         "name": "cat__p558e1_1_20_1",
         "rawType": "float64",
         "type": "float"
        },
        {
         "name": "cat__p558e1_2_20_2",
         "rawType": "float64",
         "type": "float"
        },
        {
         "name": "cat__p558e1_3_20_3",
         "rawType": "float64",
         "type": "float"
        },
        {
         "name": "cat__p558e1_6_20_6",
         "rawType": "float64",
         "type": "float"
        },
        {
         "name": "cat__p558e1_7_20_7",
         "rawType": "float64",
         "type": "float"
        },
        {
         "name": "cat__p558g1_20_1",
         "rawType": "float64",
         "type": "float"
        },
        {
         "name": "cat__p558g2_20_2",
         "rawType": "float64",
         "type": "float"
        },
        {
         "name": "cat__p558g3_20_3",
         "rawType": "float64",
         "type": "float"
        },
        {
         "name": "cat__p558g4_20_4",
         "rawType": "float64",
         "type": "float"
        },
        {
         "name": "cat__p558g5_20_5",
         "rawType": "float64",
         "type": "float"
        },
        {
         "name": "cat__p401h1_20_2",
         "rawType": "float64",
         "type": "float"
        },
        {
         "name": "cat__p401h2_20_2",
         "rawType": "float64",
         "type": "float"
        },
        {
         "name": "cat__p401h3_20_2",
         "rawType": "float64",
         "type": "float"
        },
        {
         "name": "cat__p401h4_20_2",
         "rawType": "float64",
         "type": "float"
        },
        {
         "name": "cat__p401h5_20_2",
         "rawType": "float64",
         "type": "float"
        },
        {
         "name": "cat__p401h6_20_2",
         "rawType": "float64",
         "type": "float"
        },
        {
         "name": "cat__p401_20_2",
         "rawType": "float64",
         "type": "float"
        },
        {
         "name": "cat__p4021_20_1",
         "rawType": "float64",
         "type": "float"
        },
        {
         "name": "cat__p4022_20_1",
         "rawType": "float64",
         "type": "float"
        },
        {
         "name": "cat__p4023_20_1",
         "rawType": "float64",
         "type": "float"
        },
        {
         "name": "cat__p4024_20_1",
         "rawType": "float64",
         "type": "float"
        },
        {
         "name": "cat__p4025_20_1",
         "rawType": "float64",
         "type": "float"
        },
        {
         "name": "cat__p4191_20_2",
         "rawType": "float64",
         "type": "float"
        },
        {
         "name": "cat__p4192_20_2",
         "rawType": "float64",
         "type": "float"
        },
        {
         "name": "cat__p4193_20_2",
         "rawType": "float64",
         "type": "float"
        },
        {
         "name": "cat__p4194_20_2",
         "rawType": "float64",
         "type": "float"
        },
        {
         "name": "cat__p4195_20_2",
         "rawType": "float64",
         "type": "float"
        },
        {
         "name": "cat__p4196_20_2",
         "rawType": "float64",
         "type": "float"
        },
        {
         "name": "cat__p4197_20_2",
         "rawType": "float64",
         "type": "float"
        },
        {
         "name": "cat__p4198_20_2",
         "rawType": "float64",
         "type": "float"
        },
        {
         "name": "cat__p101_20_2_1",
         "rawType": "float64",
         "type": "float"
        },
        {
         "name": "cat__p101_20_3_1",
         "rawType": "float64",
         "type": "float"
        },
        {
         "name": "cat__p101_20_4_1",
         "rawType": "float64",
         "type": "float"
        },
        {
         "name": "cat__p102_20_2_1",
         "rawType": "float64",
         "type": "float"
        },
        {
         "name": "cat__p102_20_3_1",
         "rawType": "float64",
         "type": "float"
        },
        {
         "name": "cat__p102_20_5_1",
         "rawType": "float64",
         "type": "float"
        },
        {
         "name": "cat__p102_20_6_1",
         "rawType": "float64",
         "type": "float"
        },
        {
         "name": "cat__p102_20_7_1",
         "rawType": "float64",
         "type": "float"
        },
        {
         "name": "cat__p102_20_8_1",
         "rawType": "float64",
         "type": "float"
        },
        {
         "name": "cat__p102_20_9_1",
         "rawType": "float64",
         "type": "float"
        },
        {
         "name": "cat__p105a_20_2_1",
         "rawType": "float64",
         "type": "float"
        },
        {
         "name": "cat__p105a_20_3_1",
         "rawType": "float64",
         "type": "float"
        },
        {
         "name": "cat__p105a_20_4_1",
         "rawType": "float64",
         "type": "float"
        },
        {
         "name": "cat__p105a_20_5_1",
         "rawType": "float64",
         "type": "float"
        },
        {
         "name": "cat__p105a_20_6_1",
         "rawType": "float64",
         "type": "float"
        },
        {
         "name": "cat__p110_20_2_1",
         "rawType": "float64",
         "type": "float"
        },
        {
         "name": "cat__p110_20_3_1",
         "rawType": "float64",
         "type": "float"
        },
        {
         "name": "cat__p111a_20_2_1",
         "rawType": "float64",
         "type": "float"
        },
        {
         "name": "cat__p111a_20_3_1",
         "rawType": "float64",
         "type": "float"
        },
        {
         "name": "cat__p111a_20_4_1",
         "rawType": "float64",
         "type": "float"
        },
        {
         "name": "cat__p111a_20_5_1",
         "rawType": "float64",
         "type": "float"
        },
        {
         "name": "cat__p111a_20_7_1",
         "rawType": "float64",
         "type": "float"
        },
        {
         "name": "cat__p113a_20_2_1",
         "rawType": "float64",
         "type": "float"
        },
        {
         "name": "cat__p113a_20_3_1",
         "rawType": "float64",
         "type": "float"
        },
        {
         "name": "cat__p113a_20_5_1",
         "rawType": "float64",
         "type": "float"
        },
        {
         "name": "cat__p113a_20_6_1",
         "rawType": "float64",
         "type": "float"
        },
        {
         "name": "cat__p113a_20_7_1",
         "rawType": "float64",
         "type": "float"
        },
        {
         "name": "cat__p209_20_2_1",
         "rawType": "float64",
         "type": "float"
        },
        {
         "name": "cat__p209_20_3_1",
         "rawType": "float64",
         "type": "float"
        },
        {
         "name": "cat__p209_20_4_1",
         "rawType": "float64",
         "type": "float"
        },
        {
         "name": "cat__p209_20_5_1",
         "rawType": "float64",
         "type": "float"
        },
        {
         "name": "cat__p209_20_6_1",
         "rawType": "float64",
         "type": "float"
        },
        {
         "name": "cat__p300a_20_2_1",
         "rawType": "float64",
         "type": "float"
        },
        {
         "name": "cat__p300a_20_3_1",
         "rawType": "float64",
         "type": "float"
        },
        {
         "name": "cat__p300a_20_4_1",
         "rawType": "float64",
         "type": "float"
        },
        {
         "name": "cat__p300a_20_6_1",
         "rawType": "float64",
         "type": "float"
        },
        {
         "name": "cat__p300a_20_7_1",
         "rawType": "float64",
         "type": "float"
        },
        {
         "name": "cat__p300a_20_8_1",
         "rawType": "float64",
         "type": "float"
        },
        {
         "name": "cat__p300a_20_9_1",
         "rawType": "float64",
         "type": "float"
        },
        {
         "name": "cat__p300a_20_11_1",
         "rawType": "float64",
         "type": "float"
        },
        {
         "name": "cat__p300a_20_14_1",
         "rawType": "float64",
         "type": "float"
        },
        {
         "name": "cat__p300a_20_15_1",
         "rawType": "float64",
         "type": "float"
        },
        {
         "name": "cat__p301a_20_3_1",
         "rawType": "float64",
         "type": "float"
        },
        {
         "name": "cat__p301a_20_4_1",
         "rawType": "float64",
         "type": "float"
        },
        {
         "name": "cat__p301a_20_5_1",
         "rawType": "float64",
         "type": "float"
        },
        {
         "name": "cat__p301a_20_6_1",
         "rawType": "float64",
         "type": "float"
        },
        {
         "name": "cat__p301a_20_7_1",
         "rawType": "float64",
         "type": "float"
        },
        {
         "name": "cat__p301a_20_8_1",
         "rawType": "float64",
         "type": "float"
        },
        {
         "name": "cat__p301a_20_9_1",
         "rawType": "float64",
         "type": "float"
        },
        {
         "name": "cat__p301a_20_10_1",
         "rawType": "float64",
         "type": "float"
        },
        {
         "name": "cat__p301a_20_11_1",
         "rawType": "float64",
         "type": "float"
        },
        {
         "name": "cat__p301a_20_12_1",
         "rawType": "float64",
         "type": "float"
        },
        {
         "name": "cat__p401f_20_2_1",
         "rawType": "float64",
         "type": "float"
        },
        {
         "name": "cat__p558c_20_2_1",
         "rawType": "float64",
         "type": "float"
        },
        {
         "name": "cat__p558c_20_3_1",
         "rawType": "float64",
         "type": "float"
        },
        {
         "name": "cat__p558c_20_4_1",
         "rawType": "float64",
         "type": "float"
        },
        {
         "name": "cat__p558c_20_5_1",
         "rawType": "float64",
         "type": "float"
        },
        {
         "name": "cat__p558c_20_6_1",
         "rawType": "float64",
         "type": "float"
        },
        {
         "name": "cat__p558c_20_7_1",
         "rawType": "float64",
         "type": "float"
        },
        {
         "name": "cat__p558c_20_8_1",
         "rawType": "float64",
         "type": "float"
        },
        {
         "name": "cat__p558c_20_9_1",
         "rawType": "float64",
         "type": "float"
        },
        {
         "name": "log_ingmo2hd",
         "rawType": "float64",
         "type": "float"
        }
       ],
       "ref": "c49ccc48-5415-4779-8149-3dd59871a9e6",
       "rows": [
        [
         "0",
         "0.8921670227484464",
         "-0.5895746359286274",
         "0.7696871158930635",
         "1.0",
         "0.0",
         "1.0",
         "0.0",
         "0.0",
         "0.0",
         "0.0",
         "0.0",
         "1.0",
         "0.0",
         "1.0",
         "0.0",
         "0.0",
         "1.0",
         "1.0",
         "0.0",
         "0.0",
         "0.0",
         "0.0",
         "1.0",
         "0.0",
         "1.0",
         "1.0",
         "1.0",
         "0.0",
         "1.0",
         "1.0",
         "1.0",
         "1.0",
         "1.0",
         "0.0",
         "0.0",
         "0.0",
         "0.0",
         "1.0",
         "0.0",
         "0.0",
         "0.0",
         "1.0",
         "0.0",
         "0.0",
         "0.0",
         "1.0",
         "0.0",
         "0.0",
         "1.0",
         "1.0",
         "1.0",
         "1.0",
         "1.0",
         "1.0",
         "0.0",
         "1.0",
         "1.0",
         "1.0",
         "0.0",
         "0.0",
         "1.0",
         "1.0",
         "1.0",
         "1.0",
         "1.0",
         "1.0",
         "1.0",
         "1.0",
         "0.0",
         "0.0",
         "0.0",
         "0.0",
         "0.0",
         "0.0",
         "0.0",
         "1.0",
         "0.0",
         "0.0",
         "1.0",
         "0.0",
         "0.0",
         "0.0",
         "0.0",
         "0.0",
         "0.0",
         "0.0",
         "0.0",
         "0.0",
         "0.0",
         "0.0",
         "1.0",
         "0.0",
         "0.0",
         "0.0",
         "0.0",
         "0.0",
         "0.0",
         "0.0",
         "1.0",
         "0.0",
         "0.0",
         "0.0",
         "0.0",
         "0.0",
         "0.0",
         "0.0",
         "0.0",
         "0.0",
         "0.0",
         "0.0",
         "0.0",
         "0.0",
         "0.0",
         "1.0",
         "0.0",
         "0.0",
         "0.0",
         "0.0",
         "0.0",
         "0.0",
         "0.0",
         "0.0",
         "0.0",
         "0.0",
         "0.0",
         "1.0",
         "0.0",
         "0.0",
         "0.0",
         "8.9851948179913"
        ],
        [
         "1",
         "-1.2000394441737745",
         "-0.5895746359286274",
         "-0.5586317662932935",
         "0.0",
         "0.0",
         "1.0",
         "0.0",
         "0.0",
         "0.0",
         "0.0",
         "0.0",
         "1.0",
         "0.0",
         "1.0",
         "0.0",
         "0.0",
         "0.0",
         "1.0",
         "0.0",
         "0.0",
         "0.0",
         "0.0",
         "1.0",
         "0.0",
         "1.0",
         "1.0",
         "1.0",
         "0.0",
         "1.0",
         "1.0",
         "1.0",
         "1.0",
         "1.0",
         "0.0",
         "0.0",
         "0.0",
         "0.0",
         "1.0",
         "1.0",
         "0.0",
         "0.0",
         "0.0",
         "0.0",
         "0.0",
         "0.0",
         "0.0",
         "0.0",
         "1.0",
         "1.0",
         "1.0",
         "1.0",
         "1.0",
         "1.0",
         "1.0",
         "1.0",
         "0.0",
         "0.0",
         "0.0",
         "0.0",
         "1.0",
         "1.0",
         "1.0",
         "1.0",
         "1.0",
         "0.0",
         "1.0",
         "1.0",
         "1.0",
         "0.0",
         "0.0",
         "0.0",
         "0.0",
         "0.0",
         "0.0",
         "0.0",
         "1.0",
         "0.0",
         "0.0",
         "1.0",
         "0.0",
         "0.0",
         "0.0",
         "0.0",
         "0.0",
         "0.0",
         "0.0",
         "0.0",
         "0.0",
         "0.0",
         "0.0",
         "1.0",
         "0.0",
         "0.0",
         "0.0",
         "0.0",
         "0.0",
         "0.0",
         "0.0",
         "0.0",
         "1.0",
         "0.0",
         "0.0",
         "1.0",
         "0.0",
         "0.0",
         "0.0",
         "0.0",
         "0.0",
         "0.0",
         "0.0",
         "0.0",
         "0.0",
         "0.0",
         "0.0",
         "0.0",
         "0.0",
         "1.0",
         "0.0",
         "0.0",
         "0.0",
         "0.0",
         "0.0",
         "0.0",
         "0.0",
         "0.0",
         "0.0",
         "1.0",
         "0.0",
         "0.0",
         "7.093404625868766"
        ],
        [
         "2",
         "0.6306412143831688",
         "-0.0074260835839222",
         "-2.551110089572829",
         "1.0",
         "0.0",
         "1.0",
         "0.0",
         "0.0",
         "0.0",
         "0.0",
         "0.0",
         "1.0",
         "0.0",
         "0.0",
         "0.0",
         "0.0",
         "1.0",
         "1.0",
         "0.0",
         "0.0",
         "0.0",
         "0.0",
         "1.0",
         "0.0",
         "0.0",
         "1.0",
         "1.0",
         "1.0",
         "1.0",
         "1.0",
         "1.0",
         "1.0",
         "1.0",
         "0.0",
         "0.0",
         "0.0",
         "0.0",
         "1.0",
         "0.0",
         "0.0",
         "0.0",
         "1.0",
         "0.0",
         "0.0",
         "0.0",
         "0.0",
         "0.0",
         "1.0",
         "1.0",
         "1.0",
         "1.0",
         "1.0",
         "1.0",
         "1.0",
         "0.0",
         "1.0",
         "0.0",
         "0.0",
         "0.0",
         "0.0",
         "1.0",
         "1.0",
         "1.0",
         "1.0",
         "0.0",
         "1.0",
         "1.0",
         "1.0",
         "0.0",
         "0.0",
         "0.0",
         "0.0",
         "0.0",
         "0.0",
         "0.0",
         "0.0",
         "0.0",
         "1.0",
         "1.0",
         "0.0",
         "0.0",
         "0.0",
         "0.0",
         "0.0",
         "0.0",
         "0.0",
         "0.0",
         "0.0",
         "0.0",
         "0.0",
         "1.0",
         "0.0",
         "0.0",
         "0.0",
         "0.0",
         "0.0",
         "0.0",
         "0.0",
         "1.0",
         "0.0",
         "0.0",
         "0.0",
         "0.0",
         "0.0",
         "0.0",
         "0.0",
         "0.0",
         "0.0",
         "0.0",
         "0.0",
         "0.0",
         "1.0",
         "0.0",
         "0.0",
         "0.0",
         "0.0",
         "0.0",
         "0.0",
         "0.0",
         "0.0",
         "0.0",
         "0.0",
         "0.0",
         "0.0",
         "0.0",
         "0.0",
         "1.0",
         "0.0",
         "0.0",
         "9.052984561199976"
        ],
        [
         "3",
         "0.7614041185658076",
         "-0.5895746359286274",
         "0.7696871158930635",
         "1.0",
         "0.0",
         "1.0",
         "0.0",
         "0.0",
         "0.0",
         "0.0",
         "0.0",
         "1.0",
         "0.0",
         "1.0",
         "0.0",
         "0.0",
         "1.0",
         "1.0",
         "0.0",
         "0.0",
         "0.0",
         "0.0",
         "0.0",
         "1.0",
         "0.0",
         "1.0",
         "1.0",
         "1.0",
         "1.0",
         "1.0",
         "1.0",
         "1.0",
         "1.0",
         "0.0",
         "1.0",
         "0.0",
         "0.0",
         "0.0",
         "0.0",
         "0.0",
         "0.0",
         "1.0",
         "0.0",
         "0.0",
         "0.0",
         "1.0",
         "0.0",
         "0.0",
         "1.0",
         "1.0",
         "1.0",
         "1.0",
         "1.0",
         "1.0",
         "0.0",
         "0.0",
         "0.0",
         "0.0",
         "0.0",
         "1.0",
         "0.0",
         "1.0",
         "1.0",
         "1.0",
         "1.0",
         "1.0",
         "1.0",
         "1.0",
         "0.0",
         "0.0",
         "0.0",
         "0.0",
         "0.0",
         "0.0",
         "0.0",
         "1.0",
         "0.0",
         "0.0",
         "1.0",
         "0.0",
         "0.0",
         "0.0",
         "0.0",
         "0.0",
         "0.0",
         "0.0",
         "0.0",
         "0.0",
         "0.0",
         "0.0",
         "0.0",
         "1.0",
         "0.0",
         "0.0",
         "0.0",
         "0.0",
         "0.0",
         "0.0",
         "0.0",
         "0.0",
         "0.0",
         "0.0",
         "1.0",
         "0.0",
         "0.0",
         "0.0",
         "0.0",
         "0.0",
         "0.0",
         "0.0",
         "0.0",
         "0.0",
         "0.0",
         "1.0",
         "0.0",
         "0.0",
         "0.0",
         "0.0",
         "0.0",
         "0.0",
         "0.0",
         "0.0",
         "0.0",
         "0.0",
         "1.0",
         "0.0",
         "0.0",
         "0.0",
         "0.0",
         "9.699472381656918"
        ],
        [
         "4",
         "1.0229299269310852",
         "-0.0074260835839222",
         "-1.222791207386472",
         "1.0",
         "0.0",
         "1.0",
         "0.0",
         "0.0",
         "0.0",
         "0.0",
         "0.0",
         "1.0",
         "0.0",
         "1.0",
         "0.0",
         "0.0",
         "1.0",
         "1.0",
         "0.0",
         "0.0",
         "0.0",
         "0.0",
         "1.0",
         "0.0",
         "1.0",
         "1.0",
         "1.0",
         "0.0",
         "1.0",
         "1.0",
         "1.0",
         "1.0",
         "1.0",
         "0.0",
         "0.0",
         "0.0",
         "0.0",
         "1.0",
         "0.0",
         "0.0",
         "0.0",
         "1.0",
         "0.0",
         "0.0",
         "0.0",
         "1.0",
         "0.0",
         "0.0",
         "1.0",
         "1.0",
         "1.0",
         "1.0",
         "1.0",
         "1.0",
         "0.0",
         "0.0",
         "1.0",
         "1.0",
         "0.0",
         "0.0",
         "1.0",
         "1.0",
         "1.0",
         "1.0",
         "0.0",
         "1.0",
         "1.0",
         "1.0",
         "0.0",
         "0.0",
         "0.0",
         "0.0",
         "0.0",
         "0.0",
         "0.0",
         "1.0",
         "0.0",
         "0.0",
         "1.0",
         "0.0",
         "0.0",
         "0.0",
         "0.0",
         "0.0",
         "0.0",
         "0.0",
         "0.0",
         "0.0",
         "0.0",
         "0.0",
         "0.0",
         "1.0",
         "0.0",
         "0.0",
         "0.0",
         "0.0",
         "1.0",
         "0.0",
         "0.0",
         "0.0",
         "0.0",
         "0.0",
         "1.0",
         "0.0",
         "0.0",
         "0.0",
         "0.0",
         "0.0",
         "0.0",
         "0.0",
         "1.0",
         "0.0",
         "0.0",
         "0.0",
         "0.0",
         "0.0",
         "0.0",
         "0.0",
         "0.0",
         "0.0",
         "0.0",
         "0.0",
         "0.0",
         "0.0",
         "1.0",
         "0.0",
         "0.0",
         "0.0",
         "0.0",
         "8.47886807709457"
        ]
       ],
       "shape": {
        "columns": 130,
        "rows": 5
       }
      },
      "text/html": [
       "<div>\n",
       "<style scoped>\n",
       "    .dataframe tbody tr th:only-of-type {\n",
       "        vertical-align: middle;\n",
       "    }\n",
       "\n",
       "    .dataframe tbody tr th {\n",
       "        vertical-align: top;\n",
       "    }\n",
       "\n",
       "    .dataframe thead th {\n",
       "        text-align: right;\n",
       "    }\n",
       "</style>\n",
       "<table border=\"1\" class=\"dataframe\">\n",
       "  <thead>\n",
       "    <tr style=\"text-align: right;\">\n",
       "      <th></th>\n",
       "      <th>num__p208a_20</th>\n",
       "      <th>num__p104_20</th>\n",
       "      <th>num__p301b_20</th>\n",
       "      <th>cat__p207_20_2</th>\n",
       "      <th>cat__p110a1_20_2</th>\n",
       "      <th>cat__p1121_20_1</th>\n",
       "      <th>cat__p1124_20_1</th>\n",
       "      <th>cat__p1125_20_1</th>\n",
       "      <th>cat__p1126_20_1</th>\n",
       "      <th>cat__p1127_20_1</th>\n",
       "      <th>...</th>\n",
       "      <th>cat__p401f_20_2_1</th>\n",
       "      <th>cat__p558c_20_2_1</th>\n",
       "      <th>cat__p558c_20_3_1</th>\n",
       "      <th>cat__p558c_20_4_1</th>\n",
       "      <th>cat__p558c_20_5_1</th>\n",
       "      <th>cat__p558c_20_6_1</th>\n",
       "      <th>cat__p558c_20_7_1</th>\n",
       "      <th>cat__p558c_20_8_1</th>\n",
       "      <th>cat__p558c_20_9_1</th>\n",
       "      <th>log_ingmo2hd</th>\n",
       "    </tr>\n",
       "  </thead>\n",
       "  <tbody>\n",
       "    <tr>\n",
       "      <th>0</th>\n",
       "      <td>0.892167</td>\n",
       "      <td>-0.589575</td>\n",
       "      <td>0.769687</td>\n",
       "      <td>1.0</td>\n",
       "      <td>0.0</td>\n",
       "      <td>1.0</td>\n",
       "      <td>0.0</td>\n",
       "      <td>0.0</td>\n",
       "      <td>0.0</td>\n",
       "      <td>0.0</td>\n",
       "      <td>...</td>\n",
       "      <td>0.0</td>\n",
       "      <td>0.0</td>\n",
       "      <td>0.0</td>\n",
       "      <td>0.0</td>\n",
       "      <td>0.0</td>\n",
       "      <td>1.0</td>\n",
       "      <td>0.0</td>\n",
       "      <td>0.0</td>\n",
       "      <td>0.0</td>\n",
       "      <td>8.985195</td>\n",
       "    </tr>\n",
       "    <tr>\n",
       "      <th>1</th>\n",
       "      <td>-1.200039</td>\n",
       "      <td>-0.589575</td>\n",
       "      <td>-0.558632</td>\n",
       "      <td>0.0</td>\n",
       "      <td>0.0</td>\n",
       "      <td>1.0</td>\n",
       "      <td>0.0</td>\n",
       "      <td>0.0</td>\n",
       "      <td>0.0</td>\n",
       "      <td>0.0</td>\n",
       "      <td>...</td>\n",
       "      <td>0.0</td>\n",
       "      <td>0.0</td>\n",
       "      <td>0.0</td>\n",
       "      <td>0.0</td>\n",
       "      <td>0.0</td>\n",
       "      <td>0.0</td>\n",
       "      <td>1.0</td>\n",
       "      <td>0.0</td>\n",
       "      <td>0.0</td>\n",
       "      <td>7.093405</td>\n",
       "    </tr>\n",
       "    <tr>\n",
       "      <th>2</th>\n",
       "      <td>0.630641</td>\n",
       "      <td>-0.007426</td>\n",
       "      <td>-2.551110</td>\n",
       "      <td>1.0</td>\n",
       "      <td>0.0</td>\n",
       "      <td>1.0</td>\n",
       "      <td>0.0</td>\n",
       "      <td>0.0</td>\n",
       "      <td>0.0</td>\n",
       "      <td>0.0</td>\n",
       "      <td>...</td>\n",
       "      <td>0.0</td>\n",
       "      <td>0.0</td>\n",
       "      <td>0.0</td>\n",
       "      <td>0.0</td>\n",
       "      <td>0.0</td>\n",
       "      <td>0.0</td>\n",
       "      <td>1.0</td>\n",
       "      <td>0.0</td>\n",
       "      <td>0.0</td>\n",
       "      <td>9.052985</td>\n",
       "    </tr>\n",
       "    <tr>\n",
       "      <th>3</th>\n",
       "      <td>0.761404</td>\n",
       "      <td>-0.589575</td>\n",
       "      <td>0.769687</td>\n",
       "      <td>1.0</td>\n",
       "      <td>0.0</td>\n",
       "      <td>1.0</td>\n",
       "      <td>0.0</td>\n",
       "      <td>0.0</td>\n",
       "      <td>0.0</td>\n",
       "      <td>0.0</td>\n",
       "      <td>...</td>\n",
       "      <td>0.0</td>\n",
       "      <td>0.0</td>\n",
       "      <td>0.0</td>\n",
       "      <td>0.0</td>\n",
       "      <td>1.0</td>\n",
       "      <td>0.0</td>\n",
       "      <td>0.0</td>\n",
       "      <td>0.0</td>\n",
       "      <td>0.0</td>\n",
       "      <td>9.699472</td>\n",
       "    </tr>\n",
       "    <tr>\n",
       "      <th>4</th>\n",
       "      <td>1.022930</td>\n",
       "      <td>-0.007426</td>\n",
       "      <td>-1.222791</td>\n",
       "      <td>1.0</td>\n",
       "      <td>0.0</td>\n",
       "      <td>1.0</td>\n",
       "      <td>0.0</td>\n",
       "      <td>0.0</td>\n",
       "      <td>0.0</td>\n",
       "      <td>0.0</td>\n",
       "      <td>...</td>\n",
       "      <td>0.0</td>\n",
       "      <td>0.0</td>\n",
       "      <td>0.0</td>\n",
       "      <td>0.0</td>\n",
       "      <td>1.0</td>\n",
       "      <td>0.0</td>\n",
       "      <td>0.0</td>\n",
       "      <td>0.0</td>\n",
       "      <td>0.0</td>\n",
       "      <td>8.478868</td>\n",
       "    </tr>\n",
       "  </tbody>\n",
       "</table>\n",
       "<p>5 rows × 130 columns</p>\n",
       "</div>"
      ],
      "text/plain": [
       "   num__p208a_20  num__p104_20  num__p301b_20  cat__p207_20_2  \\\n",
       "0       0.892167     -0.589575       0.769687             1.0   \n",
       "1      -1.200039     -0.589575      -0.558632             0.0   \n",
       "2       0.630641     -0.007426      -2.551110             1.0   \n",
       "3       0.761404     -0.589575       0.769687             1.0   \n",
       "4       1.022930     -0.007426      -1.222791             1.0   \n",
       "\n",
       "   cat__p110a1_20_2  cat__p1121_20_1  cat__p1124_20_1  cat__p1125_20_1  \\\n",
       "0               0.0              1.0              0.0              0.0   \n",
       "1               0.0              1.0              0.0              0.0   \n",
       "2               0.0              1.0              0.0              0.0   \n",
       "3               0.0              1.0              0.0              0.0   \n",
       "4               0.0              1.0              0.0              0.0   \n",
       "\n",
       "   cat__p1126_20_1  cat__p1127_20_1  ...  cat__p401f_20_2_1  \\\n",
       "0              0.0              0.0  ...                0.0   \n",
       "1              0.0              0.0  ...                0.0   \n",
       "2              0.0              0.0  ...                0.0   \n",
       "3              0.0              0.0  ...                0.0   \n",
       "4              0.0              0.0  ...                0.0   \n",
       "\n",
       "   cat__p558c_20_2_1  cat__p558c_20_3_1  cat__p558c_20_4_1  cat__p558c_20_5_1  \\\n",
       "0                0.0                0.0                0.0                0.0   \n",
       "1                0.0                0.0                0.0                0.0   \n",
       "2                0.0                0.0                0.0                0.0   \n",
       "3                0.0                0.0                0.0                1.0   \n",
       "4                0.0                0.0                0.0                1.0   \n",
       "\n",
       "   cat__p558c_20_6_1  cat__p558c_20_7_1  cat__p558c_20_8_1  cat__p558c_20_9_1  \\\n",
       "0                1.0                0.0                0.0                0.0   \n",
       "1                0.0                1.0                0.0                0.0   \n",
       "2                0.0                1.0                0.0                0.0   \n",
       "3                0.0                0.0                0.0                0.0   \n",
       "4                0.0                0.0                0.0                0.0   \n",
       "\n",
       "   log_ingmo2hd  \n",
       "0      8.985195  \n",
       "1      7.093405  \n",
       "2      9.052985  \n",
       "3      9.699472  \n",
       "4      8.478868  \n",
       "\n",
       "[5 rows x 130 columns]"
      ]
     },
     "metadata": {},
     "output_type": "display_data"
    }
   ],
   "source": [
    "\n",
    "# 📂 Cargar los datos ya procesados desde el archivo CSV\n",
    "try:\n",
    "    data = pd.read_csv(\"predict_income_2020_2.csv\")\n",
    "    print(f\"✅ Datos preprocesados cargados exitosamente.\")\n",
    "    print(f\"📊 Dimensiones del dataset: {data.shape[0]} filas y {data.shape[1]} columnas.\")\n",
    "except FileNotFoundError:\n",
    "    print(\"❌ Error: El archivo 'predict_income_2020_2.csv' no fue encontrado.\")\n",
    "    print(\"   Por favor, asegúrate de haber ejecutado primero el script de preprocesamiento.\")\n",
    "\n",
    "# 📋 Mostrar las primeras 5 filas para verificar la carga\n",
    "print(\"\\n📋 Primeras 5 filas del dataset procesado:\")\n",
    "display(data.head())\n"
   ]
  },
  {
   "cell_type": "markdown",
   "id": "29095574",
   "metadata": {},
   "source": [
    "\n",
    "## Paso 2: Preparación para el Modelado\n",
    "\n",
    "Antes de entrenar, debemos realizar dos pasos cruciales:\n",
    "\n",
    "1.  **Separar variables**: Distinguir entre las **variables predictoras (X)** y la **variable objetivo (y)**.\n",
    "2.  **Dividir en entrenamiento y prueba**: Para evaluar de forma honesta qué tan bien generaliza nuestro modelo.\n",
    "\n",
    "###  Conceptos Importantes:\n",
    "\n",
    "**Variables Predictoras (X) vs. Variable Objetivo (y)**\n",
    "- **X (features)**: Todas las columnas excepto `log_ingmo2hd`.\n",
    "- **y (target)**: La columna `log_ingmo2hd`.\n",
    "\n",
    "**Train-Test Split**\n",
    "- **Datos de Entrenamiento (70%)**: Para \"enseñarle\" al modelo los patrones en los datos.\n",
    "- **Datos de Prueba (30%)**: Para evaluar el rendimiento del modelo en datos \"nuevos\" que no ha visto durante el entrenamiento.\n"
   ]
  },
  {
   "cell_type": "code",
   "execution_count": 4,
   "id": "ec9527b0",
   "metadata": {},
   "outputs": [
    {
     "name": "stdout",
     "output_type": "stream",
     "text": [
      "🔍 Separando variables predictoras (X) y objetivo (y)...\n",
      "📈 Variables predictoras (X): 129 columnas\n",
      "🎯 Variable objetivo (y): 1 columna ('log_ingmo2hd')\n",
      "\n",
      "🔄 Dividiendo datos en entrenamiento (70%) y prueba (30%)...\n",
      "📚 Datos de entrenamiento: 4335 observaciones\n",
      "🧪 Datos de prueba: 1858 observaciones\n",
      "\n",
      "✅ ¡Datos preparados y listos para entrenar el modelo!\n"
     ]
    }
   ],
   "source": [
    "\n",
    "# 📊 Separar variables explicativas (X) y variable objetivo (y)\n",
    "print(\"🔍 Separando variables predictoras (X) y objetivo (y)...\")\n",
    "X = data.drop('log_ingmo2hd', axis=1)\n",
    "y = data['log_ingmo2hd']\n",
    "\n",
    "print(f\"📈 Variables predictoras (X): {X.shape[1]} columnas\")\n",
    "print(f\"🎯 Variable objetivo (y): 1 columna ('log_ingmo2hd')\")\n",
    "\n",
    "# 🔄 Dividir en conjuntos de entrenamiento y prueba\n",
    "print(\"\\n🔄 Dividiendo datos en entrenamiento (70%) y prueba (30%)...\")\n",
    "# 'random_state=42' es una semilla que asegura que la división sea siempre la misma, haciendo nuestro experimento reproducible.\n",
    "X_train, X_test, y_train, y_test = train_test_split(\n",
    "    X, y, test_size=0.30, random_state=42\n",
    ")\n",
    "\n",
    "print(f\"📚 Datos de entrenamiento: {X_train.shape[0]} observaciones\")\n",
    "print(f\"🧪 Datos de prueba: {X_test.shape[0]} observaciones\")\n",
    "\n",
    "print(\"\\n✅ ¡Datos preparados y listos para entrenar el modelo!\")\n"
   ]
  },
  {
   "cell_type": "markdown",
   "id": "2936720e",
   "metadata": {},
   "source": [
    "\n",
    "## Paso 3: Entrenamiento del Modelo Lasso\n",
    " \n",
    "### ¿Qué es `LassoCV`?\n",
    "Usaremos `LassoCV`. Es una versión \"inteligente\" de Lasso que incluye **Validación Cruzada (Cross-Validation)** para encontrar el mejor parámetro de regularización de forma automática.\n",
    "\n",
    "### 🧠 Concepto clave: El Parámetro `alpha`\n",
    "Lasso tiene un parámetro llamado **alpha (α)** que controla la fuerza de la regularización:\n",
    "- **α pequeño**: Poca penalización. El modelo se parece a una regresión normal.\n",
    "- **α grande**: Mucha penalización. El modelo elimina más variables.\n",
    "\n",
    "`LassoCV` prueba una gama de `alphas` y elige el que produce el mejor rendimiento predictivo.\n"
   ]
  },
  {
   "cell_type": "code",
   "execution_count": null,
   "id": "bab0d695",
   "metadata": {},
   "outputs": [
    {
     "name": "stdout",
     "output_type": "stream",
     "text": [
      "🔍 Buscando el mejor parámetro alpha y entrenando el modelo Lasso...\n",
      "\n",
      "🏆 Mejor alpha encontrado: 0.00168\n",
      "✅ ¡Modelo Lasso entrenado exitosamente!\n"
     ]
    }
   ],
   "source": [
    "\n",
    "# 🚀 Entrenar el modelo Lasso con Validación Cruzada\n",
    "print(\"🔍 Buscando el mejor parámetro alpha y entrenando el modelo Lasso...\")\n",
    "\n",
    "# 1. Definimos el modelo LassoCV\n",
    "#    Le decimos que pruebe 200 valores de alpha y use 5 \"folds\" para la validación cruzada.\n",
    "lasso_cv_model = LassoCV(alphas=np.logspace(-5, 1, 200), cv=5, random_state=42, max_iter=2000)\n",
    "\n",
    "# 2. Entrenamos el modelo con los datos de entrenamiento\n",
    "lasso_cv_model.fit(X_train, y_train)\n",
    "\n",
    "# 🏆 Mostrar el mejor alpha encontrado\n",
    "print(f\"\\n🏆 Mejor alpha encontrado: {lasso_cv_model.alpha_:.5f}\")\n",
    "print(\"✅ ¡Modelo Lasso entrenado exitosamente!\")\n"
   ]
  },
  {
   "cell_type": "markdown",
   "id": "cd5ff10c",
   "metadata": {},
   "source": [
    "\n",
    "## Paso 4: Evaluación del Desempeño del Modelo\n",
    " \n",
    "Ahora que el modelo está entrenado, debemos evaluar qué tan bien funciona en el conjunto de prueba.\n",
    "\n",
    "### 🧠 Métricas de Evaluación:\n",
    "- **RMSE (Raíz del Error Cuadrático Medio)**: Nos dice, en promedio, cuál es el error de predicción en la unidad original (Soles). **Menor es mejor**.\n",
    "- **R² (Coeficiente de Determinación)**: Indica qué porcentaje de la variabilidad del ingreso es explicado por nuestro modelo. **Más cercano a 1 (o 100%) es mejor**.\n",
    "\n",
    "### 💡 Paso Crucial: Revertir la Transformación Logarítmica\n",
    "Nuestro modelo predice el *logaritmo* del ingreso. Para que el error (RMSE) sea interpretable, debemos convertir las predicciones de vuelta a Soles usando la función exponencial (`np.expm1`).\n"
   ]
  },
  {
   "cell_type": "code",
   "execution_count": 6,
   "id": "f37d81be",
   "metadata": {},
   "outputs": [
    {
     "name": "stdout",
     "output_type": "stream",
     "text": [
      "📊 RESULTADOS DEL MODELO LASSO EN DATOS DE PRUEBA:\n",
      "💰 RMSE (Error de predicción): $24,778.40 Soles\n",
      "📈 R² (Coeficiente de determinación): 0.3326 (es decir, el modelo explica el 33.3% de la varianza del ingreso)\n"
     ]
    }
   ],
   "source": [
    "\n",
    "# 📈 Hacer predicciones en datos de prueba\n",
    "y_pred_log = lasso_cv_model.predict(X_test)\n",
    "\n",
    "# 🔄 Revertir la transformación logarítmica para obtener predicciones en Soles\n",
    "y_pred_original = np.expm1(y_pred_log)\n",
    "y_test_original = np.expm1(y_test)\n",
    "\n",
    "# 📊 Calcular métricas de rendimiento\n",
    "rmse_lasso = np.sqrt(mean_squared_error(y_test_original, y_pred_original))\n",
    "r2_lasso = r2_score(y_test_original, y_pred_original)\n",
    "\n",
    "print(\"📊 RESULTADOS DEL MODELO LASSO EN DATOS DE PRUEBA:\")\n",
    "print(f\"💰 RMSE (Error de predicción): ${rmse_lasso:,.2f} Soles\")\n",
    "print(f\"📈 R² (Coeficiente de determinación): {r2_lasso:.4f} (es decir, el modelo explica el {r2_lasso:.1%} de la varianza del ingreso)\")\n"
   ]
  },
  {
   "cell_type": "markdown",
   "id": "d18893e0",
   "metadata": {},
   "source": [
    "Acabamos de ver que nuestro modelo tiene un **R² de 0.333** y un **RMSE de ~S/ 24,775**. A primera vista, uno podría pensar que \"explicar solo el 33% es poco\". Sin embargo, en el contexto de las ciencias sociales, estos resultados son muy reveladores.\n",
    "\n",
    "### 🧠 Interpretando el R² de 0.333\n",
    "\n",
    "Predecir el ingreso de una persona es una de las tareas más difíciles en las ciencias sociales. El ingreso no solo depende de la educación o la edad, sino de una infinidad de factores que una encuesta no puede medir:\n",
    "- Habilidades blandas (negociación, liderazgo).\n",
    "- Red de contactos.\n",
    "- Suerte y oportunidades.\n",
    "- Motivación personal.\n",
    "\n",
    "Nuestro modelo, usando solo los datos disponibles, ha logrado explicar **un tercio de la compleja historia detrás del ingreso**. Esto significa que las variables seleccionadas por Lasso (educación, edad, etc.) tienen un poder explicativo real y significativo. El 67% restante no es un fracaso del modelo, sino un reflejo de la complejidad del comportamiento humano que no está capturada en los datos.\n",
    "\n",
    "### 🧠 Interpretando el RMSE de ~S/ 24,775: Reduciendo la Incertidumbre\n",
    "\n",
    "Un error promedio de S/ 24,775 al año puede parecer alto. Sin embargo, para ponerlo en perspectiva, este número debe compararse con la dispersión natural de los datos (su desviación estándar). Si la desviación estándar del ingreso es, por ejemplo, de S/ 50,000, nuestro modelo ha logrado reducir la incertidumbre a la mitad. Es mucho más preciso que simplemente usar el ingreso promedio como predicción para todos.\n",
    "\n",
    "### 🏆 El Verdadero Valor de Nuestro Modelo Lasso\n",
    "\n",
    "En este problema, el objetivo principal no era crear una \"bola de cristal\" perfecta para predecir ingresos. El verdadero valor de nuestro modelo Lasso es:\n",
    "\n",
    "1.  **Confirmar que hay una señal predecible**: El ingreso no es completamente aleatorio; hay patrones que podemos modelar.\n",
    "2.  **Realizar Selección de Variables**: Lo más importante es que Lasso nos ha dado una lista corta y manejable de las **variables más importantes**. El análisis de los **coeficientes** (Paso 5 y 6) es el resultado más valioso de este ejercicio, ya que nos orienta sobre qué factores son los más determinantes."
   ]
  },
  {
   "cell_type": "markdown",
   "id": "298bf04f",
   "metadata": {},
   "source": [
    "\n",
    "## Paso 5: Interpretación de Resultados\n",
    " \n",
    "Esta es la parte más interesante. ¿Qué variables consideró el modelo como importantes?\n",
    "\n",
    "### 🧠 Concepto Clave: Coeficientes del Modelo\n",
    "El modelo asigna un **coeficiente** a cada variable. La magia de Lasso es que:\n",
    "- Si el coeficiente es **cero**, Lasso ha **descartado** esa variable por no considerarla relevante.\n",
    "- Si el coeficiente es **distinto de cero**, es una **variable seleccionada**.\n",
    "\n",
    "**Interpretación de los coeficientes (en nuestro modelo log-level):**\n",
    "- Un **coeficiente positivo** (ej: 0.10) significa que un aumento en esa variable se asocia con un aumento porcentual en el ingreso (aprox. 10%).\n",
    "- Un **coeficiente negativo** (ej: -0.05) significa que un aumento en esa variable se asocia con una disminución porcentual en el ingreso (aprox. 5%).\n"
   ]
  },
  {
   "cell_type": "code",
   "execution_count": 7,
   "id": "f2317dc4",
   "metadata": {},
   "outputs": [
    {
     "name": "stdout",
     "output_type": "stream",
     "text": [
      "🔍 Analizando los coeficientes del modelo Lasso...\n",
      "\n",
      "🎯 De 129 características iniciales, Lasso seleccionó 65.\n",
      "❌ Lasso eliminó 64 variables al asignarles un coeficiente de cero.\n",
      "\n",
      "📋 Variables más importantes seleccionadas por el modelo:\n"
     ]
    },
    {
     "data": {
      "application/vnd.microsoft.datawrangler.viewer.v0+json": {
       "columns": [
        {
         "name": "index",
         "rawType": "int64",
         "type": "integer"
        },
        {
         "name": "predictor",
         "rawType": "object",
         "type": "string"
        },
        {
         "name": "coef",
         "rawType": "float64",
         "type": "float"
        }
       ],
       "ref": "df2b8412-b768-43a3-a776-246ddd4d3ef8",
       "rows": [
        [
         "24",
         "cat__p501_20_2",
         "-1.5324"
        ],
        [
         "32",
         "cat__p5569a_20_2",
         "-0.6576"
        ],
        [
         "118",
         "cat__p301a_20_11_1",
         "0.6161"
        ],
        [
         "26",
         "cat__p5562a_20_2",
         "-0.6066"
        ],
        [
         "62",
         "cat__p4193_20_2",
         "-0.4991"
        ],
        [
         "36",
         "cat__p558a4_20_4",
         "0.4213"
        ],
        [
         "27",
         "cat__p5563a_20_2",
         "-0.3911"
        ],
        [
         "28",
         "cat__p5564a_20_2",
         "-0.3817"
        ],
        [
         "38",
         "cat__p558e1_1_20_1",
         "0.3601"
        ],
        [
         "37",
         "cat__p558a5_20_5",
         "-0.3558"
        ],
        [
         "63",
         "cat__p4194_20_2",
         "-0.3269"
        ],
        [
         "3",
         "cat__p207_20_2",
         "-0.3262"
        ],
        [
         "117",
         "cat__p301a_20_10_1",
         "0.2876"
        ],
        [
         "60",
         "cat__p4191_20_2",
         "-0.2872"
        ],
        [
         "61",
         "cat__p4192_20_2",
         "-0.2778"
        ]
       ],
       "shape": {
        "columns": 2,
        "rows": 15
       }
      },
      "text/html": [
       "<div>\n",
       "<style scoped>\n",
       "    .dataframe tbody tr th:only-of-type {\n",
       "        vertical-align: middle;\n",
       "    }\n",
       "\n",
       "    .dataframe tbody tr th {\n",
       "        vertical-align: top;\n",
       "    }\n",
       "\n",
       "    .dataframe thead th {\n",
       "        text-align: right;\n",
       "    }\n",
       "</style>\n",
       "<table border=\"1\" class=\"dataframe\">\n",
       "  <thead>\n",
       "    <tr style=\"text-align: right;\">\n",
       "      <th></th>\n",
       "      <th>predictor</th>\n",
       "      <th>coef</th>\n",
       "    </tr>\n",
       "  </thead>\n",
       "  <tbody>\n",
       "    <tr>\n",
       "      <th>24</th>\n",
       "      <td>cat__p501_20_2</td>\n",
       "      <td>-1.5324</td>\n",
       "    </tr>\n",
       "    <tr>\n",
       "      <th>32</th>\n",
       "      <td>cat__p5569a_20_2</td>\n",
       "      <td>-0.6576</td>\n",
       "    </tr>\n",
       "    <tr>\n",
       "      <th>118</th>\n",
       "      <td>cat__p301a_20_11_1</td>\n",
       "      <td>0.6161</td>\n",
       "    </tr>\n",
       "    <tr>\n",
       "      <th>26</th>\n",
       "      <td>cat__p5562a_20_2</td>\n",
       "      <td>-0.6066</td>\n",
       "    </tr>\n",
       "    <tr>\n",
       "      <th>62</th>\n",
       "      <td>cat__p4193_20_2</td>\n",
       "      <td>-0.4991</td>\n",
       "    </tr>\n",
       "    <tr>\n",
       "      <th>36</th>\n",
       "      <td>cat__p558a4_20_4</td>\n",
       "      <td>0.4213</td>\n",
       "    </tr>\n",
       "    <tr>\n",
       "      <th>27</th>\n",
       "      <td>cat__p5563a_20_2</td>\n",
       "      <td>-0.3911</td>\n",
       "    </tr>\n",
       "    <tr>\n",
       "      <th>28</th>\n",
       "      <td>cat__p5564a_20_2</td>\n",
       "      <td>-0.3817</td>\n",
       "    </tr>\n",
       "    <tr>\n",
       "      <th>38</th>\n",
       "      <td>cat__p558e1_1_20_1</td>\n",
       "      <td>0.3601</td>\n",
       "    </tr>\n",
       "    <tr>\n",
       "      <th>37</th>\n",
       "      <td>cat__p558a5_20_5</td>\n",
       "      <td>-0.3558</td>\n",
       "    </tr>\n",
       "    <tr>\n",
       "      <th>63</th>\n",
       "      <td>cat__p4194_20_2</td>\n",
       "      <td>-0.3269</td>\n",
       "    </tr>\n",
       "    <tr>\n",
       "      <th>3</th>\n",
       "      <td>cat__p207_20_2</td>\n",
       "      <td>-0.3262</td>\n",
       "    </tr>\n",
       "    <tr>\n",
       "      <th>117</th>\n",
       "      <td>cat__p301a_20_10_1</td>\n",
       "      <td>0.2876</td>\n",
       "    </tr>\n",
       "    <tr>\n",
       "      <th>60</th>\n",
       "      <td>cat__p4191_20_2</td>\n",
       "      <td>-0.2872</td>\n",
       "    </tr>\n",
       "    <tr>\n",
       "      <th>61</th>\n",
       "      <td>cat__p4192_20_2</td>\n",
       "      <td>-0.2778</td>\n",
       "    </tr>\n",
       "  </tbody>\n",
       "</table>\n",
       "</div>"
      ],
      "text/plain": [
       "              predictor    coef\n",
       "24       cat__p501_20_2 -1.5324\n",
       "32     cat__p5569a_20_2 -0.6576\n",
       "118  cat__p301a_20_11_1  0.6161\n",
       "26     cat__p5562a_20_2 -0.6066\n",
       "62      cat__p4193_20_2 -0.4991\n",
       "36     cat__p558a4_20_4  0.4213\n",
       "27     cat__p5563a_20_2 -0.3911\n",
       "28     cat__p5564a_20_2 -0.3817\n",
       "38   cat__p558e1_1_20_1  0.3601\n",
       "37     cat__p558a5_20_5 -0.3558\n",
       "63      cat__p4194_20_2 -0.3269\n",
       "3        cat__p207_20_2 -0.3262\n",
       "117  cat__p301a_20_10_1  0.2876\n",
       "60      cat__p4191_20_2 -0.2872\n",
       "61      cat__p4192_20_2 -0.2778"
      ]
     },
     "metadata": {},
     "output_type": "display_data"
    }
   ],
   "source": [
    "\n",
    "# 🔍 Analizar coeficientes y selección de variables\n",
    "print(\"🔍 Analizando los coeficientes del modelo Lasso...\")\n",
    "\n",
    "# Crear un DataFrame con los predictores y sus coeficientes\n",
    "coeficientes_lasso = pd.DataFrame({\n",
    "    'predictor': X.columns,\n",
    "    'coef': lasso_cv_model.coef_\n",
    "})\n",
    "\n",
    "# Filtrar los coeficientes que no son cero\n",
    "coeficientes_seleccionados = coeficientes_lasso[coeficientes_lasso['coef'] != 0].copy()\n",
    "lasso_zero = np.sum(lasso_cv_model.coef_ == 0)\n",
    "\n",
    "# Ordenar por el valor absoluto para ver los más importantes\n",
    "coeficientes_seleccionados['importancia'] = coeficientes_seleccionados['coef'].abs()\n",
    "coeficientes_seleccionados = coeficientes_seleccionados.sort_values(by='importancia', ascending=False).drop('importancia', axis=1)\n",
    "\n",
    "print(f\"\\n🎯 De {len(coeficientes_lasso)} características iniciales, Lasso seleccionó {len(coeficientes_seleccionados)}.\")\n",
    "print(f\"❌ Lasso eliminó {lasso_zero} variables al asignarles un coeficiente de cero.\")\n",
    "\n",
    "print(\"\\n📋 Variables más importantes seleccionadas por el modelo:\")\n",
    "display(coeficientes_seleccionados.head(15).round(4))\n"
   ]
  },
  {
   "cell_type": "markdown",
   "id": "155acf4f",
   "metadata": {},
   "source": [
    "\n",
    "## Paso 6: Visualización de los Coeficientes\n",
    " \n",
    "Un gráfico a menudo cuenta una historia más clara que una tabla. Vamos a visualizar los 20 coeficientes más importantes para entender de un vistazo qué factores tienen el mayor impacto en el ingreso.\n",
    "\n",
    "### 📈 Lo que vamos a observar:\n",
    "- **Barras a la derecha (positivas)**: Características que aumentan el ingreso.\n",
    "- **Barras a la izquierda (negativas)**: Características que disminuyen el ingreso.\n",
    "- **Longitud de la barra**: La magnitud del impacto.\n"
   ]
  },
  {
   "cell_type": "code",
   "execution_count": 8,
   "id": "d56b2482",
   "metadata": {},
   "outputs": [
    {
     "name": "stderr",
     "output_type": "stream",
     "text": [
      "C:\\Users\\zadel\\AppData\\Local\\Temp\\ipykernel_17592\\3672933321.py:7: FutureWarning: \n",
      "\n",
      "Passing `palette` without assigning `hue` is deprecated and will be removed in v0.14.0. Assign the `y` variable to `hue` and set `legend=False` for the same effect.\n",
      "\n",
      "  sns.barplot(x='coef', y='predictor', data=top_coef, palette='coolwarm')\n"
     ]
    },
    {
     "data": {
      "image/png": "[encoded data removed]",
      "text/plain": [
       "<Figure size 1400x1000 with 1 Axes>"
      ]
     },
     "metadata": {},
     "output_type": "display_data"
    }
   ],
   "source": [
    "\n",
    "# 🎨 Preparando la visualización de coeficientes...\n",
    "\n",
    "# Tomamos los 20 coeficientes con mayor valor absoluto y los ordenamos por su valor para el gráfico\n",
    "top_coef = coeficientes_seleccionados.head(20).sort_values('coef')\n",
    "\n",
    "plt.figure(figsize=(14, 10))\n",
    "sns.barplot(x='coef', y='predictor', data=top_coef, palette='coolwarm')\n",
    "\n",
    "plt.title('Top 20 Coeficientes del Modelo Lasso', fontsize=18, fontweight='bold', pad=20)\n",
    "plt.xlabel('Valor del Coeficiente (Impacto en el Log-Ingreso)', fontsize=14)\n",
    "plt.ylabel('Predictor', fontsize=14)\n",
    "plt.axvline(x=0, color='black', linewidth=0.8, linestyle='--')\n",
    "plt.grid(axis='x', linestyle='--', alpha=0.6)\n",
    "\n",
    "plt.savefig('grafico_coeficientes_final.png')\n",
    "plt.show()\n"
   ]
  },
  {
   "cell_type": "markdown",
   "id": "a37da623",
   "metadata": {},
   "source": [
    "### 🎯 Hallazgo 1\n",
    "- **Coeficiente:** `cat__p501_20_2` = **-1.5322**\n",
    "- **Variable:** Representa a las personas que **NO** tuvieron un trabajo la semana pasada.\n",
    "- **Interpretación:** Las personas que no trabajaron tienen un ingreso un **78.4% menor** que las que sí lo hicieron. Este resultado es abrumadoramente fuerte y lógico. Valida que nuestro modelo ha capturado la relación más fundamental con el ingreso: estar activamente empleado.\n",
    "\n",
    "### 🎯 Hallazgo 2\n",
    "- **Coeficiente:** `cat__p301a_20_11_1` = **+0.6151**\n",
    "- **Variable:** Representa a personas con **educación de posgrado** (Maestría/Doctorado).\n",
    "- **Interpretación:** Manteniendo todo lo demás constante, tener un posgrado se asocia con un ingreso un **85% mayor** en comparación con el grupo de referencia (ej: educación secundaria). Esto subraya el alto retorno económico de la especialización educativa.\n",
    "\n",
    "### 🎯 Hallazgo 3\n",
    "- **Coeficientes:** `cat__p5569a_20_2` (**-0.6555**) y `cat__p5562a_20_2` (**-0.6058**)\n",
    "- **Variables:** Representan a quienes **NO** recibieron ingresos por \"Otras transferencias\" y \"Pensión por alimentación\", respectivamente.\n",
    "- **Interpretación:** Un coeficiente negativo para el grupo \"NO\" significa que el grupo \"SÍ\" tiene un efecto positivo. El modelo está identificando correctamente que recibir estas transferencias (ayuda familiar, pensiones) **aumenta el ingreso monetario total reportado**. No significa que las personas sean más ricas *antes* de la transferencia, sino que la transferencia en sí es una fuente importante de su ingreso total.\n",
    "\n",
    "### 🎯 Hallazgo 4\n",
    "- **Coeficiente:** `cat__p4193_20_2` = **-0.4986**\n",
    "- **Variable:** Representa a quienes **NO** están afiliados a una Entidad Prestadora de Salud (EPS).\n",
    "- **Interpretación:** El grupo que **SÍ** está afiliado a una EPS (un seguro de salud privado) tiende a tener un ingreso significativamente mayor. Estar en una EPS no *causa* el aumento de sueldo, pero es un **excelente indicador de formalidad laboral y de pertenecer a un segmento de ingresos más alto**, ya que las EPS suelen ser ofrecidas por empleadores a trabajadores de ingresos medios y altos.\n"
   ]
  }
 ],
 "metadata": {
  "kernelspec": {
   "display_name": ".conda",
   "language": "python",
   "name": "python3"
  },
  "language_info": {
   "codemirror_mode": {
    "name": "ipython",
    "version": 3
   },
   "file_extension": ".py",
   "mimetype": "text/x-python",
   "name": "python",
   "nbconvert_exporter": "python",
   "pygments_lexer": "ipython3",
   "version": "3.11.13"
  }
 },
 "nbformat": 4,
 "nbformat_minor": 5
}
