{
 "cells": [
  {
   "cell_type": "markdown",
   "id": "5eb7b6df",
   "metadata": {},
   "source": [
    "\n",
    "# Actividad: Implementación de Bagging Classifier\n",
    "\n",
    "### Introducción Teórica\n",
    "El método de Bagging (Bootstrap Aggregating) es una técnica de ensamblaje diseñada para mejorar la estabilidad y precisión de los algoritmos de machine learning. Funciona creando múltiples subconjuntos de datos a partir del conjunto de entrenamiento original (mediante muestreo con reemplazo o bootstrap) y entrenando un modelo base en cada subconjunto. Las predicciones de estos modelos individuales se combinan, generalmente por votación (para clasificación) o promediado (para regresión), para obtener una predicción final más robusta.\n",
    "\n",
    "En esta actividad, utilizaremos un **dataset balanceado (50/50)** para construir un modelo de Bagging y evaluar su rendimiento en un problema de clasificación.\n"
   ]
  },
  {
   "cell_type": "markdown",
   "id": "2fe9000a",
   "metadata": {},
   "source": [
    "\n",
    "## 1. Preparación del Entorno y Carga de Datos\n",
    "\n",
    "Importaremos las librerías necesarias y cargaremos nuestro dataset `prediccion_pobreza_peru_balanceada.csv`, antes de dividirlo para el entrenamiento y la prueba.\n"
   ]
  },
  {
   "cell_type": "code",
   "execution_count": 5,
   "id": "a1f1ef94",
   "metadata": {},
   "outputs": [
    {
     "name": "stdout",
     "output_type": "stream",
     "text": [
      "Entorno y datos preparados.\n"
     ]
    }
   ],
   "source": [
    "\n",
    "# Importación de librerías\n",
    "import pandas as pd\n",
    "import numpy as np\n",
    "import matplotlib.pyplot as plt\n",
    "import seaborn as sns\n",
    "import warnings\n",
    "\n",
    "from sklearn.model_selection import train_test_split\n",
    "from sklearn.tree import DecisionTreeClassifier\n",
    "from sklearn.ensemble import BaggingClassifier\n",
    "from sklearn.pipeline import Pipeline\n",
    "from sklearn.compose import ColumnTransformer\n",
    "from sklearn.preprocessing import StandardScaler, OneHotEncoder\n",
    "from sklearn.metrics import classification_report, confusion_matrix, roc_auc_score, RocCurveDisplay\n",
    "\n",
    "# Configuraciones\n",
    "warnings.filterwarnings('ignore')\n",
    "plt.style.use('seaborn-v0_8-whitegrid')\n",
    "\n",
    "# Carga y preparación de datos\n",
    "# Asegúrese de que el archivo 'prediccion_pobreza_peru_balanceada.csv' esté en el mismo directorio.\n",
    "try:\n",
    "    df = pd.read_csv('prediccion_pobreza_peru_balanceada.csv')\n",
    "    X = df.drop('PobrezaMonetaria', axis=1)\n",
    "    y = df['PobrezaMonetaria']\n",
    "    X_train, X_test, y_train, y_test = train_test_split(X, y, test_size=0.3, random_state=42, stratify=y)\n",
    "    print(\"Entorno y datos preparados.\")\n",
    "except FileNotFoundError as e:\n",
    "    print(\"Error Crítico: El archivo 'prediccion_pobreza_peru_balanceada.csv' no fue encontrado.\")\n",
    "    print(\"Asegúrese de que el archivo CSV esté en la misma carpeta que este notebook.\")\n",
    "    raise e\n"
   ]
  },
  {
   "cell_type": "markdown",
   "id": "078c3569",
   "metadata": {},
   "source": [
    "\n",
    "## 2. Implementación y Entrenamiento del Modelo\n",
    "\n",
    "Construiremos un ensamblaje de Bagging utilizando árboles de decisión como estimadores base. A continuación, se detallan los parámetros clave utilizados.\n"
   ]
  },
  {
   "cell_type": "markdown",
   "id": "c7524fd7",
   "metadata": {},
   "source": [
    "\n",
    "### 2.1 Configuración de los Parámetros del Modelo\n",
    "\n",
    "#### Configuración del Estimador Base (`estimator`)\n",
    "*   **`estimator=DecisionTreeClassifier(random_state=42)`**: Define el algoritmo base que se entrenará en cada subconjunto de datos. Usamos un `DecisionTreeClassifier`, que es una elección común y efectiva para Bagging. El `random_state` interno fija la semilla para la aleatoriedad del árbol, asegurando resultados reproducibles.\n",
    "\n",
    "#### Configuración del Ensamblaje Bagging\n",
    "*   **`n_estimators=100`**: Es el número de árboles de decisión (estimadores base) que se construirán en el ensamblaje. Un número mayor generalmente mejora el rendimiento a costa de un mayor tiempo de cómputo.\n",
    "*   **`random_state=42`**: Fija la semilla para la aleatoriedad del muestreo *bootstrap*. Esto garantiza que los subconjuntos de datos generados para entrenar cada árbol sean los mismos en cada ejecución del código.\n",
    "*   **`n_jobs=-1`**: Indica el número de núcleos de CPU a utilizar para el entrenamiento. El valor `-1` significa usar todos los núcleos disponibles, lo que acelera significativamente el proceso en paralelo.\n"
   ]
  },
  {
   "cell_type": "code",
   "execution_count": 6,
   "id": "eb2cb382",
   "metadata": {},
   "outputs": [
    {
     "name": "stdout",
     "output_type": "stream",
     "text": [
      "Entrenando el modelo Bagging...\n",
      "Modelo Bagging entrenado.\n"
     ]
    }
   ],
   "source": [
    "\n",
    "# Preprocesador de datos (común para variables numéricas y categóricas)\n",
    "numerical_cols = X.select_dtypes(include=np.number).columns\n",
    "categorical_cols = X.select_dtypes(include=['object', 'category']).columns\n",
    "\n",
    "preprocessor = ColumnTransformer(\n",
    "    transformers=[\n",
    "        ('num', StandardScaler(), numerical_cols),\n",
    "        ('cat', OneHotEncoder(handle_unknown='ignore'), categorical_cols)\n",
    "    ], remainder='passthrough')\n",
    "\n",
    "# Creación del pipeline para Bagging\n",
    "bagging_pipeline = Pipeline(steps=[\n",
    "    ('preprocessor', preprocessor),\n",
    "    ('classifier', BaggingClassifier(\n",
    "        estimator=DecisionTreeClassifier(random_state=42),\n",
    "        n_estimators=100,\n",
    "        random_state=42,\n",
    "        n_jobs=-1\n",
    "    ))\n",
    "])\n",
    "\n",
    "# Entrenamiento\n",
    "print(\"Entrenando el modelo Bagging...\")\n",
    "bagging_pipeline.fit(X_train, y_train)\n",
    "print(\"Modelo Bagging entrenado.\")\n"
   ]
  },
  {
   "cell_type": "markdown",
   "id": "8f1da7a2",
   "metadata": {},
   "source": [
    "\n",
    "## 3. Análisis de Resultados\n",
    "\n",
    "Con el modelo entrenado, ahora podemos evaluar su rendimiento en el conjunto de prueba.\n"
   ]
  },
  {
   "cell_type": "markdown",
   "id": "2458f8dd",
   "metadata": {},
   "source": [
    "\n",
    "### 3.1 Métricas de Clasificación, Matriz de Confusión y Curva ROC\n",
    "\n",
    "Dado que las clases están balanceadas, la métrica de **`accuracy`** es un indicador fiable. Analizaremos también la matriz de confusión para entender los tipos de errores y la curva ROC para evaluar la capacidad de discriminación del modelo.\n"
   ]
  },
  {
   "cell_type": "code",
   "execution_count": 7,
   "id": "eca910d2",
   "metadata": {},
   "outputs": [
    {
     "name": "stdout",
     "output_type": "stream",
     "text": [
      "--- Evaluación del Modelo Bagging ---\n",
      "              precision    recall  f1-score   support\n",
      "\n",
      "No Pobre (0)       0.78      0.70      0.74       450\n",
      "   Pobre (1)       0.73      0.80      0.77       450\n",
      "\n",
      "    accuracy                           0.75       900\n",
      "   macro avg       0.76      0.75      0.75       900\n",
      "weighted avg       0.76      0.75      0.75       900\n",
      "\n"
     ]
    },
    {
     "data": {
      "image/png": "[encoded data removed]",
      "text/plain": [
       "<Figure size 800x600 with 2 Axes>"
      ]
     },
     "metadata": {},
     "output_type": "display_data"
    },
    {
     "data": {
      "image/png": "[encoded data removed]",
      "text/plain": [
       "<Figure size 1000x800 with 1 Axes>"
      ]
     },
     "metadata": {},
     "output_type": "display_data"
    },
    {
     "name": "stdout",
     "output_type": "stream",
     "text": [
      "AUC del Modelo Bagging: 0.8382\n"
     ]
    }
   ],
   "source": [
    "\n",
    "# Predicciones del modelo\n",
    "y_pred_bagging = bagging_pipeline.predict(X_test)\n",
    "\n",
    "# Reporte de clasificación\n",
    "print(\"--- Evaluación del Modelo Bagging ---\")\n",
    "print(classification_report(y_test, y_pred_bagging, target_names=['No Pobre (0)', 'Pobre (1)']))\n",
    "\n",
    "# Matriz de Confusión\n",
    "cm_bagging = confusion_matrix(y_test, y_pred_bagging)\n",
    "\n",
    "fig, ax = plt.subplots(figsize=(8, 6))\n",
    "sns.heatmap(cm_bagging, annot=True, fmt='d', cmap='Blues', ax=ax)\n",
    "ax.set_title('Matriz de Confusión - Bagging', fontsize=14)\n",
    "ax.set_xlabel('Predicho')\n",
    "ax.set_ylabel('Real')\n",
    "plt.savefig('confusion.png')\n",
    "plt.show()\n",
    "\n",
    "# Curva ROC y AUC\n",
    "fig, ax = plt.subplots(figsize=(10, 8))\n",
    "RocCurveDisplay.from_estimator(bagging_pipeline, X_test, y_test, ax=ax, name='Bagging')\n",
    "ax.set_title('Curva ROC - Bagging', fontsize=16)\n",
    "plt.savefig('roc.png')\n",
    "plt.show()\n",
    "\n",
    "# Cálculo numérico de AUC\n",
    "auc_bagging = roc_auc_score(y_test, bagging_pipeline.predict_proba(X_test)[:, 1])\n",
    "print(f\"AUC del Modelo Bagging: {auc_bagging:.4f}\")\n"
   ]
  },
  {
   "cell_type": "markdown",
   "id": "5e9e6a2f",
   "metadata": {},
   "source": [
    "\n",
    "### Interpretación de las Métricas de Evaluación\n",
    "\n",
    "- **Accuracy (Precisión General)**: El modelo alcanza un **75%** de accuracy. Esto significa que clasificó correctamente 3 de cada 4 hogares en el conjunto de prueba. Al ser un dataset balanceado, esta métrica es un buen indicador inicial del rendimiento.\n",
    "\n",
    "- **Precisión y Recall**:\n",
    "    - **Clase 'No Pobre (0)'**: Tiene una precisión de 0.78 y un recall de 0.70. Esto indica que cuando el modelo predice que un hogar es 'No Pobre', acierta el 78% de las veces. Sin embargo, solo es capaz de identificar al 70% de todos los hogares que realmente no son pobres.\n",
    "    - **Clase 'Pobre (1)'**: Tiene una precisión de 0.73 y un recall de 0.80. El modelo es bastante bueno encontrando a los hogares pobres (recall alto), ya que identifica correctamente al 80% de ellos. Sin embargo, cuando predice 'Pobre', se equivoca en un 27% de los casos.\n",
    "\n",
    "- **Matriz de Confusión**:\n",
    "    - **Verdaderos Negativos (TN)**: 315 hogares no pobres fueron clasificados correctamente.\n",
    "    - **Verdaderos Positivos (TP)**: 360 hogares pobres fueron clasificados correctamente.\n",
    "    - **Falsos Positivos (FP)**: 135 hogares que no eran pobres fueron incorrectamente clasificados como pobres. Este es el error más común del modelo.\n",
    "    - **Falsos Negativos (FN)**: 90 hogares que sí eran pobres fueron clasificados como no pobres.\n",
    "\n",
    "- **Curva ROC y AUC**:\n",
    "    - El valor **AUC de 0.84** es bastante bueno. Indica que el modelo tiene una fuerte capacidad para distinguir entre las dos clases. Hay un 84% de probabilidad de que el modelo asigne una puntuación de predicción más alta a un hogar pobre elegido al azar que a un hogar no pobre elegido al azar.\n",
    "\n",
    "**Conclusión**: El modelo es útil y tiene un buen poder predictivo. Su principal área de mejora sería reducir los Falsos Positivos, es decir, ser más preciso cuando etiqueta a un hogar como \"Pobre\".\n"
   ]
  },
  {
   "cell_type": "markdown",
   "id": "b44542cf",
   "metadata": {},
   "source": [
    "\n",
    "### 3.2 Importancia de Variables\n",
    "\n",
    "Una de las ventajas de los modelos basados en árboles es que podemos inspeccionar la importancia de las variables (feature importance) para entender qué predictores son más influyentes en las decisiones del modelo.\n"
   ]
  },
  {
   "cell_type": "code",
   "execution_count": 8,
   "id": "bac3a19f",
   "metadata": {},
   "outputs": [
    {
     "name": "stdout",
     "output_type": "stream",
     "text": [
      "Top 10 de Variables más Importantes (Bagging)\n"
     ]
    },
    {
     "data": {
      "application/vnd.microsoft.datawrangler.viewer.v0+json": {
       "columns": [
        {
         "name": "index",
         "rawType": "int64",
         "type": "integer"
        },
        {
         "name": "Variable",
         "rawType": "object",
         "type": "string"
        },
        {
         "name": "Importancia",
         "rawType": "float64",
         "type": "float"
        }
       ],
       "ref": "8de91584-efed-4c6d-801b-aea1921904d1",
       "rows": [
        [
         "0",
         "num__IngresoMensualHogar",
         "0.39849959960058956"
        ],
        [
         "1",
         "num__GastoMensualHogar",
         "0.1416304968111833"
        ],
        [
         "2",
         "num__AniosEstudioJefeHogar",
         "0.0896617896215111"
        ],
        [
         "3",
         "num__RatioDependencia",
         "0.07177786766160246"
        ],
        [
         "4",
         "num__EdadJefeHogar",
         "0.06390378453800778"
        ],
        [
         "5",
         "num__MiembrosHogar",
         "0.06287437803723353"
        ],
        [
         "6",
         "num__AccesoAguaPotable",
         "0.009235635929618952"
        ],
        [
         "7",
         "num__PoseeActivos",
         "0.008668430436520255"
        ],
        [
         "8",
         "cat__TipoEmpleo_Formal",
         "0.008640257996951235"
        ],
        [
         "9",
         "cat__NivelEducativoJefeHogar_Primaria",
         "0.00834600303143515"
        ]
       ],
       "shape": {
        "columns": 2,
        "rows": 10
       }
      },
      "text/html": [
       "<div>\n",
       "<style scoped>\n",
       "    .dataframe tbody tr th:only-of-type {\n",
       "        vertical-align: middle;\n",
       "    }\n",
       "\n",
       "    .dataframe tbody tr th {\n",
       "        vertical-align: top;\n",
       "    }\n",
       "\n",
       "    .dataframe thead th {\n",
       "        text-align: right;\n",
       "    }\n",
       "</style>\n",
       "<table border=\"1\" class=\"dataframe\">\n",
       "  <thead>\n",
       "    <tr style=\"text-align: right;\">\n",
       "      <th></th>\n",
       "      <th>Variable</th>\n",
       "      <th>Importancia</th>\n",
       "    </tr>\n",
       "  </thead>\n",
       "  <tbody>\n",
       "    <tr>\n",
       "      <th>0</th>\n",
       "      <td>num__IngresoMensualHogar</td>\n",
       "      <td>0.398500</td>\n",
       "    </tr>\n",
       "    <tr>\n",
       "      <th>1</th>\n",
       "      <td>num__GastoMensualHogar</td>\n",
       "      <td>0.141630</td>\n",
       "    </tr>\n",
       "    <tr>\n",
       "      <th>2</th>\n",
       "      <td>num__AniosEstudioJefeHogar</td>\n",
       "      <td>0.089662</td>\n",
       "    </tr>\n",
       "    <tr>\n",
       "      <th>3</th>\n",
       "      <td>num__RatioDependencia</td>\n",
       "      <td>0.071778</td>\n",
       "    </tr>\n",
       "    <tr>\n",
       "      <th>4</th>\n",
       "      <td>num__EdadJefeHogar</td>\n",
       "      <td>0.063904</td>\n",
       "    </tr>\n",
       "    <tr>\n",
       "      <th>5</th>\n",
       "      <td>num__MiembrosHogar</td>\n",
       "      <td>0.062874</td>\n",
       "    </tr>\n",
       "    <tr>\n",
       "      <th>6</th>\n",
       "      <td>num__AccesoAguaPotable</td>\n",
       "      <td>0.009236</td>\n",
       "    </tr>\n",
       "    <tr>\n",
       "      <th>7</th>\n",
       "      <td>num__PoseeActivos</td>\n",
       "      <td>0.008668</td>\n",
       "    </tr>\n",
       "    <tr>\n",
       "      <th>8</th>\n",
       "      <td>cat__TipoEmpleo_Formal</td>\n",
       "      <td>0.008640</td>\n",
       "    </tr>\n",
       "    <tr>\n",
       "      <th>9</th>\n",
       "      <td>cat__NivelEducativoJefeHogar_Primaria</td>\n",
       "      <td>0.008346</td>\n",
       "    </tr>\n",
       "  </tbody>\n",
       "</table>\n",
       "</div>"
      ],
      "text/plain": [
       "                                Variable  Importancia\n",
       "0               num__IngresoMensualHogar     0.398500\n",
       "1                 num__GastoMensualHogar     0.141630\n",
       "2             num__AniosEstudioJefeHogar     0.089662\n",
       "3                  num__RatioDependencia     0.071778\n",
       "4                     num__EdadJefeHogar     0.063904\n",
       "5                     num__MiembrosHogar     0.062874\n",
       "6                 num__AccesoAguaPotable     0.009236\n",
       "7                      num__PoseeActivos     0.008668\n",
       "8                 cat__TipoEmpleo_Formal     0.008640\n",
       "9  cat__NivelEducativoJefeHogar_Primaria     0.008346"
      ]
     },
     "metadata": {},
     "output_type": "display_data"
    }
   ],
   "source": [
    "\n",
    "# Función para obtener la importancia de variables en un DataFrame\n",
    "def get_feature_importances(pipeline, top_n=10):\n",
    "    # Obtener los nombres de las características después del preprocesamiento\n",
    "    feature_names = pipeline.named_steps['preprocessor'].get_feature_names_out()\n",
    "    \n",
    "    # Para Bagging, la importancia se calcula promediando la importancia de cada árbol individual en el ensamblaje.\n",
    "    importances = np.mean([\n",
    "        tree.feature_importances_ for tree in pipeline.named_steps['classifier'].estimators_\n",
    "    ], axis=0)\n",
    "    \n",
    "    # Crear un DataFrame para facilitar la visualización\n",
    "    df_importance = pd.DataFrame({'Variable': feature_names, 'Importancia': importances})\n",
    "    \n",
    "    # Devolver las N variables más importantes\n",
    "    return df_importance.sort_values('Importancia', ascending=False).head(top_n).reset_index(drop=True)\n",
    "\n",
    "# Obtener y mostrar el top 10\n",
    "top10_bagging = get_feature_importances(bagging_pipeline)\n",
    "\n",
    "print(\"Top 10 de Variables más Importantes (Bagging)\")\n",
    "display(top10_bagging)\n"
   ]
  },
  {
   "cell_type": "markdown",
   "id": "397277aa",
   "metadata": {},
   "source": [
    "\n",
    "### Interpretación de la Importancia de Variables\n",
    "\n",
    "La tabla de importancia nos muestra qué características considera el modelo más relevantes para hacer sus predicciones.\n",
    "\n",
    "- **Variables Dominantes**: Las dos variables más influyentes, por un margen considerable, son el **`IngresoMensualHogar`** y el **`GastoMensualHogar`**. Juntas, representan más del 50% de la importancia total (aprox. 0.40 + 0.14 = 0.54). Esto es lógico y esperable, ya que la pobreza monetaria se define directamente en función de los ingresos y la capacidad de gasto de un hogar.\n",
    "\n",
    "- **Variables Socio-demográficas**: Un segundo grupo de variables importantes, aunque con un peso mucho menor, incluye factores como los **`AniosEstudioJefeHogar`**, el **`RatioDependencia`** (la proporción de personas dependientes), la **`EdadJefeHogar`** y el número de **`MiembrosHogar`**. Esto sugiere que la educación y la estructura demográfica del hogar son los siguientes predictores más fuertes después de los indicadores económicos directos.\n",
    "\n",
    "- **Otras Variables**: Existe una caída significativa en la importancia después de las primeras seis variables. Características como el acceso a servicios (`AccesoAguaPotable`), la posesión de activos o el tipo de empleo tienen un impacto mucho menor, pero aún contribuyen a la decisión final del modelo.\n",
    "\n",
    "**Conclusión**: El modelo confirma la intuición de que los ingresos y gastos son los principales determinantes de la pobreza, pero también utiliza la educación y la composición del hogar para refinar sus predicciones.\n"
   ]
  }
 ],
 "metadata": {
  "kernelspec": {
   "display_name": ".conda",
   "language": "python",
   "name": "python3"
  },
  "language_info": {
   "codemirror_mode": {
    "name": "ipython",
    "version": 3
   },
   "file_extension": ".py",
   "mimetype": "text/x-python",
   "name": "python",
   "nbconvert_exporter": "python",
   "pygments_lexer": "ipython3",
   "version": "3.11.13"
  }
 },
 "nbformat": 4,
 "nbformat_minor": 5
}
