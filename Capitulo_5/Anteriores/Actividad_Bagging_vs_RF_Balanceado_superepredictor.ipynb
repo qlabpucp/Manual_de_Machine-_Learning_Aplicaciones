{
 "cells": [
  {
   "cell_type": "markdown",
   "id": "a2f7c43d",
   "metadata": {},
   "source": [
    "# Actividad: Bagging vs. Random Forest con Datos Balanceados\n",
    "\n",
    "### Introducción Teórica\n",
    "El método de Random Forest se fundamenta como una mejora sobre Bagging, principalmente por su capacidad para reducir la correlación entre los árboles individuales que componen el ensamblaje. Esto se logra mediante la introducción de un subconjunto aleatorio de predictores en cada división del árbol. \n",
    "\n",
    "Dado que en esta actividad utilizaremos un **dataset perfectamente balanceado (50/50)**, podremos comparar ambos algoritmos en un escenario ideal, enfocándonos únicamente en el impacto de su mecánica interna sin la variable confusora del desbalance de clases.\n",
    "\n",
    "### Objetivo de la Actividad\n",
    "Evaluar y comparar el rendimiento predictivo y la interpretación de los resultados de un modelo de Bagging frente a un modelo de Random Forest en un problema de clasificación con datos balanceados.\n"
   ]
  },
  {
   "cell_type": "markdown",
   "id": "84016291",
   "metadata": {},
   "source": [
    "## 1. Preparación del Entorno y Carga de Datos\n",
    "Importaremos las librerías necesarias y cargaremos nuestro nuevo dataset balanceado, `prediccion_pobreza_peru_balanceada.csv`, antes de dividirlo para el entrenamiento y la prueba."
   ]
  },
  {
   "cell_type": "code",
   "execution_count": null,
   "id": "1c2b502e",
   "metadata": {},
   "outputs": [],
   "source": [
    "# Importación de librerías\n",
    "import pandas as pd\n",
    "import numpy as np\n",
    "import matplotlib.pyplot as plt\n",
    "import seaborn as sns\n",
    "\n",
    "from sklearn.model_selection import train_test_split\n",
    "from sklearn.tree import DecisionTreeClassifier\n",
    "from sklearn.ensemble import BaggingClassifier, RandomForestClassifier\n",
    "from sklearn.pipeline import Pipeline\n",
    "from sklearn.compose import ColumnTransformer\n",
    "from sklearn.preprocessing import StandardScaler, OneHotEncoder\n",
    "from sklearn.metrics import classification_report, roc_auc_score, RocCurveDisplay\n",
    "\n",
    "# Configuraciones\n",
    "import warnings\n",
    "warnings.filterwarnings('ignore')\n",
    "plt.style.use('seaborn-v0_8-whitegrid')\n",
    "\n",
    "# Carga y preparación de datos\n",
    "# ¡IMPORTANTE! Usamos el nuevo archivo balanceado.\n",
    "df = pd.read_csv('prediccion_pobreza_peru_balanceada.csv')\n",
    "X = df.drop('PobrezaMonetaria', axis=1)\n",
    "y = df['PobrezaMonetaria']\n",
    "X_train, X_test, y_train, y_test = train_test_split(X, y, test_size=0.3, random_state=42, stratify=y)\n",
    "\n",
    "print(\"✅ Entorno y datos preparados.\")\n",
    "print(\"\\nVerificación de la distribución en el conjunto de entrenamiento:\")\n",
    "print(y_train.value_counts(normalize=True))\n"
   ]
  },
  {
   "cell_type": "markdown",
   "id": "6167941d",
   "metadata": {},
   "source": [
    "## 2. Implementación del Modelo 1: Bagging Classifier\n",
    "Nuestro primer modelo será un ensamblaje de Bagging. Note que, como nuestros datos están balanceados, **no necesitamos usar el parámetro `class_weight`**. El estimador base será un `DecisionTreeClassifier` estándar."
   ]
  },
  {
   "cell_type": "code",
   "execution_count": null,
   "id": "0d97e22a",
   "metadata": {},
   "outputs": [],
   "source": [
    "# Preprocesador (común para ambos modelos)\n",
    "numerical_cols = X.select_dtypes(include=np.number).columns\n",
    "categorical_cols = X.select_dtypes(include=['object', 'category']).columns\n",
    "\n",
    "preprocessor = ColumnTransformer(\n",
    "    transformers=[\n",
    "        ('num', StandardScaler(), numerical_cols),\n",
    "        ('cat', OneHotEncoder(handle_unknown='ignore'), categorical_cols)\n",
    "    ])\n",
    "\n",
    "# Creación del pipeline para Bagging\n",
    "# NOTA: En versiones recientes de scikit-learn, el parámetro es 'estimator', no 'base_estimator'.\n",
    "bagging_pipeline = Pipeline(steps=[\n",
    "    ('preprocessor', preprocessor),\n",
    "    ('classifier', BaggingClassifier(\n",
    "        estimator=DecisionTreeClassifier(random_state=42), # No se necesita class_weight\n",
    "        n_estimators=100,\n",
    "        random_state=42,\n",
    "        n_jobs=-1\n",
    "    ))\n",
    "])\n",
    "\n",
    "# Entrenamiento del modelo\n",
    "print(\"🚀 Entrenando el modelo Bagging...\")\n",
    "bagging_pipeline.fit(X_train, y_train)\n",
    "print(\"✅ Modelo Bagging entrenado.\")\n",
    "\n",
    "# Evaluación\n",
    "print(\"\\n--- Evaluación del Modelo Bagging ---\")\n",
    "y_pred_bagging = bagging_pipeline.predict(X_test)\n",
    "print(classification_report(y_test, y_pred_bagging, target_names=['No Pobre (0)', 'Pobre (1)']))\n"
   ]
  },
  {
   "cell_type": "markdown",
   "id": "3601512c",
   "metadata": {},
   "source": [
    "## 3. Implementación del Modelo 2: Random Forest\n",
    "Ahora, construiremos el modelo de Random Forest. La única diferencia con Bagging es que el algoritmo interno de Random Forest aplicará la selección aleatoria de características en cada división del árbol."
   ]
  },
  {
   "cell_type": "code",
   "execution_count": null,
   "id": "4aaee587",
   "metadata": {},
   "outputs": [],
   "source": [
    "# Creación del pipeline para Random Forest\n",
    "rf_pipeline = Pipeline(steps=[\n",
    "    ('preprocessor', preprocessor),\n",
    "    ('classifier', RandomForestClassifier(\n",
    "        n_estimators=100, # Mismo número de árboles para una comparación justa\n",
    "        random_state=42,  # No se necesita class_weight\n",
    "        n_jobs=-1\n",
    "    ))\n",
    "])\n",
    "\n",
    "# Entrenamiento del modelo\n",
    "print(\"🚀 Entrenando el modelo Random Forest...\")\n",
    "rf_pipeline.fit(X_train, y_train)\n",
    "print(\"✅ Modelo Random Forest entrenado.\")\n",
    "\n",
    "# Evaluación\n",
    "print(\"\\n--- Evaluación del Modelo Random Forest ---\")\n",
    "y_pred_rf = rf_pipeline.predict(X_test)\n",
    "print(classification_report(y_test, y_pred_rf, target_names=['No Pobre (0)', 'Pobre (1)']))\n"
   ]
  },
  {
   "cell_type": "markdown",
   "id": "2691d303",
   "metadata": {},
   "source": [
    "## 4. Análisis Comparativo de Resultados\n",
    "Con ambos modelos entrenados, ahora podemos comparar su rendimiento de manera directa.\n",
    "\n",
    "### 4.1 Comparación de Métricas de Rendimiento\n",
    "Dado que las clases están balanceadas, ahora la métrica de **`accuracy`** es un indicador fiable, junto con el **`AUC`**."
   ]
  },
  {
   "cell_type": "code",
   "execution_count": null,
   "id": "486998b2",
   "metadata": {},
   "outputs": [],
   "source": [
    "# Comparación de Curvas ROC\n",
    "fig, ax = plt.subplots(figsize=(10, 8))\n",
    "RocCurveDisplay.from_estimator(bagging_pipeline, X_test, y_test, ax=ax, name='Bagging')\n",
    "RocCurveDisplay.from_estimator(rf_pipeline, X_test, y_test, ax=ax, name='Random Forest')\n",
    "ax.set_title('Comparación de Curvas ROC: Bagging vs. Random Forest', fontsize=16)\n",
    "plt.show()\n",
    "\n",
    "# Comparación numérica\n",
    "auc_bagging = roc_auc_score(y_test, bagging_pipeline.predict_proba(X_test)[:, 1])\n",
    "auc_rf = roc_auc_score(y_test, rf_pipeline.predict_proba(X_test)[:, 1])\n",
    "print(f\"AUC del Modelo Bagging: {auc_bagging:.4f}\")\n",
    "print(f\"AUC del Modelo Random Forest: {auc_rf:.4f}\")\n"
   ]
  },
  {
   "cell_type": "markdown",
   "id": "989bc101",
   "metadata": {},
   "source": [
    "### 4.2 Comparación de Importancia de Variables\n",
    "¿Coinciden ambos modelos en cuáles son las variables más predictivas?"
   ]
  },
  {
   "cell_type": "code",
   "execution_count": null,
   "id": "e81fdf45",
   "metadata": {},
   "outputs": [],
   "source": [
    "# Función para obtener y graficar la importancia de variables\n",
    "def plot_feature_importance(pipeline, title, ax):\n",
    "    feature_names_raw = pipeline.named_steps['preprocessor'].get_feature_names_out()\n",
    "    \n",
    "    if isinstance(pipeline.named_steps['classifier'], RandomForestClassifier):\n",
    "        importances = pipeline.named_steps['classifier'].feature_importances_\n",
    "    elif isinstance(pipeline.named_steps['classifier'], BaggingClassifier):\n",
    "        importances = np.mean([tree.feature_importances_ for tree in pipeline.named_steps['classifier'].estimators_], axis=0)\n",
    "    \n",
    "    df_importance = pd.DataFrame({'feature': feature_names_raw, 'importance': importances}).sort_values('importance', ascending=False)\n",
    "    \n",
    "    sns.barplot(x='importance', y='feature', data=df_importance.head(15), ax=ax, palette='viridis')\n",
    "    ax.set_title(title, fontsize=14)\n",
    "    ax.set_xlabel('Importancia')\n",
    "    ax.set_ylabel('Variable')\n",
    "\n",
    "# Crear subplots para comparar\n",
    "fig, (ax1, ax2) = plt.subplots(1, 2, figsize=(20, 10))\n",
    "plt.suptitle('Top 15 Variables más Importantes', fontsize=20, y=1.02)\n",
    "plot_feature_importance(bagging_pipeline, 'Bagging', ax=ax1)\n",
    "plot_feature_importance(rf_pipeline, 'Random Forest', ax=ax2)\n",
    "plt.tight_layout()\n",
    "plt.show()\n"
   ]
  },
  {
   "cell_type": "markdown",
   "id": "05303a99",
   "metadata": {},
   "source": [
    "## 5. Análisis de Resultados y Discusión\n",
    "Una vez implementados ambos modelos y visualizados los resultados, proceda a realizar un análisis comparativo respondiendo a las siguientes cuestiones."
   ]
  },
  {
   "cell_type": "markdown",
   "id": "8c45ebe7",
   "metadata": {},
   "source": [
    "### Cuestión 1: Rendimiento Predictivo\n",
    "Compare la métrica de **`accuracy`** y el valor **`AUC`** obtenidos por ambos modelos. Determine si la diferencia en el rendimiento es cuantitativamente significativa o marginal."
   ]
  },
  {
   "cell_type": "markdown",
   "id": "9a37bd33",
   "metadata": {},
   "source": [
    "> *Escriba aquí su respuesta...*"
   ]
  },
  {
   "cell_type": "markdown",
   "id": "8f031516",
   "metadata": {},
   "source": [
    "### Cuestión 2: Importancia de Variables\n",
    "Analice y compare los rankings de importancia de variables generados por cada modelo. ¿Coinciden los modelos en las variables más influyentes? ¿Existen discrepancias notables en la jerarquía de predictores?"
   ]
  },
  {
   "cell_type": "markdown",
   "id": "5fadc173",
   "metadata": {},
   "source": [
    "> *Escriba aquí su respuesta...*"
   ]
  },
  {
   "cell_type": "markdown",
   "id": "fc3d88a6",
   "metadata": {},
   "source": [
    "### Cuestión 3: Análisis Crítico\n",
    "A partir de los resultados obtenidos y la teoría expuesta, elabore una justificación para el rendimiento observado. Argumente si el mecanismo de descorrelación de árboles que introduce Random Forest fue, en este caso práctico, un factor determinante para mejorar la capacidad predictiva en comparación con Bagging."
   ]
  },
  {
   "cell_type": "markdown",
   "id": "ced303a7",
   "metadata": {},
   "source": [
    "> *Escriba aquí su respuesta...*"
   ]
  }
 ],
 "metadata": {},
 "nbformat": 4,
 "nbformat_minor": 5
}
