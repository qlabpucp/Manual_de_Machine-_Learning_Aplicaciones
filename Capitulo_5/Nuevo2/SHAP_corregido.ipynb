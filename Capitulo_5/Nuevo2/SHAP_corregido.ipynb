{
 "cells": [
  {
   "cell_type": "markdown",
   "metadata": {},
   "source": [
    "# Código SHAP Corregido\n",
    "\n",
    "Este notebook contiene el código corregido para implementar SHAP en el análisis del modelo de predicción de pobreza."
   ]
  },
  {
   "cell_type": "code",
   "execution_count": null,
   "metadata": {},
   "outputs": [],
   "source": [
    "# Instalar SHAP si no está instalado\n",
    "try:\n",
    "    import shap\n",
    "except ImportError:\n",
    "    !pip install shap\n",
    "    import shap"
   ]
  },
  {
   "cell_type": "code",
   "execution_count": null,
   "metadata": {},
   "outputs": [],
   "source": [
    "# Verificar si las variables necesarias están definidas, si no, ejecutar el código necesario\n",
    "try:\n",
    "    best_model\n",
    "    X_test\n",
    "    all_feature_names\n",
    "    print(\"✅ Variables necesarias para SHAP encontradas\")\n",
    "except NameError as e:\n",
    "    print(f\"⚠️ Error: {e}\")\n",
    "    print(\"Ejecutando código necesario para definir las variables...\")\n",
    "    \n",
    "    # Cargar datos si no están disponibles\n",
    "    if 'df' not in locals():\n",
    "        df = pd.read_csv('prediccion_pobreza_peru.csv')\n",
    "        X = df.drop(['PobrezaMonetaria', 'IngresoMensualHogar', 'GastoMensualHogar'], axis=1)\n",
    "        y = df['PobrezaMonetaria']\n",
    "        \n",
    "        # Identificar columnas numéricas y categóricas\n",
    "        numerical_cols = X.select_dtypes(include=np.number).columns\n",
    "        categorical_cols = X.select_dtypes(include=['object', 'category']).columns\n",
    "        \n",
    "        # Dividir datos\n",
    "        from sklearn.model_selection import train_test_split\n",
    "        X_train, X_test, y_train, y_test = train_test_split(X, y, test_size=0.3, random_state=42, stratify=y)\n",
    "        \n",
    "        # Crear pipeline\n",
    "        numeric_transformer = Pipeline(steps=[('scaler', StandardScaler())])\n",
    "        categorical_transformer = Pipeline(steps=[('onehot', OneHotEncoder(handle_unknown='ignore'))])\n",
    "        preprocessor = ColumnTransformer(\n",
    "            transformers=[('num', numeric_transformer, numerical_cols),\n",
    "                         ('cat', categorical_transformer, categorical_cols)],\n",
    "            remainder='passthrough'\n",
    "        )\n",
    "        rf_model = RandomForestClassifier(random_state=42, n_estimators=100)\n",
    "        pipeline_final = Pipeline(steps=[('preprocessor', preprocessor), ('classifier', rf_model)])\n",
    "        \n",
    "        # Entrenar modelo\n",
    "        pipeline_final.fit(X_train, y_train)\n",
    "        \n",
    "        # Optimizar con GridSearchCV si best_model no está definido\n",
    "        if 'best_model' not in locals():\n",
    "            param_grid = {\n",
    "                'classifier__n_estimators': [150, 250, 300],\n",
    "                'classifier__max_depth': [10, 20, None],\n",
    "                'classifier__min_samples_leaf': [1, 2, 4]\n",
    "            }\n",
    "            grid_search = GridSearchCV(\n",
    "                estimator=pipeline_final,\n",
    "                param_grid=param_grid,\n",
    "                scoring='accuracy',\n",
    "                cv=3,\n",
    "                n_jobs=-1,\n",
    "                verbose=1\n",
    "            )\n",
    "            grid_search.fit(X_train, y_train)\n",
    "            best_model = grid_search.best_estimator_\n",
    "        \n",
    "        # Obtener nombres de características\n",
    "        try:\n",
    "            ohe_feature_names = best_model.named_steps['preprocessor'].named_transformers_['cat'].named_steps['onehot'].get_feature_names_out(categorical_cols)\n",
    "        except AttributeError:\n",
    "            ohe_feature_names = best_model.named_steps['preprocessor'].named_transformers_['cat']['onehot'].get_feature_names(categorical_cols)\n",
    "        \n",
    "        all_feature_names = np.concatenate([numerical_cols, ohe_feature_names])"
   ]
  },
  {
   "cell_type": "code",
   "execution_count": null,
   "metadata": {},
   "outputs": [],
   "source": [
    "# Crear el explicador SHAP con el clasificador (no el pipeline completo)\n",
    "print(\"🔍 Creando explicador SHAP...\")\n",
    "explainer = shap.TreeExplainer(best_model.named_steps['classifier'])"
   ]
  },
  {
   "cell_type": "code",
   "execution_count": null,
   "metadata": {},
   "outputs": [],
   "source": [
    "# Preprocesar los datos de prueba\n",
    "print(\"📊 Preprocesando datos de prueba...\")\n",
    "X_test_processed = best_model.named_steps['preprocessor'].transform(X_test)"
   ]
  },
  {
   "cell_type": "code",
   "execution_count": null,
   "metadata": {},
   "outputs": [],
   "source": [
    "# Calcular los valores SHAP\n",
    "print(\"🧮 Calculando valores SHAP...\")\n",
    "shap_values = explainer.shap_values(X_test_processed)\n",
    "\n",
    "# Para clasificación binaria, shap_values es una lista con dos arrays\n",
    "# Usamos el segundo array (clase positiva) para los gráficos\n",
    "if isinstance(shap_values, list):\n",
    "    shap_values_class = shap_values[1]  # Clase positiva (pobreza)\n",
    "else:\n",
    "    shap_values_class = shap_values"
   ]
  },
  {
   "cell_type": "code",
   "execution_count": null,
   "metadata": {},
   "outputs": [],
   "source": [
    "# Crear gráfico de resumen con nombres de características correctos\n",
    "print(\"📈 Creando gráfico de resumen SHAP...\")\n",
    "plt.figure(figsize=(12, 8))\n",
    "shap.summary_plot(shap_values_class, X_test_processed, feature_names=all_feature_names, plot_type=\"bar\")"
   ]
  },
  {
   "cell_type": "code",
   "execution_count": null,
   "metadata": {},
   "outputs": [],
   "source": [
    "# Crear gráfico de resumen detallado\n",
    "print(\"📉 Creando gráfico detallado SHAP...\")\n",
    "plt.figure(figsize=(12, 8))\n",
    "shap.summary_plot(shap_values_class, X_test_processed, feature_names=all_feature_names)"
   ]
  },
  {
   "cell_type": "code",
   "execution_count": null,
   "metadata": {},
   "outputs": [],
   "source": [
    "print(\"✅ Análisis SHAP completado exitosamente\")"
   ]
  }
 ],
 "metadata": {
  "kernelspec": {
   "display_name": "Python 3",
   "language": "python",
   "name": "python3"
  },
  "language_info": {
   "codemirror_mode": {
    "name": "ipython",
    "version": 3
   },
   "file_extension": ".py",
   "mimetype": "text/x-python",
   "name": "python",
   "nbconvert_exporter": "python",
   "pygments_lexer": "ipython3",
   "version": "3.8.5"
  }
 },
 "nbformat": 4,
 "nbformat_minor": 4
}