{
 "cells": [
  {
   "cell_type": "markdown",
   "metadata": {},
   "source": [
    "# 🌳 Modelo de Machine Learning para Predecir la Pobreza Monetaria en Perú\n",
    "\n",
    "## 🎯 Objetivo de la Actividad\n",
    "En este notebook, construiremos, entrenaremos y evaluaremos un modelo de **Random Forest** para predecir si un hogar en Perú caerá en situación de pobreza monetaria. Utilizaremos una base de datos sintética que simula las características de los hogares peruanos.\n",
    "\n",
    "### ¿Por qué Random Forest?\n",
    "El Random Forest (Bosque Aleatorio) es un modelo de *aprendizaje supervisado* ideal para este problema por varias razones:\n",
    "- **Versatilidad**: Funciona muy bien tanto con variables numéricas como categóricas.\n",
    "- **Robustez**: Es menos propenso al sobreajuste (overfitting) que un único árbol de decisión.\n",
    "- **Interpretabilidad**: Nos permite conocer qué variables son las más importantes para predecir la pobreza.\n",
    "\n",
    "\n",
    "### 📋 Hipótesis a Validar:\n",
    "Esperamos que las variables más influyentes para predecir la pobreza (ahora que los datos son más realistas) sean las estructurales, no los indicadores directos de riqueza:\n",
    "1.  **Nivel Educativo y Años de Estudio**: A mayor educación, menor probabilidad de pobreza.\n",
    "2.  **Tipo de Empleo**: El empleo formal protege contra la pobreza.\n",
    "3.  **Área de Residencia**: La incidencia de pobreza suele ser mayor en zonas rurales.\n",
    "4.  **Número de Miembros en el Hogar**: A más miembros, mayor necesidad de ingresos.\n",
    "\n",
    "### 🧠 Conceptos Clave que Aprenderemos:\n",
    "- **Preprocesamiento de datos**: Cómo preparar variables categóricas y numéricas.\n",
    "- **Pipelines en Scikit-learn**: Para organizar nuestro flujo de trabajo de forma profesional.\n",
    "- **Entrenamiento de un clasificador**: Cómo enseñarle al modelo a partir de los datos.\n",
    "- **Métricas de Evaluación**: No solo la exactitud (accuracy), sino también la **Precisión**, el **Recall** y la **Matriz de Confusión**, cruciales para problemas sociales.\n",
    "- **Importancia de Variables (Feature Importance)**: Cómo el modelo nos \"explica\" su decisión."
   ]
  },
  {
   "cell_type": "markdown",
   "metadata": {},
   "source": [
    "## 📚 1. Definición del Problema y Preparación Inicial"
   ]
  },
  {
   "cell_type": "code",
   "execution_count": 2,
   "metadata": {},
   "outputs": [
    {
     "name": "stdout",
     "output_type": "stream",
     "text": [
      "✅ Librerías importadas correctamente. ¡Listos para empezar!\n"
     ]
    }
   ],
   "source": [
    "# Importamos las librerías necesarias para nuestro análisis\n",
    "\n",
    "# Para manipulación de datos\n",
    "import pandas as pd\n",
    "import numpy as np\n",
    "\n",
    "# Para visualizaciones\n",
    "import matplotlib.pyplot as plt\n",
    "import seaborn as sns\n",
    "\n",
    "# Para preprocesamiento y modelado con Scikit-Learn\n",
    "from sklearn.model_selection import train_test_split\n",
    "from sklearn.preprocessing import StandardScaler, OneHotEncoder\n",
    "from sklearn.compose import ColumnTransformer\n",
    "from sklearn.pipeline import Pipeline\n",
    "from sklearn.ensemble import RandomForestClassifier\n",
    "from sklearn.model_selection import GridSearchCV\n",
    "\n",
    "\n",
    "# Para evaluar el modelo\n",
    "from sklearn.metrics import classification_report, confusion_matrix, accuracy_score, roc_auc_score, RocCurveDisplay\n",
    "\n",
    "# Configuraciones adicionales\n",
    "import warnings\n",
    "warnings.filterwarnings('ignore')\n",
    "plt.style.use('seaborn-v0_8-whitegrid')\n",
    "\n",
    "print(\"✅ Librerías importadas correctamente. ¡Listos para empezar!\")"
   ]
  },
  {
   "cell_type": "markdown",
   "metadata": {},
   "source": [
    "## 🛠️ 2. Preprocesamiento y Limpieza de Datos\n",
    "Este es el paso más crítico en cualquier proyecto de Machine Learning.  Nuestro objetivo es transformar los datos crudos en un formato limpio y estructurado que el modelo pueda entender.\n",
    "\n",
    "### Pasos a seguir:\n",
    "1.  **Cargar los datos**: Importar nuestro archivo `prediccion_pobreza_peru.csv`.\n",
    "2.  **Inspección inicial**: Entender la estructura, tipos de datos y buscar posibles problemas (aunque nuestra base es sintética y limpia).\n",
    "3.  **Separar variables**: Dividir nuestro dataset en variables predictoras (`X`) y la variable objetivo (`y`).\n",
    "4.  **Identificar tipos de variables**: Separar las columnas numéricas de las categóricas para aplicarles transformaciones diferentes."
   ]
  },
  {
   "cell_type": "code",
   "execution_count": 3,
   "metadata": {},
   "outputs": [
    {
     "name": "stdout",
     "output_type": "stream",
     "text": [
      "Primeras 5 filas del dataset:\n"
     ]
    },
    {
     "data": {
      "application/vnd.microsoft.datawrangler.viewer.v0+json": {
       "columns": [
        {
         "name": "index",
         "rawType": "int64",
         "type": "integer"
        },
        {
         "name": "EdadJefeHogar",
         "rawType": "int64",
         "type": "integer"
        },
        {
         "name": "SexoJefeHogar",
         "rawType": "object",
         "type": "string"
        },
        {
         "name": "MiembrosHogar",
         "rawType": "int64",
         "type": "integer"
        },
        {
         "name": "RatioDependencia",
         "rawType": "float64",
         "type": "float"
        },
        {
         "name": "LenguaMaterna",
         "rawType": "object",
         "type": "string"
        },
        {
         "name": "NivelEducativoJefeHogar",
         "rawType": "object",
         "type": "string"
        },
        {
         "name": "TipoEmpleo",
         "rawType": "object",
         "type": "string"
        },
        {
         "name": "AreaResidencia",
         "rawType": "object",
         "type": "string"
        },
        {
         "name": "Region",
         "rawType": "object",
         "type": "string"
        },
        {
         "name": "AccesoAguaPotable",
         "rawType": "int64",
         "type": "integer"
        },
        {
         "name": "AccesoSaneamiento",
         "rawType": "int64",
         "type": "integer"
        },
        {
         "name": "Hacinamiento",
         "rawType": "int64",
         "type": "integer"
        },
        {
         "name": "PoseeActivos",
         "rawType": "int64",
         "type": "integer"
        },
        {
         "name": "TenenciaVivienda",
         "rawType": "object",
         "type": "string"
        },
        {
         "name": "MaterialParedes",
         "rawType": "object",
         "type": "string"
        },
        {
         "name": "AccesoElectricidad",
         "rawType": "int64",
         "type": "integer"
        },
        {
         "name": "AniosEstudioJefeHogar",
         "rawType": "int64",
         "type": "integer"
        },
        {
         "name": "IngresoMensualHogar",
         "rawType": "float64",
         "type": "float"
        },
        {
         "name": "GastoMensualHogar",
         "rawType": "float64",
         "type": "float"
        },
        {
         "name": "PobrezaMonetaria",
         "rawType": "int64",
         "type": "integer"
        }
       ],
       "ref": "6fbba20e-3946-49dd-bb5a-5475473c7337",
       "rows": [
        [
         "0",
         "20",
         "Hombre",
         "4",
         "0.48",
         "Español",
         "Secundaria",
         "Informal",
         "Rural",
         "Costa",
         "1",
         "1",
         "1",
         "1",
         "Propia",
         "Ladrillo/Cemento",
         "1",
         "10",
         "735.0",
         "746.73",
         "1"
        ],
        [
         "1",
         "45",
         "Mujer",
         "8",
         "1.27",
         "Español",
         "Secundaria",
         "Informal",
         "Urbana",
         "Costa",
         "1",
         "0",
         "0",
         "1",
         "Propia",
         "Ladrillo/Cemento",
         "1",
         "7",
         "2568.16",
         "2465.73",
         "1"
        ],
        [
         "2",
         "39",
         "Mujer",
         "4",
         "0.12",
         "Español",
         "Superior",
         "Desempleado",
         "Rural",
         "Costa",
         "1",
         "1",
         "1",
         "1",
         "Propia",
         "Ladrillo/Cemento",
         "1",
         "21",
         "1474.71",
         "1704.89",
         "1"
        ],
        [
         "3",
         "28",
         "Mujer",
         "3",
         "2.85",
         "Español",
         "Ninguno",
         "Formal",
         "Urbana",
         "Costa",
         "1",
         "1",
         "1",
         "0",
         "Alquilada",
         "Madera/Esteras",
         "1",
         "0",
         "3420.87",
         "2935.34",
         "0"
        ],
        [
         "4",
         "36",
         "Hombre",
         "7",
         "1.9",
         "Español",
         "Superior",
         "Informal",
         "Rural",
         "Selva",
         "1",
         "1",
         "1",
         "1",
         "Propia",
         "Adobe",
         "1",
         "14",
         "922.37",
         "676.64",
         "1"
        ]
       ],
       "shape": {
        "columns": 20,
        "rows": 5
       }
      },
      "text/html": [
       "<div>\n",
       "<style scoped>\n",
       "    .dataframe tbody tr th:only-of-type {\n",
       "        vertical-align: middle;\n",
       "    }\n",
       "\n",
       "    .dataframe tbody tr th {\n",
       "        vertical-align: top;\n",
       "    }\n",
       "\n",
       "    .dataframe thead th {\n",
       "        text-align: right;\n",
       "    }\n",
       "</style>\n",
       "<table border=\"1\" class=\"dataframe\">\n",
       "  <thead>\n",
       "    <tr style=\"text-align: right;\">\n",
       "      <th></th>\n",
       "      <th>EdadJefeHogar</th>\n",
       "      <th>SexoJefeHogar</th>\n",
       "      <th>MiembrosHogar</th>\n",
       "      <th>RatioDependencia</th>\n",
       "      <th>LenguaMaterna</th>\n",
       "      <th>NivelEducativoJefeHogar</th>\n",
       "      <th>TipoEmpleo</th>\n",
       "      <th>AreaResidencia</th>\n",
       "      <th>Region</th>\n",
       "      <th>AccesoAguaPotable</th>\n",
       "      <th>AccesoSaneamiento</th>\n",
       "      <th>Hacinamiento</th>\n",
       "      <th>PoseeActivos</th>\n",
       "      <th>TenenciaVivienda</th>\n",
       "      <th>MaterialParedes</th>\n",
       "      <th>AccesoElectricidad</th>\n",
       "      <th>AniosEstudioJefeHogar</th>\n",
       "      <th>IngresoMensualHogar</th>\n",
       "      <th>GastoMensualHogar</th>\n",
       "      <th>PobrezaMonetaria</th>\n",
       "    </tr>\n",
       "  </thead>\n",
       "  <tbody>\n",
       "    <tr>\n",
       "      <th>0</th>\n",
       "      <td>20</td>\n",
       "      <td>Hombre</td>\n",
       "      <td>4</td>\n",
       "      <td>0.48</td>\n",
       "      <td>Español</td>\n",
       "      <td>Secundaria</td>\n",
       "      <td>Informal</td>\n",
       "      <td>Rural</td>\n",
       "      <td>Costa</td>\n",
       "      <td>1</td>\n",
       "      <td>1</td>\n",
       "      <td>1</td>\n",
       "      <td>1</td>\n",
       "      <td>Propia</td>\n",
       "      <td>Ladrillo/Cemento</td>\n",
       "      <td>1</td>\n",
       "      <td>10</td>\n",
       "      <td>735.00</td>\n",
       "      <td>746.73</td>\n",
       "      <td>1</td>\n",
       "    </tr>\n",
       "    <tr>\n",
       "      <th>1</th>\n",
       "      <td>45</td>\n",
       "      <td>Mujer</td>\n",
       "      <td>8</td>\n",
       "      <td>1.27</td>\n",
       "      <td>Español</td>\n",
       "      <td>Secundaria</td>\n",
       "      <td>Informal</td>\n",
       "      <td>Urbana</td>\n",
       "      <td>Costa</td>\n",
       "      <td>1</td>\n",
       "      <td>0</td>\n",
       "      <td>0</td>\n",
       "      <td>1</td>\n",
       "      <td>Propia</td>\n",
       "      <td>Ladrillo/Cemento</td>\n",
       "      <td>1</td>\n",
       "      <td>7</td>\n",
       "      <td>2568.16</td>\n",
       "      <td>2465.73</td>\n",
       "      <td>1</td>\n",
       "    </tr>\n",
       "    <tr>\n",
       "      <th>2</th>\n",
       "      <td>39</td>\n",
       "      <td>Mujer</td>\n",
       "      <td>4</td>\n",
       "      <td>0.12</td>\n",
       "      <td>Español</td>\n",
       "      <td>Superior</td>\n",
       "      <td>Desempleado</td>\n",
       "      <td>Rural</td>\n",
       "      <td>Costa</td>\n",
       "      <td>1</td>\n",
       "      <td>1</td>\n",
       "      <td>1</td>\n",
       "      <td>1</td>\n",
       "      <td>Propia</td>\n",
       "      <td>Ladrillo/Cemento</td>\n",
       "      <td>1</td>\n",
       "      <td>21</td>\n",
       "      <td>1474.71</td>\n",
       "      <td>1704.89</td>\n",
       "      <td>1</td>\n",
       "    </tr>\n",
       "    <tr>\n",
       "      <th>3</th>\n",
       "      <td>28</td>\n",
       "      <td>Mujer</td>\n",
       "      <td>3</td>\n",
       "      <td>2.85</td>\n",
       "      <td>Español</td>\n",
       "      <td>Ninguno</td>\n",
       "      <td>Formal</td>\n",
       "      <td>Urbana</td>\n",
       "      <td>Costa</td>\n",
       "      <td>1</td>\n",
       "      <td>1</td>\n",
       "      <td>1</td>\n",
       "      <td>0</td>\n",
       "      <td>Alquilada</td>\n",
       "      <td>Madera/Esteras</td>\n",
       "      <td>1</td>\n",
       "      <td>0</td>\n",
       "      <td>3420.87</td>\n",
       "      <td>2935.34</td>\n",
       "      <td>0</td>\n",
       "    </tr>\n",
       "    <tr>\n",
       "      <th>4</th>\n",
       "      <td>36</td>\n",
       "      <td>Hombre</td>\n",
       "      <td>7</td>\n",
       "      <td>1.90</td>\n",
       "      <td>Español</td>\n",
       "      <td>Superior</td>\n",
       "      <td>Informal</td>\n",
       "      <td>Rural</td>\n",
       "      <td>Selva</td>\n",
       "      <td>1</td>\n",
       "      <td>1</td>\n",
       "      <td>1</td>\n",
       "      <td>1</td>\n",
       "      <td>Propia</td>\n",
       "      <td>Adobe</td>\n",
       "      <td>1</td>\n",
       "      <td>14</td>\n",
       "      <td>922.37</td>\n",
       "      <td>676.64</td>\n",
       "      <td>1</td>\n",
       "    </tr>\n",
       "  </tbody>\n",
       "</table>\n",
       "</div>"
      ],
      "text/plain": [
       "   EdadJefeHogar SexoJefeHogar  MiembrosHogar  RatioDependencia LenguaMaterna  \\\n",
       "0             20        Hombre              4              0.48       Español   \n",
       "1             45         Mujer              8              1.27       Español   \n",
       "2             39         Mujer              4              0.12       Español   \n",
       "3             28         Mujer              3              2.85       Español   \n",
       "4             36        Hombre              7              1.90       Español   \n",
       "\n",
       "  NivelEducativoJefeHogar   TipoEmpleo AreaResidencia Region  \\\n",
       "0              Secundaria     Informal          Rural  Costa   \n",
       "1              Secundaria     Informal         Urbana  Costa   \n",
       "2                Superior  Desempleado          Rural  Costa   \n",
       "3                 Ninguno       Formal         Urbana  Costa   \n",
       "4                Superior     Informal          Rural  Selva   \n",
       "\n",
       "   AccesoAguaPotable  AccesoSaneamiento  Hacinamiento  PoseeActivos  \\\n",
       "0                  1                  1             1             1   \n",
       "1                  1                  0             0             1   \n",
       "2                  1                  1             1             1   \n",
       "3                  1                  1             1             0   \n",
       "4                  1                  1             1             1   \n",
       "\n",
       "  TenenciaVivienda   MaterialParedes  AccesoElectricidad  \\\n",
       "0           Propia  Ladrillo/Cemento                   1   \n",
       "1           Propia  Ladrillo/Cemento                   1   \n",
       "2           Propia  Ladrillo/Cemento                   1   \n",
       "3        Alquilada    Madera/Esteras                   1   \n",
       "4           Propia             Adobe                   1   \n",
       "\n",
       "   AniosEstudioJefeHogar  IngresoMensualHogar  GastoMensualHogar  \\\n",
       "0                     10               735.00             746.73   \n",
       "1                      7              2568.16            2465.73   \n",
       "2                     21              1474.71            1704.89   \n",
       "3                      0              3420.87            2935.34   \n",
       "4                     14               922.37             676.64   \n",
       "\n",
       "   PobrezaMonetaria  \n",
       "0                 1  \n",
       "1                 1  \n",
       "2                 1  \n",
       "3                 0  \n",
       "4                 1  "
      ]
     },
     "metadata": {},
     "output_type": "display_data"
    },
    {
     "name": "stdout",
     "output_type": "stream",
     "text": [
      "\n",
      "Información general del DataFrame:\n",
      "<class 'pandas.core.frame.DataFrame'>\n",
      "RangeIndex: 2000 entries, 0 to 1999\n",
      "Data columns (total 20 columns):\n",
      " #   Column                   Non-Null Count  Dtype  \n",
      "---  ------                   --------------  -----  \n",
      " 0   EdadJefeHogar            2000 non-null   int64  \n",
      " 1   SexoJefeHogar            2000 non-null   object \n",
      " 2   MiembrosHogar            2000 non-null   int64  \n",
      " 3   RatioDependencia         2000 non-null   float64\n",
      " 4   LenguaMaterna            2000 non-null   object \n",
      " 5   NivelEducativoJefeHogar  2000 non-null   object \n",
      " 6   TipoEmpleo               2000 non-null   object \n",
      " 7   AreaResidencia           2000 non-null   object \n",
      " 8   Region                   2000 non-null   object \n",
      " 9   AccesoAguaPotable        2000 non-null   int64  \n",
      " 10  AccesoSaneamiento        2000 non-null   int64  \n",
      " 11  Hacinamiento             2000 non-null   int64  \n",
      " 12  PoseeActivos             2000 non-null   int64  \n",
      " 13  TenenciaVivienda         2000 non-null   object \n",
      " 14  MaterialParedes          2000 non-null   object \n",
      " 15  AccesoElectricidad       2000 non-null   int64  \n",
      " 16  AniosEstudioJefeHogar    2000 non-null   int64  \n",
      " 17  IngresoMensualHogar      2000 non-null   float64\n",
      " 18  GastoMensualHogar        2000 non-null   float64\n",
      " 19  PobrezaMonetaria         2000 non-null   int64  \n",
      "dtypes: float64(3), int64(9), object(8)\n",
      "memory usage: 312.6+ KB\n",
      "\n",
      "El dataset tiene 2000 filas y 20 columnas.\n",
      "\n",
      "Conteo de valores nulos por columna:\n",
      "EdadJefeHogar              0\n",
      "SexoJefeHogar              0\n",
      "MiembrosHogar              0\n",
      "RatioDependencia           0\n",
      "LenguaMaterna              0\n",
      "NivelEducativoJefeHogar    0\n",
      "TipoEmpleo                 0\n",
      "AreaResidencia             0\n",
      "Region                     0\n",
      "AccesoAguaPotable          0\n",
      "AccesoSaneamiento          0\n",
      "Hacinamiento               0\n",
      "PoseeActivos               0\n",
      "TenenciaVivienda           0\n",
      "MaterialParedes            0\n",
      "AccesoElectricidad         0\n",
      "AniosEstudioJefeHogar      0\n",
      "IngresoMensualHogar        0\n",
      "GastoMensualHogar          0\n",
      "PobrezaMonetaria           0\n",
      "dtype: int64\n"
     ]
    }
   ],
   "source": [
    "# 2.1 Cargar e Inspeccionar los Datos\n",
    "df = pd.read_csv('prediccion_pobreza_peru.csv')\n",
    "\n",
    "print(\"Primeras 5 filas del dataset:\")\n",
    "display(df.head())\n",
    "\n",
    "print(\"\\nInformación general del DataFrame:\")\n",
    "df.info()\n",
    "\n",
    "print(f\"\\nEl dataset tiene {df.shape[0]} filas y {df.shape[1]} columnas.\")\n",
    "\n",
    "# Verificamos que no haya valores nulos (importante en un caso real)\n",
    "print(\"\\nConteo de valores nulos por columna:\")\n",
    "print(df.isnull().sum())"
   ]
  },
  {
   "cell_type": "code",
   "execution_count": 4,
   "metadata": {},
   "outputs": [
    {
     "name": "stdout",
     "output_type": "stream",
     "text": [
      "Dimensiones de X (variables predictoras): (2000, 17)\n",
      "Dimensiones de y (variable objetivo): (2000,)\n",
      "\n",
      "Columnas Numéricas (9): ['EdadJefeHogar', 'MiembrosHogar', 'RatioDependencia', 'AccesoAguaPotable', 'AccesoSaneamiento', 'Hacinamiento', 'PoseeActivos', 'AccesoElectricidad', 'AniosEstudioJefeHogar']\n",
      "\n",
      "Columnas Categóricas (8): ['SexoJefeHogar', 'LenguaMaterna', 'NivelEducativoJefeHogar', 'TipoEmpleo', 'AreaResidencia', 'Region', 'TenenciaVivienda', 'MaterialParedes']\n"
     ]
    }
   ],
   "source": [
    "# 2.2 Separar variables predictoras (X) y objetivo (y)\n",
    "\n",
    "#Definimos los predictores y quitamos las variables que nos vamos a usar.\n",
    "X = df.drop(['PobrezaMonetaria', 'IngresoMensualHogar', 'GastoMensualHogar'], axis=1)\n",
    "\n",
    "#Definimos la variable a predecir\n",
    "y = df['PobrezaMonetaria']\n",
    "\n",
    "print(f\"Dimensiones de X (variables predictoras): {X.shape}\")\n",
    "print(f\"Dimensiones de y (variable objetivo): {y.shape}\")\n",
    "\n",
    "# 2.3 Identificar columnas numéricas y categóricas\n",
    "numerical_cols = X.select_dtypes(include=np.number).columns\n",
    "categorical_cols = X.select_dtypes(include=['object', 'category']).columns\n",
    "\n",
    "print(f\"\\nColumnas Numéricas ({len(numerical_cols)}): {list(numerical_cols)}\")\n",
    "print(f\"\\nColumnas Categóricas ({len(categorical_cols)}): {list(categorical_cols)}\")"
   ]
  },
  {
   "cell_type": "markdown",
   "metadata": {},
   "source": [
    "## 3. División de los Datos (Entrenamiento y Prueba)\n",
    "Para evaluar de manera honesta el rendimiento de nuestro modelo, debemos dividir nuestros datos en dos conjuntos:\n",
    "\n",
    "- **Conjunto de Entrenamiento (Training set)**: Usado para \"enseñar\" al modelo. Generalmente es el 70-80% de los datos.\n",
    "- **Conjunto de Prueba (Test set)**: Usado para evaluar qué tan bien generaliza el modelo a datos nuevos que nunca ha visto.\n",
    "\n",
    "Usaremos el parámetro `stratify=y` para asegurar que la proporción de hogares pobres y no pobres sea la misma en ambos conjuntos."
   ]
  },
  {
   "cell_type": "code",
   "execution_count": 5,
   "metadata": {},
   "outputs": [
    {
     "name": "stdout",
     "output_type": "stream",
     "text": [
      "Distribución de la variable objetivo en el conjunto original:\n",
      "PobrezaMonetaria\n",
      "0    0.5715\n",
      "1    0.4285\n",
      "Name: proportion, dtype: float64\n",
      "\n",
      "Distribución en el conjunto de entrenamiento:\n",
      "PobrezaMonetaria\n",
      "0    0.571429\n",
      "1    0.428571\n",
      "Name: proportion, dtype: float64\n",
      "\n",
      "Distribución en el conjunto de prueba:\n",
      "PobrezaMonetaria\n",
      "0    0.571667\n",
      "1    0.428333\n",
      "Name: proportion, dtype: float64\n",
      "\n",
      "Tamaño del conjunto de entrenamiento: 1400 hogares\n",
      "Tamaño del conjunto de prueba: 600 hogares\n"
     ]
    }
   ],
   "source": [
    "X_train, X_test, y_train, y_test = train_test_split(\n",
    "    X, y, \n",
    "    test_size=0.3,      # 30% de los datos para el conjunto de prueba\n",
    "    random_state=42,    # Semilla para reproducibilidad\n",
    "    stratify=y          # Mantener la proporción de la variable objetivo\n",
    ")\n",
    "\n",
    "print(\"Distribución de la variable objetivo en el conjunto original:\")\n",
    "print(y.value_counts(normalize=True))\n",
    "\n",
    "print(\"\\nDistribución en el conjunto de entrenamiento:\")\n",
    "print(y_train.value_counts(normalize=True))\n",
    "\n",
    "print(\"\\nDistribución en el conjunto de prueba:\")\n",
    "print(y_test.value_counts(normalize=True))\n",
    "\n",
    "print(f\"\\nTamaño del conjunto de entrenamiento: {X_train.shape[0]} hogares\")\n",
    "print(f\"Tamaño del conjunto de prueba: {X_test.shape[0]} hogares\")"
   ]
  },
  {
   "cell_type": "markdown",
   "metadata": {},
   "source": [
    "### 💡 Análisis de la División: Un Dataset más Balanceado\n",
    "\n",
    "Los resultados de la división de datos muestran un data set balanceado. Es decir que la porporcion de ambas clases es similar."
   ]
  },
  {
   "cell_type": "markdown",
   "metadata": {},
   "source": [
    "##  4. Entrenamiento del Modelo Random Forest\n",
    "\n",
    "\n",
    "### ¿Qué es un Pipeline?\n",
    "Un Pipeline de Scikit-learn encadena múltiples pasos de preprocesamiento y modelado en un solo objeto. Esto tiene grandes ventajas:\n",
    "- **Código más limpio**: Evita tener que aplicar transformaciones paso a paso.\n",
    "- **Previene errores**: Asegura que apliquemos las mismas transformaciones a los datos de entrenamiento y de prueba.\n",
    "- **Facilita la automatización**: Simplifica la búsqueda de los mejores parámetros (hiperparámetros).\n",
    "\n",
    "### Nuestro Pipeline contendrá:\n",
    "1.  **Un transformador para variables numéricas**: `StandardScaler` para estandarizarlas (media 0, desviación 1).\n",
    "2.  **Un transformador para variables categóricas**: `OneHotEncoder` para convertirlas a un formato numérico que el modelo entienda.\n",
    "3.  **El modelo clasificador**: `RandomForestClassifier`."
   ]
  },
  {
   "cell_type": "code",
   "execution_count": 6,
   "metadata": {},
   "outputs": [
    {
     "name": "stdout",
     "output_type": "stream",
     "text": [
      "🚀 Entrenando el modelo Random Forest...\n",
      "✅ ¡Modelo entrenado exitosamente!\n"
     ]
    }
   ],
   "source": [
    "# Creamos el pipeline para las variables numéricas\n",
    "numeric_transformer = Pipeline(steps=[\n",
    "    ('scaler', StandardScaler())\n",
    "])\n",
    "\n",
    "# Creamos el pipeline para las variables categóricas\n",
    "categorical_transformer = Pipeline(steps=[\n",
    "    ('onehot', OneHotEncoder(handle_unknown='ignore')) # 'ignore' para manejar categorías en test que no estaban en train\n",
    "])\n",
    "\n",
    "# Combinamos los preprocesadores usando ColumnTransformer\n",
    "preprocessor = ColumnTransformer(\n",
    "    transformers=[\n",
    "        ('num', numeric_transformer, numerical_cols),\n",
    "        ('cat', categorical_transformer, categorical_cols)\n",
    "    ],\n",
    "    remainder='passthrough' # Mantiene columnas no especificadas (si las hubiera)\n",
    ")\n",
    "\n",
    "# Creamos el modelo de Random Forest\n",
    "rf_model = RandomForestClassifier(random_state=42, # Semilla: Asegura que la aleatoriedad del algoritmo sea la misma en cada ejecución\n",
    "                                  \n",
    "                                  n_estimators=100) # n_estimators=100: Especifica que el \"bosque\" estará compuesto por 100 árboles de decisión\n",
    "\n",
    "# Creamos el Pipeline final que une el preprocesador y el modelo\n",
    "pipeline_final = Pipeline(steps=[\n",
    "    ('preprocessor', preprocessor),\n",
    "    ('classifier', rf_model)\n",
    "])\n",
    "\n",
    "# ¡Entrenamos el modelo!\n",
    "print(\"🚀 Entrenando el modelo Random Forest...\")\n",
    "pipeline_final.fit(X_train, y_train)\n",
    "print(\"✅ ¡Modelo entrenado exitosamente!\")"
   ]
  },
  {
   "cell_type": "markdown",
   "metadata": {},
   "source": [
    "##  5. Evaluación del Modelo\n",
    "Entrenar un modelo no es suficiente. Necesitamos saber qué tan bueno es.\n",
    "\n",
    "### Métricas Clave:\n",
    "- **Matriz de Confusión**: Una tabla que nos muestra los aciertos y errores del modelo.\n",
    "  - **Verdaderos Positivos (TP)**: Predijo \"Pobre\" y acertó.\n",
    "  - **Verdaderos Negativos (TN)**: Predijo \"No Pobre\" y acertó.\n",
    "  - **Falsos Positivos (FP)**: Predijo \"Pobre\" pero era \"No Pobre\" (Error Tipo I).\n",
    "  - **Falsos Negativos (FN)**: Predijo \"No Pobre\" pero era \"Pobre\" (Error Tipo II). **¡Sigue siendo el error más costoso socialmente!**\n",
    "- **Precisión (Precision)**: De todos los que predijo como \"Pobres\", ¿cuántos lo eran realmente? `TP / (TP + FP)`\n",
    "- **Recall (Sensibilidad)**: De todos los que *eran* \"Pobres\", ¿a cuántos identificamos correctamente? `TP / (TP + FN)`.\n",
    "- **F1-Score**: La media armónica de Precisión y Recall. Un buen balance entre ambas.\n",
    "- **ROC-AUC Score**: Mide la capacidad del modelo para distinguir entre las dos clases. Un valor de 1 es perfecto, 0.5 es aleatorio."
   ]
  },
  {
   "cell_type": "code",
   "execution_count": 7,
   "metadata": {},
   "outputs": [
    {
     "name": "stdout",
     "output_type": "stream",
     "text": [
      "============================================================\n",
      "Classification Report\n",
      "============================================================\n",
      "              precision    recall  f1-score   support\n",
      "\n",
      "No Pobre (0)       0.82      0.87      0.84       343\n",
      "   Pobre (1)       0.81      0.74      0.77       257\n",
      "\n",
      "    accuracy                           0.81       600\n",
      "   macro avg       0.81      0.81      0.81       600\n",
      "weighted avg       0.81      0.81      0.81       600\n",
      "\n",
      "Accuracy (Exactitud): 0.8150\n",
      "ROC-AUC Score: 0.9022\n",
      "============================================================\n",
      "NOTA: El reporte de Clasififcacion muestra las metricas para ambas clases.\n",
      "\n",
      "Matriz de Confusión:\n"
     ]
    },
    {
     "data": {
      "image/png": "[encoded data removed]",
      "text/plain": [
       "<Figure size 800x600 with 2 Axes>"
      ]
     },
     "metadata": {},
     "output_type": "display_data"
    }
   ],
   "source": [
    "# Hacemos predicciones en el conjunto de prueba\n",
    "y_pred = pipeline_final.predict(X_test)\n",
    "y_pred_proba = pipeline_final.predict_proba(X_test)[:, 1] # Probabilidades para la clase positiva\n",
    "\n",
    "# 1. Reporte de Clasificación\n",
    "print(\"=\"*60)\n",
    "print(\"Classification Report\")\n",
    "print(\"=\"*60)\n",
    "print(classification_report(y_test, y_pred, target_names=['No Pobre (0)', 'Pobre (1)']))\n",
    "\n",
    "# 2. Accuracy y ROC-AUC\n",
    "accuracy = accuracy_score(y_test, y_pred)\n",
    "roc_auc = roc_auc_score(y_test, y_pred_proba)\n",
    "print(f\"Accuracy (Exactitud): {accuracy:.4f}\")\n",
    "print(f\"ROC-AUC Score: {roc_auc:.4f}\")\n",
    "print(\"=\"*60)\n",
    "print(\"NOTA: El reporte de Clasififcacion muestra las metricas para ambas clases.\")\n",
    "\n",
    "# 3. Matriz de Confusión\n",
    "print(\"\\nMatriz de Confusión:\")\n",
    "cm = confusion_matrix(y_test, y_pred)\n",
    "plt.figure(figsize=(8, 6))\n",
    "sns.heatmap(cm, annot=True, fmt='d', cmap='Blues', \n",
    "            xticklabels=['Pred. No Pobre', 'Pred. Pobre'],\n",
    "            yticklabels=['Real No Pobre', 'Real Pobre'])\n",
    "plt.title('Matriz de Confusión', fontsize=16)\n",
    "plt.ylabel('Clase Real')\n",
    "plt.xlabel('Clase Predicha')\n",
    "plt.savefig('1_matriz_confusion_base.png')\n",
    "plt.show()"
   ]
  },
  {
   "cell_type": "code",
   "execution_count": 8,
   "metadata": {},
   "outputs": [
    {
     "name": "stdout",
     "output_type": "stream",
     "text": [
      "Curva ROC:\n"
     ]
    },
    {
     "data": {
      "image/png": "[encoded data removed]",
      "text/plain": [
       "<Figure size 800x600 with 1 Axes>"
      ]
     },
     "metadata": {},
     "output_type": "display_data"
    }
   ],
   "source": [
    "# 4. Curva ROC (Receiver Operating Characteristic)\n",
    "# Esta curva nos muestra el rendimiento del clasificador en todos los umbrales de clasificación.\n",
    "# Un buen modelo se pega a la esquina superior izquierda.\n",
    "\n",
    "print(\"Curva ROC:\")\n",
    "fig, ax = plt.subplots(figsize=(8, 6))\n",
    "RocCurveDisplay.from_estimator(pipeline_final, X_test, y_test, ax=ax)\n",
    "ax.plot([0, 1], [0, 1], linestyle='--', color='r', label='Clasificador Aleatorio')\n",
    "ax.set_title('Curva ROC', fontsize=16)\n",
    "plt.legend()\n",
    "plt.savefig('2_curva_roc_base.png')\n",
    "plt.show()"
   ]
  },
  {
   "cell_type": "markdown",
   "metadata": {},
   "source": [
    "### Diagnóstico\n",
    "\n",
    "La exactitud general es significativamente alta (81%) y, lo que es más importante, las métricas de `precision` y `recall` para ambas clases son robustas.\n",
    "\n",
    "Esto indica que el modelo está aprendiendo patrones genuinos de las variables estructurales (educación, empleo, etc.) para predecir la pobreza, en lugar de depender de la fuga de datos del ingreso.\n",
    "\n",
    "Aunque el rendimiento inicial ya es bueno, siempre podemos intentar mejorarlo mediante un **ajuste de hiperparámetros**.\n",
    "\n",
    "### ¿Cómo Mejorar el Modelo?\n",
    "\n",
    "Usaremos `GridSearchCV` para encontrar la combinación óptima de hiperparámetros. Nuestro objetivo será maximizar la **exactitud (`accuracy`) general**, lo que nos dará el modelo con el mejor rendimiento global.\n",
    "\n",
    "Esto nos permitirá afinar detalles como la complejidad de los árboles (`max_depth`) y el número de árboles en el bosque (`n_estimators`) para exprimir un poco más de rendimiento del modelo."
   ]
  },
  {
   "cell_type": "code",
   "execution_count": 9,
   "metadata": {},
   "outputs": [
    {
     "name": "stdout",
     "output_type": "stream",
     "text": [
      "Fitting 3 folds for each of 27 candidates, totalling 81 fits\n",
      "\n",
      "✅ Búsqueda completada.\n",
      "La mejor configuración de hiperparámetros es:\n",
      "{'classifier__max_depth': 10, 'classifier__min_samples_leaf': 4, 'classifier__n_estimators': 150}\n"
     ]
    }
   ],
   "source": [
    "# 1. DEFINICIÓN DE LA REJILLA DE HIPERPARÁMETROS\n",
    "# Se define un diccionario que contiene los hiperparámetros a explorar y sus respectivos valores.\n",
    "# Cada valor en las listas representa una configuración específica que el modelo probará.\n",
    "param_grid = {\n",
    "    # 'classifier__n_estimators': Número de árboles de decisión en el bosque.\n",
    "    # Estamos probando tres escenarios:\n",
    "    #   - 150: Un bosque de tamaño considerable.\n",
    "    #   - 250: Un bosque más grande, para ver si mejora el rendimiento.\n",
    "    #   - 300: Un bosque muy grande, para comprobar si hemos alcanzado un punto de rendimiento decreciente.\n",
    "    'classifier__n_estimators': [150, 250, 300],\n",
    "    \n",
    "    # 'classifier__max_depth': Profundidad máxima de cada árbol.\n",
    "    # Estamos probando:\n",
    "    #   - 10: Un árbol relativamente \"superficial\", que crea reglas más generales.\n",
    "    #   - 20: Un árbol más profundo, capaz de aprender patrones más complejos.\n",
    "    #   - None: Sin límite. El árbol crecerá hasta que cada hoja sea \"pura\" (contenga solo una clase).\n",
    "    'classifier__max_depth': [10, 20, None],\n",
    "    \n",
    "    # 'classifier__min_samples_leaf': Número mínimo de muestras (hogares) que deben existir en un nodo final (hoja).\n",
    "    'classifier__min_samples_leaf': [1, 2, 4]\n",
    "}\n",
    "# 2. CONFIGURAR EL BUSCADOR INTELIGENTE: GridSearchCV\n",
    "grid_search = GridSearchCV(\n",
    "    estimator=pipeline_final,\n",
    "    param_grid=param_grid,\n",
    "    # scoring: Ahora optimizamos para la exactitud general.\n",
    "    scoring='accuracy',\n",
    "    cv=3,       # Validación cruzada con 3 pliegues\n",
    "    n_jobs=-1,  # Usar todos los núcleos de CPU\n",
    "    verbose=1\n",
    ")\n",
    "\n",
    "# 3. EJECUTAR LA BÚSQUEDA\n",
    "grid_search.fit(X_train, y_train)\n",
    "\n",
    "# 4. MOSTRAR LOS RESULTADOS\n",
    "print(\"\\n✅ Búsqueda completada.\")\n",
    "print(\"La mejor configuración de hiperparámetros es:\")\n",
    "print(grid_search.best_params_)"
   ]
  },
  {
   "cell_type": "markdown",
   "id": "9b77b901",
   "metadata": {},
   "source": []
  },
  {
   "cell_type": "markdown",
   "metadata": {},
   "source": [
    "### Evaluación Final: Modelo Optimizado"
   ]
  },
  {
   "cell_type": "code",
   "execution_count": 10,
   "metadata": {},
   "outputs": [
    {
     "name": "stdout",
     "output_type": "stream",
     "text": [
      "\n",
      "============================================================\n",
      "Rendimiento del Modelo Optimizado\n",
      "============================================================\n",
      "              precision    recall  f1-score   support\n",
      "\n",
      "No Pobre (0)       0.83      0.87      0.85       343\n",
      "   Pobre (1)       0.81      0.77      0.79       257\n",
      "\n",
      "    accuracy                           0.82       600\n",
      "   macro avg       0.82      0.82      0.82       600\n",
      "weighted avg       0.82      0.82      0.82       600\n",
      "\n",
      "Accuracy (Exactitud): 0.8250\n",
      "ROC-AUC Score: 0.9131\n",
      "============================================================\n"
     ]
    },
    {
     "data": {
      "image/png": "[encoded data removed]",
      "text/plain": [
       "<Figure size 800x600 with 2 Axes>"
      ]
     },
     "metadata": {},
     "output_type": "display_data"
    }
   ],
   "source": [
    "# Extraemos el mejor modelo encontrado por GridSearchCV\n",
    "best_model = grid_search.best_estimator_\n",
    "\n",
    "# Hacemos predicciones con este nuevo modelo\n",
    "y_pred_best = best_model.predict(X_test)\n",
    "y_pred_proba_best = best_model.predict_proba(X_test)[:, 1] # Probabilidades para la clase positiva\n",
    "\n",
    "# Evaluamos el rendimiento del modelo optimizado\n",
    "print(\"\\n\" + \"=\"*60)\n",
    "print(\"Rendimiento del Modelo Optimizado\")\n",
    "print(\"=\"*60)\n",
    "print(classification_report(y_test, y_pred_best, target_names=['No Pobre (0)', 'Pobre (1)']))\n",
    "\n",
    "\n",
    "# Calculamos y mostramos Accuracy y ROC-AUC\n",
    "accuracy_best = accuracy_score(y_test, y_pred_best)\n",
    "roc_auc_best = roc_auc_score(y_test, y_pred_proba_best)\n",
    "print(f\"Accuracy (Exactitud): {accuracy_best:.4f}\")\n",
    "print(f\"ROC-AUC Score: {roc_auc_best:.4f}\")\n",
    "print(\"=\"*60)\n",
    "\n",
    "\n",
    "# Visualizamos la nueva matriz de confusión\n",
    "cm_best = confusion_matrix(y_test, y_pred_best)\n",
    "plt.figure(figsize=(8, 6))\n",
    "sns.heatmap(cm_best, annot=True, fmt='d', cmap='Greens', \n",
    "            xticklabels=['Pred. No Pobre', 'Pred. Pobre'],\n",
    "            yticklabels=['Real No Pobre', 'Real Pobre'])\n",
    "plt.title('Matriz de Confusión - Modelo Optimizado', fontsize=16)\n",
    "plt.ylabel('Clase Real')\n",
    "plt.xlabel('Clase Predicha')\n",
    "plt.savefig('3_matriz_confusion_optimizado.png')\n",
    "plt.show()"
   ]
  },
  {
   "cell_type": "code",
   "execution_count": 11,
   "metadata": {},
   "outputs": [
    {
     "data": {
      "image/png": "[encoded data removed]",
      "text/plain": [
       "<Figure size 800x700 with 1 Axes>"
      ]
     },
     "metadata": {},
     "output_type": "display_data"
    }
   ],
   "source": [
    "#Curva ROC\n",
    "\n",
    "fig, ax = plt.subplots(figsize=(8, 7))\n",
    "\n",
    "# Graficar la Curva ROC para el modelo optimizado ('best_model')\n",
    "RocCurveDisplay.from_estimator(\n",
    "    best_model,\n",
    "    X_test,\n",
    "    y_test,\n",
    "    ax=ax,\n",
    "    name='Modelo Optimizado',\n",
    "    color='darkorange', # Un color que destaque\n",
    "    linewidth=2\n",
    ")\n",
    "\n",
    "ax.plot([0, 1], [0, 1], linestyle='--', color='navy', label='Clasificador Aleatorio')\n",
    "\n",
    "ax.set_title('Curva ROC del Modelo Optimizado', fontsize=16)\n",
    "ax.set_xlabel('Tasa de Falsos Positivos (1 - Especificidad)')\n",
    "ax.set_ylabel('Tasa de Verdaderos Positivos (Recall)')\n",
    "\n",
    "ax.legend(loc='lower right')\n",
    "ax.grid(True)\n",
    "plt.savefig('4_curva_roc_optimizado.png')\n",
    "plt.show()"
   ]
  },
  {
   "cell_type": "markdown",
   "metadata": {},
   "source": [
    "### Conclusión\n",
    "\n",
    "La optimización ha sido un éxito. Al instruir a `GridSearchCV` para que maximizara la **`accuracy`**, logramos refinar un modelo que ya era bueno y mejorar su rendimiento general. El modelo optimizado muestra una ligera mejora en la exactitud y en el AUC, demostrando que el ajuste de hiperparámetros es un paso valioso para maximizar el potencial de un algoritmo."
   ]
  },
  {
   "cell_type": "markdown",
   "metadata": {},
   "source": [
    "## 🔍 6. Interpretación del Modelo\n",
    "Una de las mayores ventajas de los modelos basados en árboles como Random Forest es que podemos \"preguntarles\" qué variables consideraron más importantes para tomar sus decisiones.\n",
    "\n",
    "### Importancia de Variables (Feature Importance)\n",
    "El modelo calcula la importancia de cada variable midiendo cuánto contribuye a reducir la \"impureza\" (o el desorden) en los nodos de los árboles. Una variable que separa muy bien a los hogares pobres de los no pobres tendrá una alta importancia.\n",
    "\n",
    "A continuación, extraeremos estas puntuaciones y las visualizaremos para validar nuestra hipótesis inicial."
   ]
  },
  {
   "cell_type": "code",
   "execution_count": 12,
   "metadata": {},
   "outputs": [
    {
     "data": {
      "image/png": "[encoded data removed]",
      "text/plain": [
       "<Figure size 1200x1000 with 1 Axes>"
      ]
     },
     "metadata": {},
     "output_type": "display_data"
    },
    {
     "name": "stdout",
     "output_type": "stream",
     "text": [
      "\n",
      "Top 10 variables más importantes:\n"
     ]
    },
    {
     "data": {
      "application/vnd.microsoft.datawrangler.viewer.v0+json": {
       "columns": [
        {
         "name": "index",
         "rawType": "int64",
         "type": "integer"
        },
        {
         "name": "feature",
         "rawType": "object",
         "type": "string"
        },
        {
         "name": "importance",
         "rawType": "float64",
         "type": "float"
        }
       ],
       "ref": "2eba5e14-d38e-4bcc-90d9-d055bf622cb5",
       "rows": [
        [
         "1",
         "MiembrosHogar",
         "0.3455632959191949"
        ],
        [
         "8",
         "AniosEstudioJefeHogar",
         "0.0953642343825157"
        ],
        [
         "20",
         "TipoEmpleo_Formal",
         "0.09433852652970763"
        ],
        [
         "2",
         "RatioDependencia",
         "0.053781031057292594"
        ],
        [
         "0",
         "EdadJefeHogar",
         "0.053321404173250694"
        ],
        [
         "18",
         "NivelEducativoJefeHogar_Superior",
         "0.049959011250646265"
        ],
        [
         "21",
         "TipoEmpleo_Informal",
         "0.04130747417791054"
        ],
        [
         "19",
         "TipoEmpleo_Desempleado",
         "0.03587718161868696"
        ],
        [
         "22",
         "AreaResidencia_Rural",
         "0.022863483966777547"
        ],
        [
         "16",
         "NivelEducativoJefeHogar_Primaria",
         "0.021676418706930628"
        ]
       ],
       "shape": {
        "columns": 2,
        "rows": 10
       }
      },
      "text/html": [
       "<div>\n",
       "<style scoped>\n",
       "    .dataframe tbody tr th:only-of-type {\n",
       "        vertical-align: middle;\n",
       "    }\n",
       "\n",
       "    .dataframe tbody tr th {\n",
       "        vertical-align: top;\n",
       "    }\n",
       "\n",
       "    .dataframe thead th {\n",
       "        text-align: right;\n",
       "    }\n",
       "</style>\n",
       "<table border=\"1\" class=\"dataframe\">\n",
       "  <thead>\n",
       "    <tr style=\"text-align: right;\">\n",
       "      <th></th>\n",
       "      <th>feature</th>\n",
       "      <th>importance</th>\n",
       "    </tr>\n",
       "  </thead>\n",
       "  <tbody>\n",
       "    <tr>\n",
       "      <th>1</th>\n",
       "      <td>MiembrosHogar</td>\n",
       "      <td>0.345563</td>\n",
       "    </tr>\n",
       "    <tr>\n",
       "      <th>8</th>\n",
       "      <td>AniosEstudioJefeHogar</td>\n",
       "      <td>0.095364</td>\n",
       "    </tr>\n",
       "    <tr>\n",
       "      <th>20</th>\n",
       "      <td>TipoEmpleo_Formal</td>\n",
       "      <td>0.094339</td>\n",
       "    </tr>\n",
       "    <tr>\n",
       "      <th>2</th>\n",
       "      <td>RatioDependencia</td>\n",
       "      <td>0.053781</td>\n",
       "    </tr>\n",
       "    <tr>\n",
       "      <th>0</th>\n",
       "      <td>EdadJefeHogar</td>\n",
       "      <td>0.053321</td>\n",
       "    </tr>\n",
       "    <tr>\n",
       "      <th>18</th>\n",
       "      <td>NivelEducativoJefeHogar_Superior</td>\n",
       "      <td>0.049959</td>\n",
       "    </tr>\n",
       "    <tr>\n",
       "      <th>21</th>\n",
       "      <td>TipoEmpleo_Informal</td>\n",
       "      <td>0.041307</td>\n",
       "    </tr>\n",
       "    <tr>\n",
       "      <th>19</th>\n",
       "      <td>TipoEmpleo_Desempleado</td>\n",
       "      <td>0.035877</td>\n",
       "    </tr>\n",
       "    <tr>\n",
       "      <th>22</th>\n",
       "      <td>AreaResidencia_Rural</td>\n",
       "      <td>0.022863</td>\n",
       "    </tr>\n",
       "    <tr>\n",
       "      <th>16</th>\n",
       "      <td>NivelEducativoJefeHogar_Primaria</td>\n",
       "      <td>0.021676</td>\n",
       "    </tr>\n",
       "  </tbody>\n",
       "</table>\n",
       "</div>"
      ],
      "text/plain": [
       "                             feature  importance\n",
       "1                      MiembrosHogar    0.345563\n",
       "8              AniosEstudioJefeHogar    0.095364\n",
       "20                 TipoEmpleo_Formal    0.094339\n",
       "2                   RatioDependencia    0.053781\n",
       "0                      EdadJefeHogar    0.053321\n",
       "18  NivelEducativoJefeHogar_Superior    0.049959\n",
       "21               TipoEmpleo_Informal    0.041307\n",
       "19            TipoEmpleo_Desempleado    0.035877\n",
       "22              AreaResidencia_Rural    0.022863\n",
       "16  NivelEducativoJefeHogar_Primaria    0.021676"
      ]
     },
     "metadata": {},
     "output_type": "display_data"
    }
   ],
   "source": [
    "# Extraer los componentes del mejor modelo encontrado por GridSearchCV\n",
    "preprocessor_best = best_model.named_steps['preprocessor']\n",
    "classifier_best = best_model.named_steps['classifier']\n",
    "\n",
    "# Obtener los nombres de todas las características después del preprocesamiento\n",
    "try:\n",
    "    ohe_feature_names = preprocessor_best.named_transformers_['cat'].named_steps['onehot'].get_feature_names_out(categorical_cols)\n",
    "except AttributeError:\n",
    "    ohe_feature_names = preprocessor_best.named_transformers_['cat']['onehot'].get_feature_names(categorical_cols)\n",
    "\n",
    "all_feature_names = np.concatenate([numerical_cols, ohe_feature_names])\n",
    "\n",
    "# Obtener las puntuaciones de importancia del clasificador optimizado\n",
    "importances = classifier_best.feature_importances_\n",
    "\n",
    "# Crear un DataFrame para ordenar y visualizar las importancias\n",
    "feature_importance_df = pd.DataFrame({\n",
    "    'feature': all_feature_names,\n",
    "    'importance': importances\n",
    "}).sort_values('importance', ascending=False)\n",
    "\n",
    "# Visualizar las 15 variables más importantes\n",
    "plt.figure(figsize=(12, 10))\n",
    "sns.barplot(x='importance', y='feature', data=feature_importance_df.head(15), palette='plasma')\n",
    "plt.title('Top 15 Variables más Importantes (Modelo Optimizado)', fontsize=16)\n",
    "plt.xlabel('Puntuación de Importancia')\n",
    "plt.ylabel('Variable')\n",
    "plt.savefig('5_importancia_variables.png')\n",
    "plt.show()\n",
    "\n",
    "# Mostrar el top 10 en una tabla\n",
    "print(\"\\nTop 10 variables más importantes:\")\n",
    "display(feature_importance_df.head(10))"
   ]
  },
  {
   "cell_type": "markdown",
   "metadata": {},
   "source": [
    "\n",
    "##  7. Conclusión General del Ejercicio\n",
    "\n",
    "\n",
    "El análisis de la importancia de las variables del modelo optimizado permite validar la hipótesis del ejercicio. Se postuló que, en ausencia de indicadores directos de riqueza, el modelo identificaría factores estructurales como los predictores principales de la pobreza monetaria. Los resultados confirman esta premisa.\n",
    "\n",
    "1.  **Demografía del Hogar:** Este es el factor más relevante. `MiembrosHogar` es el predictor con la mayor importancia (0.345), indicando que la composición del hogar es un determinante principal. `RatioDependencia` y `EdadJefeHogar` también figuran entre las cinco variables más influyentes, reforzando el peso de la estructura demográfica.\n",
    "\n",
    "2.  **Capital Humano y Situación Laboral:** Los `AniosEstudioJefeHogar` (0.095) y el `TipoEmpleo_Formal` (0.094) son el segundo y tercer predictor más importantes, respectivamente. La presencia de otras categorías relacionadas, como el nivel educativo y la condición de desempleo, confirma que la educación y la calidad del empleo son factores determinantes.\n",
    "\n",
    "3.  **Ubicación Geográfica:** La variable `AreaResidencia_Rural` se identifica como un predictor relevante, lo que es consistente con una mayor incidencia de pobreza en dichas zonas.\n",
    "\n",
    "En conclusión, el modelo ha identificado los factores subyacentes de la pobreza en lugar de depender de variables que son una consecuencia directa de la misma. La eliminación deliberada de los datos de ingreso y gasto ha permitido que el modelo cuantifique el impacto de determinantes socioeconómicos y demográficos, validando así su utilidad como herramienta de diagnóstico.\n",
    "\n",
    "\n"
   ]
  }
 ],
 "metadata": {
  "kernelspec": {
   "display_name": ".conda",
   "language": "python",
   "name": "python3"
  },
  "language_info": {
   "codemirror_mode": {
    "name": "ipython",
    "version": 3
   },
   "file_extension": ".py",
   "mimetype": "text/x-python",
   "name": "python",
   "nbconvert_exporter": "python",
   "pygments_lexer": "ipython3",
   "version": "3.11.13"
  }
 },
 "nbformat": 4,
 "nbformat_minor": 5
}
