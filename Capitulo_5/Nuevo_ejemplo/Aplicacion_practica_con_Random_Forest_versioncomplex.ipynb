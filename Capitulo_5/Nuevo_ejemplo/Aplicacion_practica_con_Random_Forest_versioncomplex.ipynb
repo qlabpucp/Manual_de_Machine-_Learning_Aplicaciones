{
 "cells": [
  {
   "cell_type": "markdown",
   "id": "e9ae9aa3",
   "metadata": {},
   "source": [
    "# 🌳 Modelo de Machine Learning para Predecir la Pobreza Monetaria en Perú\n",
    "\n",
    "##  Objetivo de la Actividad\n",
    "En este notebook, construiremos, entrenaremos y evaluaremos un modelo de **Random Forest** para predecir si un hogar en Perú caerá en situación de pobreza monetaria. Utilizaremos una base de datos sintética que simula las características de los hogares peruanos.\n",
    "\n",
    "### ¿Por qué Random Forest?\n",
    "El Random Forest (Bosque Aleatorio) es un modelo de *aprendizaje supervisado* ideal para este problema por varias razones:\n",
    "- **Versatilidad**: Funciona muy bien tanto con variables numéricas como categóricas.\n",
    "- **Robustez**: Es menos propenso al sobreajuste (overfitting) que un único árbol de decisión.\n",
    "- **Interpretabilidad**: Nos permite conocer qué variables son las más importantes para predecir la pobreza.\n",
    "\n",
    "###  Hipótesis a Validar:\n",
    "Esperamos que las variables más influyentes para predecir la pobreza sean:\n",
    "1.  **Ingreso y Gasto del Hogar**: La relación directa con la capacidad económica.\n",
    "2.  **Nivel Educativo y Años de Estudio**: A mayor educación, menor probabilidad de pobreza.\n",
    "3.  **Tipo de Empleo**: El empleo formal protege contra la pobreza.\n",
    "4.  **Área de Residencia**: La incidencia de pobreza suele ser mayor en zonas rurales.\n",
    "\n",
    "###  Conceptos Clave que Aprenderemos:\n",
    "- **Preprocesamiento de datos**: Cómo preparar variables categóricas y numéricas.\n",
    "- **Pipelines en Scikit-learn**: Para organizar nuestro flujo de trabajo de forma profesional.\n",
    "- **Entrenamiento de un clasificador**: Cómo enseñarle al modelo a partir de los datos.\n",
    "- **Métricas de Evaluación**: No solo la exactitud (accuracy), sino también la **Precisión**, el **Recall** y la **Matriz de Confusión**, cruciales para problemas sociales.\n",
    "- **Importancia de Variables (Feature Importance)**: Cómo el modelo nos \"explica\" su decisión.\n"
   ]
  },
  {
   "cell_type": "markdown",
   "id": "c60e419f",
   "metadata": {},
   "source": [
    "##  1. Definición del Problema y Preparación Inicial"
   ]
  },
  {
   "cell_type": "code",
   "execution_count": 1,
   "id": "6703f7ce",
   "metadata": {},
   "outputs": [
    {
     "name": "stdout",
     "output_type": "stream",
     "text": [
      "✅ Librerías importadas correctamente. ¡Listos para empezar!\n"
     ]
    }
   ],
   "source": [
    "# Importamos las librerías necesarias para nuestro análisis\n",
    "\n",
    "# Para manipulación de datos\n",
    "import pandas as pd\n",
    "import numpy as np\n",
    "\n",
    "# Para visualizaciones\n",
    "import matplotlib.pyplot as plt\n",
    "import seaborn as sns\n",
    "\n",
    "# Para preprocesamiento y modelado con Scikit-Learn\n",
    "from sklearn.model_selection import train_test_split\n",
    "from sklearn.preprocessing import StandardScaler, OneHotEncoder\n",
    "from sklearn.compose import ColumnTransformer\n",
    "from sklearn.pipeline import Pipeline\n",
    "from sklearn.ensemble import RandomForestClassifier\n",
    "from sklearn.model_selection import GridSearchCV\n",
    "\n",
    "\n",
    "# Para evaluar el modelo\n",
    "from sklearn.metrics import classification_report, confusion_matrix, accuracy_score, roc_auc_score, RocCurveDisplay\n",
    "\n",
    "# Configuraciones adicionales\n",
    "import warnings\n",
    "warnings.filterwarnings('ignore')\n",
    "plt.style.use('seaborn-v0_8-whitegrid')\n",
    "\n",
    "print(\"✅ Librerías importadas correctamente. ¡Listos para empezar!\")\n"
   ]
  },
  {
   "cell_type": "markdown",
   "id": "f7755659",
   "metadata": {},
   "source": [
    "##  2. Preprocesamiento y Limpieza de Datos\n",
    "Este es el paso más crítico en cualquier proyecto de Machine Learning.  Nuestro objetivo es transformar los datos crudos en un formato limpio y estructurado que el modelo pueda entender.\n",
    "\n",
    "### Pasos a seguir:\n",
    "1.  **Cargar los datos**: Importar nuestro archivo `prediccion_pobreza_peru2.csv`.\n",
    "2.  **Inspección inicial**: Entender la estructura, tipos de datos y buscar posibles problemas (aunque nuestra base es sintética y limpia).\n",
    "3.  **Separar variables**: Dividir nuestro dataset en variables predictoras (`X`) y la variable objetivo (`y`).\n",
    "4.  **Identificar tipos de variables**: Separar las columnas numéricas de las categóricas para aplicarles transformaciones diferentes.\n"
   ]
  },
  {
   "cell_type": "code",
   "execution_count": 2,
   "id": "1a405f1e",
   "metadata": {},
   "outputs": [
    {
     "name": "stdout",
     "output_type": "stream",
     "text": [
      "Primeras 5 filas del dataset:\n"
     ]
    },
    {
     "data": {
      "application/vnd.microsoft.datawrangler.viewer.v0+json": {
       "columns": [
        {
         "name": "index",
         "rawType": "int64",
         "type": "integer"
        },
        {
         "name": "EdadJefeHogar",
         "rawType": "int64",
         "type": "integer"
        },
        {
         "name": "SexoJefeHogar",
         "rawType": "object",
         "type": "string"
        },
        {
         "name": "MiembrosHogar",
         "rawType": "int64",
         "type": "integer"
        },
        {
         "name": "RatioDependencia",
         "rawType": "float64",
         "type": "float"
        },
        {
         "name": "LenguaMaterna",
         "rawType": "object",
         "type": "string"
        },
        {
         "name": "NivelEducativoJefeHogar",
         "rawType": "object",
         "type": "string"
        },
        {
         "name": "AniosEstudioJefeHogar",
         "rawType": "int64",
         "type": "integer"
        },
        {
         "name": "TipoEmpleo",
         "rawType": "object",
         "type": "string"
        },
        {
         "name": "IngresoMensualHogar",
         "rawType": "float64",
         "type": "float"
        },
        {
         "name": "GastoMensualHogar",
         "rawType": "float64",
         "type": "float"
        },
        {
         "name": "AreaResidencia",
         "rawType": "object",
         "type": "string"
        },
        {
         "name": "TenenciaVivienda",
         "rawType": "object",
         "type": "string"
        },
        {
         "name": "MaterialParedes",
         "rawType": "object",
         "type": "string"
        },
        {
         "name": "AccesoAguaPotable",
         "rawType": "int64",
         "type": "integer"
        },
        {
         "name": "AccesoSaneamiento",
         "rawType": "int64",
         "type": "integer"
        },
        {
         "name": "AccesoElectricidad",
         "rawType": "int64",
         "type": "integer"
        },
        {
         "name": "Hacinamiento",
         "rawType": "int64",
         "type": "integer"
        },
        {
         "name": "PoseeActivos",
         "rawType": "int64",
         "type": "integer"
        },
        {
         "name": "Region",
         "rawType": "object",
         "type": "string"
        },
        {
         "name": "PobrezaMonetaria",
         "rawType": "int64",
         "type": "integer"
        }
       ],
       "ref": "7ff4b216-41dd-44d1-b262-ea07480b7abe",
       "rows": [
        [
         "0",
         "22",
         "Hombre",
         "9",
         "2.53",
         "Español",
         "Secundaria",
         "19",
         "Formal",
         "2165.25",
         "2375.09",
         "Urbana",
         "Propia",
         "Madera/Esteras",
         "1",
         "1",
         "1",
         "1",
         "1",
         "Costa",
         "0"
        ],
        [
         "1",
         "55",
         "Hombre",
         "4",
         "1.6",
         "Español",
         "Superior",
         "4",
         "Informal",
         "3716.64",
         "2816.01",
         "Urbana",
         "Propia",
         "Ladrillo/Cemento",
         "1",
         "1",
         "1",
         "0",
         "1",
         "Costa",
         "0"
        ],
        [
         "2",
         "70",
         "Hombre",
         "6",
         "2.51",
         "Español",
         "Ninguno",
         "8",
         "Formal",
         "13873.98",
         "10471.65",
         "Urbana",
         "Alquilada",
         "Adobe",
         "0",
         "1",
         "1",
         "0",
         "0",
         "Sierra",
         "1"
        ],
        [
         "3",
         "62",
         "Hombre",
         "8",
         "2.28",
         "Quechua",
         "Secundaria",
         "10",
         "Informal",
         "6474.06",
         "5728.31",
         "Urbana",
         "Propia",
         "Adobe",
         "1",
         "1",
         "1",
         "0",
         "1",
         "Sierra",
         "0"
        ],
        [
         "4",
         "42",
         "Hombre",
         "3",
         "0.65",
         "Español",
         "Superior",
         "18",
         "Informal",
         "2305.95",
         "1992.32",
         "Urbana",
         "Propia",
         "Ladrillo/Cemento",
         "1",
         "0",
         "1",
         "0",
         "0",
         "Selva",
         "0"
        ]
       ],
       "shape": {
        "columns": 20,
        "rows": 5
       }
      },
      "text/html": [
       "<div>\n",
       "<style scoped>\n",
       "    .dataframe tbody tr th:only-of-type {\n",
       "        vertical-align: middle;\n",
       "    }\n",
       "\n",
       "    .dataframe tbody tr th {\n",
       "        vertical-align: top;\n",
       "    }\n",
       "\n",
       "    .dataframe thead th {\n",
       "        text-align: right;\n",
       "    }\n",
       "</style>\n",
       "<table border=\"1\" class=\"dataframe\">\n",
       "  <thead>\n",
       "    <tr style=\"text-align: right;\">\n",
       "      <th></th>\n",
       "      <th>EdadJefeHogar</th>\n",
       "      <th>SexoJefeHogar</th>\n",
       "      <th>MiembrosHogar</th>\n",
       "      <th>RatioDependencia</th>\n",
       "      <th>LenguaMaterna</th>\n",
       "      <th>NivelEducativoJefeHogar</th>\n",
       "      <th>AniosEstudioJefeHogar</th>\n",
       "      <th>TipoEmpleo</th>\n",
       "      <th>IngresoMensualHogar</th>\n",
       "      <th>GastoMensualHogar</th>\n",
       "      <th>AreaResidencia</th>\n",
       "      <th>TenenciaVivienda</th>\n",
       "      <th>MaterialParedes</th>\n",
       "      <th>AccesoAguaPotable</th>\n",
       "      <th>AccesoSaneamiento</th>\n",
       "      <th>AccesoElectricidad</th>\n",
       "      <th>Hacinamiento</th>\n",
       "      <th>PoseeActivos</th>\n",
       "      <th>Region</th>\n",
       "      <th>PobrezaMonetaria</th>\n",
       "    </tr>\n",
       "  </thead>\n",
       "  <tbody>\n",
       "    <tr>\n",
       "      <th>0</th>\n",
       "      <td>22</td>\n",
       "      <td>Hombre</td>\n",
       "      <td>9</td>\n",
       "      <td>2.53</td>\n",
       "      <td>Español</td>\n",
       "      <td>Secundaria</td>\n",
       "      <td>19</td>\n",
       "      <td>Formal</td>\n",
       "      <td>2165.25</td>\n",
       "      <td>2375.09</td>\n",
       "      <td>Urbana</td>\n",
       "      <td>Propia</td>\n",
       "      <td>Madera/Esteras</td>\n",
       "      <td>1</td>\n",
       "      <td>1</td>\n",
       "      <td>1</td>\n",
       "      <td>1</td>\n",
       "      <td>1</td>\n",
       "      <td>Costa</td>\n",
       "      <td>0</td>\n",
       "    </tr>\n",
       "    <tr>\n",
       "      <th>1</th>\n",
       "      <td>55</td>\n",
       "      <td>Hombre</td>\n",
       "      <td>4</td>\n",
       "      <td>1.60</td>\n",
       "      <td>Español</td>\n",
       "      <td>Superior</td>\n",
       "      <td>4</td>\n",
       "      <td>Informal</td>\n",
       "      <td>3716.64</td>\n",
       "      <td>2816.01</td>\n",
       "      <td>Urbana</td>\n",
       "      <td>Propia</td>\n",
       "      <td>Ladrillo/Cemento</td>\n",
       "      <td>1</td>\n",
       "      <td>1</td>\n",
       "      <td>1</td>\n",
       "      <td>0</td>\n",
       "      <td>1</td>\n",
       "      <td>Costa</td>\n",
       "      <td>0</td>\n",
       "    </tr>\n",
       "    <tr>\n",
       "      <th>2</th>\n",
       "      <td>70</td>\n",
       "      <td>Hombre</td>\n",
       "      <td>6</td>\n",
       "      <td>2.51</td>\n",
       "      <td>Español</td>\n",
       "      <td>Ninguno</td>\n",
       "      <td>8</td>\n",
       "      <td>Formal</td>\n",
       "      <td>13873.98</td>\n",
       "      <td>10471.65</td>\n",
       "      <td>Urbana</td>\n",
       "      <td>Alquilada</td>\n",
       "      <td>Adobe</td>\n",
       "      <td>0</td>\n",
       "      <td>1</td>\n",
       "      <td>1</td>\n",
       "      <td>0</td>\n",
       "      <td>0</td>\n",
       "      <td>Sierra</td>\n",
       "      <td>1</td>\n",
       "    </tr>\n",
       "    <tr>\n",
       "      <th>3</th>\n",
       "      <td>62</td>\n",
       "      <td>Hombre</td>\n",
       "      <td>8</td>\n",
       "      <td>2.28</td>\n",
       "      <td>Quechua</td>\n",
       "      <td>Secundaria</td>\n",
       "      <td>10</td>\n",
       "      <td>Informal</td>\n",
       "      <td>6474.06</td>\n",
       "      <td>5728.31</td>\n",
       "      <td>Urbana</td>\n",
       "      <td>Propia</td>\n",
       "      <td>Adobe</td>\n",
       "      <td>1</td>\n",
       "      <td>1</td>\n",
       "      <td>1</td>\n",
       "      <td>0</td>\n",
       "      <td>1</td>\n",
       "      <td>Sierra</td>\n",
       "      <td>0</td>\n",
       "    </tr>\n",
       "    <tr>\n",
       "      <th>4</th>\n",
       "      <td>42</td>\n",
       "      <td>Hombre</td>\n",
       "      <td>3</td>\n",
       "      <td>0.65</td>\n",
       "      <td>Español</td>\n",
       "      <td>Superior</td>\n",
       "      <td>18</td>\n",
       "      <td>Informal</td>\n",
       "      <td>2305.95</td>\n",
       "      <td>1992.32</td>\n",
       "      <td>Urbana</td>\n",
       "      <td>Propia</td>\n",
       "      <td>Ladrillo/Cemento</td>\n",
       "      <td>1</td>\n",
       "      <td>0</td>\n",
       "      <td>1</td>\n",
       "      <td>0</td>\n",
       "      <td>0</td>\n",
       "      <td>Selva</td>\n",
       "      <td>0</td>\n",
       "    </tr>\n",
       "  </tbody>\n",
       "</table>\n",
       "</div>"
      ],
      "text/plain": [
       "   EdadJefeHogar SexoJefeHogar  MiembrosHogar  RatioDependencia LenguaMaterna  \\\n",
       "0             22        Hombre              9              2.53       Español   \n",
       "1             55        Hombre              4              1.60       Español   \n",
       "2             70        Hombre              6              2.51       Español   \n",
       "3             62        Hombre              8              2.28       Quechua   \n",
       "4             42        Hombre              3              0.65       Español   \n",
       "\n",
       "  NivelEducativoJefeHogar  AniosEstudioJefeHogar TipoEmpleo  \\\n",
       "0              Secundaria                     19     Formal   \n",
       "1                Superior                      4   Informal   \n",
       "2                 Ninguno                      8     Formal   \n",
       "3              Secundaria                     10   Informal   \n",
       "4                Superior                     18   Informal   \n",
       "\n",
       "   IngresoMensualHogar  GastoMensualHogar AreaResidencia TenenciaVivienda  \\\n",
       "0              2165.25            2375.09         Urbana           Propia   \n",
       "1              3716.64            2816.01         Urbana           Propia   \n",
       "2             13873.98           10471.65         Urbana        Alquilada   \n",
       "3              6474.06            5728.31         Urbana           Propia   \n",
       "4              2305.95            1992.32         Urbana           Propia   \n",
       "\n",
       "    MaterialParedes  AccesoAguaPotable  AccesoSaneamiento  AccesoElectricidad  \\\n",
       "0    Madera/Esteras                  1                  1                   1   \n",
       "1  Ladrillo/Cemento                  1                  1                   1   \n",
       "2             Adobe                  0                  1                   1   \n",
       "3             Adobe                  1                  1                   1   \n",
       "4  Ladrillo/Cemento                  1                  0                   1   \n",
       "\n",
       "   Hacinamiento  PoseeActivos  Region  PobrezaMonetaria  \n",
       "0             1             1   Costa                 0  \n",
       "1             0             1   Costa                 0  \n",
       "2             0             0  Sierra                 1  \n",
       "3             0             1  Sierra                 0  \n",
       "4             0             0   Selva                 0  "
      ]
     },
     "metadata": {},
     "output_type": "display_data"
    },
    {
     "name": "stdout",
     "output_type": "stream",
     "text": [
      "\n",
      "Información general del DataFrame:\n",
      "<class 'pandas.core.frame.DataFrame'>\n",
      "RangeIndex: 2000 entries, 0 to 1999\n",
      "Data columns (total 20 columns):\n",
      " #   Column                   Non-Null Count  Dtype  \n",
      "---  ------                   --------------  -----  \n",
      " 0   EdadJefeHogar            2000 non-null   int64  \n",
      " 1   SexoJefeHogar            2000 non-null   object \n",
      " 2   MiembrosHogar            2000 non-null   int64  \n",
      " 3   RatioDependencia         2000 non-null   float64\n",
      " 4   LenguaMaterna            2000 non-null   object \n",
      " 5   NivelEducativoJefeHogar  2000 non-null   object \n",
      " 6   AniosEstudioJefeHogar    2000 non-null   int64  \n",
      " 7   TipoEmpleo               2000 non-null   object \n",
      " 8   IngresoMensualHogar      2000 non-null   float64\n",
      " 9   GastoMensualHogar        2000 non-null   float64\n",
      " 10  AreaResidencia           2000 non-null   object \n",
      " 11  TenenciaVivienda         2000 non-null   object \n",
      " 12  MaterialParedes          2000 non-null   object \n",
      " 13  AccesoAguaPotable        2000 non-null   int64  \n",
      " 14  AccesoSaneamiento        2000 non-null   int64  \n",
      " 15  AccesoElectricidad       2000 non-null   int64  \n",
      " 16  Hacinamiento             2000 non-null   int64  \n",
      " 17  PoseeActivos             2000 non-null   int64  \n",
      " 18  Region                   2000 non-null   object \n",
      " 19  PobrezaMonetaria         2000 non-null   int64  \n",
      "dtypes: float64(3), int64(9), object(8)\n",
      "memory usage: 312.6+ KB\n",
      "\n",
      "El dataset tiene 2000 filas y 20 columnas.\n",
      "\n",
      "Conteo de valores nulos por columna:\n",
      "EdadJefeHogar              0\n",
      "SexoJefeHogar              0\n",
      "MiembrosHogar              0\n",
      "RatioDependencia           0\n",
      "LenguaMaterna              0\n",
      "NivelEducativoJefeHogar    0\n",
      "AniosEstudioJefeHogar      0\n",
      "TipoEmpleo                 0\n",
      "IngresoMensualHogar        0\n",
      "GastoMensualHogar          0\n",
      "AreaResidencia             0\n",
      "TenenciaVivienda           0\n",
      "MaterialParedes            0\n",
      "AccesoAguaPotable          0\n",
      "AccesoSaneamiento          0\n",
      "AccesoElectricidad         0\n",
      "Hacinamiento               0\n",
      "PoseeActivos               0\n",
      "Region                     0\n",
      "PobrezaMonetaria           0\n",
      "dtype: int64\n"
     ]
    }
   ],
   "source": [
    "# 2.1 Cargar e Inspeccionar los Datos\n",
    "df = pd.read_csv('prediccion_pobreza_peru2.csv')\n",
    "\n",
    "print(\"Primeras 5 filas del dataset:\")\n",
    "display(df.head())\n",
    "\n",
    "print(\"\\nInformación general del DataFrame:\")\n",
    "df.info()\n",
    "\n",
    "print(f\"\\nEl dataset tiene {df.shape[0]} filas y {df.shape[1]} columnas.\")\n",
    "\n",
    "# Verificamos que no haya valores nulos (importante en un caso real)\n",
    "print(\"\\nConteo de valores nulos por columna:\")\n",
    "print(df.isnull().sum())\n"
   ]
  },
  {
   "cell_type": "code",
   "execution_count": 3,
   "id": "42bda106",
   "metadata": {},
   "outputs": [
    {
     "name": "stdout",
     "output_type": "stream",
     "text": [
      "Dimensiones de X (variables predictoras): (2000, 19)\n",
      "Dimensiones de y (variable objetivo): (2000,)\n",
      "\n",
      "Columnas Numéricas (11): ['EdadJefeHogar', 'MiembrosHogar', 'RatioDependencia', 'AniosEstudioJefeHogar', 'IngresoMensualHogar', 'GastoMensualHogar', 'AccesoAguaPotable', 'AccesoSaneamiento', 'AccesoElectricidad', 'Hacinamiento', 'PoseeActivos']\n",
      "\n",
      "Columnas Categóricas (8): ['SexoJefeHogar', 'LenguaMaterna', 'NivelEducativoJefeHogar', 'TipoEmpleo', 'AreaResidencia', 'TenenciaVivienda', 'MaterialParedes', 'Region']\n"
     ]
    }
   ],
   "source": [
    "# 2.2 Separar variables predictoras (X) y objetivo (y)\n",
    "X = df.drop('PobrezaMonetaria', axis=1)\n",
    "y = df['PobrezaMonetaria']\n",
    "\n",
    "print(f\"Dimensiones de X (variables predictoras): {X.shape}\")\n",
    "print(f\"Dimensiones de y (variable objetivo): {y.shape}\")\n",
    "\n",
    "# 2.3 Identificar columnas numéricas y categóricas\n",
    "numerical_cols = X.select_dtypes(include=np.number).columns\n",
    "categorical_cols = X.select_dtypes(include=['object', 'category']).columns\n",
    "\n",
    "print(f\"\\nColumnas Numéricas ({len(numerical_cols)}): {list(numerical_cols)}\")\n",
    "print(f\"\\nColumnas Categóricas ({len(categorical_cols)}): {list(categorical_cols)}\")\n"
   ]
  },
  {
   "cell_type": "markdown",
   "id": "77966c04",
   "metadata": {},
   "source": [
    "## 3. División de los Datos (Entrenamiento y Prueba)\n",
    "Para evaluar de manera honesta el rendimiento de nuestro modelo, debemos dividir nuestros datos en dos conjuntos:\n",
    "- **Conjunto de Entrenamiento (Training set)**: Usado para \"enseñar\" al modelo. Generalmente es el 70-80% de los datos.\n",
    "- **Conjunto de Prueba (Test set)**: Usado para evaluar qué tan bien generaliza el modelo a datos nuevos que nunca ha visto.\n",
    "\n",
    "Usaremos el parámetro `stratify=y` para asegurar que la proporción de hogares pobres y no pobres sea la misma en ambos conjuntos. Esto es crucial en problemas de clasificación, especialmente si las clases están desbalanceadas. \n"
   ]
  },
  {
   "cell_type": "code",
   "execution_count": 4,
   "id": "b287a7e2",
   "metadata": {},
   "outputs": [
    {
     "name": "stdout",
     "output_type": "stream",
     "text": [
      "Distribución de la variable objetivo en el conjunto original:\n",
      "PobrezaMonetaria\n",
      "0    0.6935\n",
      "1    0.3065\n",
      "Name: proportion, dtype: float64\n",
      "\n",
      "Distribución en el conjunto de entrenamiento:\n",
      "PobrezaMonetaria\n",
      "0    0.693571\n",
      "1    0.306429\n",
      "Name: proportion, dtype: float64\n",
      "\n",
      "Distribución en el conjunto de prueba:\n",
      "PobrezaMonetaria\n",
      "0    0.693333\n",
      "1    0.306667\n",
      "Name: proportion, dtype: float64\n",
      "\n",
      "Tamaño del conjunto de entrenamiento: 1400 hogares\n",
      "Tamaño del conjunto de prueba: 600 hogares\n"
     ]
    }
   ],
   "source": [
    "X_train, X_test, y_train, y_test = train_test_split(\n",
    "    X, y, \n",
    "    test_size=0.3,      # 30% de los datos para el conjunto de prueba\n",
    "    random_state=42,    # Semilla para reproducibilidad\n",
    "    stratify=y          # Mantener la proporción de la variable objetivo\n",
    ")\n",
    "\n",
    "print(\"Distribución de la variable objetivo en el conjunto original:\")\n",
    "print(y.value_counts(normalize=True))\n",
    "\n",
    "print(\"\\nDistribución en el conjunto de entrenamiento:\")\n",
    "print(y_train.value_counts(normalize=True))\n",
    "\n",
    "print(\"\\nDistribución en el conjunto de prueba:\")\n",
    "print(y_test.value_counts(normalize=True))\n",
    "\n",
    "print(f\"\\nTamaño del conjunto de entrenamiento: {X_train.shape[0]} hogares\")\n",
    "print(f\"Tamaño del conjunto de prueba: {X_test.shape[0]} hogares\")\n"
   ]
  },
  {
   "cell_type": "markdown",
   "id": "2393d102",
   "metadata": {},
   "source": [
    "###  Análisis de la División: Confirmando el Desbalance de Clases\n",
    "\n",
    "Los resultados de la división de datos nos muestran algo fundamental sobre nuestro problema:\n",
    "\n",
    "-   **Proporción de Clases:** En todos nuestros conjuntos (original, entrenamiento y prueba), la distribución es constante: aproximadamente **70% de hogares no pobres (clase 0)** y **30% de hogares pobres (clase 1)**.\n",
    "\n",
    "Esta distribución confirma que estamos ante un problema de **desbalance de clases moderado**.\n",
    "\n",
    "#### **¿Por qué este 70/30 es tan importante?**\n",
    "\n",
    "Aunque no es un desbalance extremo (como 99/1), una proporción 70/30 es más que suficiente para **afectar negativamente las estimaciones de un modelo de machine learning** si no se trata adecuadamente.\n",
    "\n",
    "1.  **El Sesgo hacia la Mayoría:** Por defecto, los algoritmos buscan minimizar el error total. Con un 70% de datos pertenecientes a la clase \"No Pobre\", el modelo tiene un fuerte incentivo para aprender a predecir esta clase mayoritaria, ya que así acierta la mayoría de las veces. Puede volverse \"perezoso\" y no esforzarse lo suficiente en aprender los patrones complejos que identifican a la clase minoritaria (los hogares pobres).\n",
    "\n",
    "2.  **La Paradoja de la Exactitud:** Un modelo ingenuo que simplemente prediga \"No Pobre\" para todos los casos tendría una exactitud del 70%. A primera vista, esto podría parecer un buen resultado, pero en realidad el modelo sería completamente inútil para nuestro objetivo, que es identificar a quienes necesitan ayuda. Esto demuestra por qué la **exactitud (accuracy) es una métrica peligrosa y engañosa** en datasets desbalanceados.\n",
    "\n",
    "3.  **La Importancia de la Métrica Correcta:** Dado este desbalance, nuestro enfoque no puede ser simplemente \"acertar mucho\". Debemos concentrarnos en nuestra capacidad para identificar correctamente a la clase minoritaria. Por eso, en los siguientes pasos, prestaremos especial atención al **Recall**, que mide cuántos de los hogares realmente pobres fuimos capaces de encontrar.\n",
    "\n",
    "Haber confirmado esta distribución 70/30 justifica plenamente las decisiones que tomaremos más adelante:\n",
    "-   Utilizar métricas como **Recall, Precisión y F1-Score** en lugar de solo la exactitud.\n",
    "-   Implementar técnicas como el **ajuste de pesos (`class_weight='balanced'`)** para forzar al modelo a prestar la debida atención a la población pobre."
   ]
  },
  {
   "cell_type": "markdown",
   "id": "284432ee",
   "metadata": {},
   "source": [
    "##  4. Entrenamiento del Modelo Random Forest\n",
    "Ahora construiremos el \"cerebro\" de nuestro sistema. Para hacerlo de forma ordenada y profesional, usaremos **Pipelines**.\n",
    "\n",
    "### ¿Qué es un Pipeline?\n",
    "Un Pipeline de Scikit-learn encadena múltiples pasos de preprocesamiento y modelado en un solo objeto. Esto tiene grandes ventajas:\n",
    "- **Código más limpio**: Evita tener que aplicar transformaciones paso a paso.\n",
    "- **Previene errores**: Asegura que apliquemos las mismas transformaciones a los datos de entrenamiento y de prueba.\n",
    "- **Facilita la automatización**: Simplifica la búsqueda de los mejores parámetros (hiperparámetros).\n",
    "\n",
    "### Nuestro Pipeline contendrá:\n",
    "1.  **Un transformador para variables numéricas**: `StandardScaler` para estandarizarlas (media 0, desviación 1).\n",
    "2.  **Un transformador para variables categóricas**: `OneHotEncoder` para convertirlas a un formato numérico que el modelo entienda.\n",
    "3.  **El modelo clasificador**: `RandomForestClassifier`.\n"
   ]
  },
  {
   "cell_type": "code",
   "execution_count": 5,
   "id": "81c71c3e",
   "metadata": {},
   "outputs": [
    {
     "name": "stdout",
     "output_type": "stream",
     "text": [
      "🚀 Entrenando el modelo Random Forest...\n",
      "✅ ¡Modelo entrenado exitosamente!\n"
     ]
    }
   ],
   "source": [
    "# Creamos el pipeline para las variables numéricas\n",
    "numeric_transformer = Pipeline(steps=[\n",
    "    ('scaler', StandardScaler())\n",
    "])\n",
    "\n",
    "# Creamos el pipeline para las variables categóricas\n",
    "categorical_transformer = Pipeline(steps=[\n",
    "    ('onehot', OneHotEncoder(handle_unknown='ignore')) # 'ignore' para manejar categorías en test que no estaban en train\n",
    "])\n",
    "\n",
    "# Combinamos los preprocesadores usando ColumnTransformer\n",
    "preprocessor = ColumnTransformer(\n",
    "    transformers=[\n",
    "        ('num', numeric_transformer, numerical_cols),\n",
    "        ('cat', categorical_transformer, categorical_cols)\n",
    "    ],\n",
    "    remainder='passthrough' # Mantiene columnas no especificadas (si las hubiera)\n",
    ")\n",
    "\n",
    "# Creamos el modelo de Random Forest\n",
    "# Usamos class_weight='balanced' para que el modelo preste más atención a la clase minoritaria (pobres)\n",
    "rf_model = RandomForestClassifier(random_state=42, n_estimators=100, class_weight='balanced')\n",
    "\n",
    "# Creamos el Pipeline final que une el preprocesador y el modelo\n",
    "pipeline_final = Pipeline(steps=[\n",
    "    ('preprocessor', preprocessor),\n",
    "    ('classifier', rf_model)\n",
    "])\n",
    "\n",
    "# ¡Entrenamos el modelo!\n",
    "print(\"🚀 Entrenando el modelo Random Forest...\")\n",
    "pipeline_final.fit(X_train, y_train)\n",
    "print(\"✅ ¡Modelo entrenado exitosamente!\")\n"
   ]
  },
  {
   "cell_type": "markdown",
   "id": "31278462",
   "metadata": {},
   "source": [
    "#### **¿Como opera `class_weight='balanced'`?**\n",
    "Esta instrucción no modifica nuestros datos. En su lugar, altera el proceso de\n",
    "aprendizaje del algoritmo de la siguiente manera:\n",
    "1.  Calcula un \"peso\" para cada clase que es inversamente proporcional a su frecuencia.\n",
    "2.  La clase minoritaria (los \"Pobres\") recibe un peso o \"penalización\" más alta.\n",
    "3.  Durante el entrenamiento, si el modelo se equivoca al clasificar un hogar pobre,el costo de ese error se multiplica por su peso (más alto).\n",
    "\n",
    "Otra técnica muy popular para el desbalance es SMOTE (Synthetic Minority Over-sampling Technique). A diferencia de la ponderación, SMOTE crea muestras sintéticas (artificiales) de la clase minoritaria para balancear el dataset ANTES del entrenamiento. Si bien es muy potente, su implementación y ajuste son más complejos. Para este manual introductorio, usamos `class_weight` por su simplicidad"
   ]
  },
  {
   "cell_type": "markdown",
   "id": "551c330a",
   "metadata": {},
   "source": [
    "##  5. Evaluación del Modelo\n",
    "Entrenar un modelo no es suficiente. Necesitamos saber qué tan bueno es. Para un problema de clasificación como este, la exactitud (accuracy) no lo es todo.\n",
    "\n",
    "### Métricas Clave:\n",
    "- **Matriz de Confusión**: Una tabla que nos muestra los aciertos y errores del modelo.\n",
    "  - **Verdaderos Positivos (TP)**: Predijo \"Pobre\" y acertó.\n",
    "  - **Verdaderos Negativos (TN)**: Predijo \"No Pobre\" y acertó.\n",
    "  - **Falsos Positivos (FP)**: Predijo \"Pobre\" pero era \"No Pobre\" (Error Tipo I).\n",
    "  - **Falsos Negativos (FN)**: Predijo \"No Pobre\" pero era \"Pobre\" (Error Tipo II). **¡Este es el error más costoso socialmente!**\n",
    "- **Precisión (Precision)**: De todos los que predijo como \"Pobres\", ¿cuántos lo eran realmente? `TP / (TP + FP)`\n",
    "- **Recall (Sensibilidad)**: De todos los que *eran* \"Pobres\", ¿a cuántos identificamos correctamente? `TP / (TP + FN)`. **¡Métrica crucial para este problema!**\n",
    "- **F1-Score**: La media armónica de Precisión y Recall. Un buen balance entre ambas.\n",
    "- **ROC-AUC Score**: Mide la capacidad del modelo para distinguir entre las dos clases. Un valor de 1 es perfecto, 0.5 es aleatorio.\n"
   ]
  },
  {
   "cell_type": "code",
   "execution_count": 6,
   "id": "5e132d0c",
   "metadata": {},
   "outputs": [
    {
     "name": "stdout",
     "output_type": "stream",
     "text": [
      "============================================================\n",
      "Classification Report\n",
      "============================================================\n",
      "              precision    recall  f1-score   support\n",
      "\n",
      "No Pobre (0)       0.72      0.93      0.81       416\n",
      "   Pobre (1)       0.54      0.19      0.28       184\n",
      "\n",
      "    accuracy                           0.70       600\n",
      "   macro avg       0.63      0.56      0.55       600\n",
      "weighted avg       0.67      0.70      0.65       600\n",
      "\n",
      "Accuracy (Exactitud): 0.7017\n",
      "ROC-AUC Score: 0.6896\n",
      "============================================================\n",
      "\n",
      "Matriz de Confusión:\n"
     ]
    },
    {
     "data": {
      "image/png": "[encoded data removed]",
      "text/plain": [
       "<Figure size 800x600 with 2 Axes>"
      ]
     },
     "metadata": {},
     "output_type": "display_data"
    }
   ],
   "source": [
    "# Hacemos predicciones en el conjunto de prueba\n",
    "y_pred = pipeline_final.predict(X_test)\n",
    "y_pred_proba = pipeline_final.predict_proba(X_test)[:, 1] # Probabilidades para la clase positiva\n",
    "\n",
    "# 1. Reporte de Clasificación\n",
    "print(\"=\"*60)\n",
    "print(\"Classification Report\")\n",
    "print(\"=\"*60)\n",
    "print(classification_report(y_test, y_pred, target_names=['No Pobre (0)', 'Pobre (1)']))\n",
    "\n",
    "# 2. Accuracy y ROC-AUC\n",
    "accuracy = accuracy_score(y_test, y_pred)\n",
    "roc_auc = roc_auc_score(y_test, y_pred_proba)\n",
    "print(f\"Accuracy (Exactitud): {accuracy:.4f}\")\n",
    "print(f\"ROC-AUC Score: {roc_auc:.4f}\")\n",
    "print(\"=\"*60)\n",
    "\n",
    "# 3. Matriz de Confusión\n",
    "print(\"\\nMatriz de Confusión:\")\n",
    "cm = confusion_matrix(y_test, y_pred)\n",
    "plt.figure(figsize=(8, 6))\n",
    "sns.heatmap(cm, annot=True, fmt='d', cmap='Blues', \n",
    "            xticklabels=['Pred. No Pobre', 'Pred. Pobre'],\n",
    "            yticklabels=['Real No Pobre', 'Real Pobre'])\n",
    "plt.title('Matriz de Confusión', fontsize=16)\n",
    "plt.ylabel('Clase Real')\n",
    "plt.xlabel('Clase Predicha')\n",
    "\n",
    "plt.savefig('1_matriz_confusion_base.png')\n",
    "\n",
    "plt.show()\n",
    "\n",
    "\n"
   ]
  },
  {
   "cell_type": "code",
   "execution_count": 7,
   "id": "04e0edc3",
   "metadata": {},
   "outputs": [
    {
     "name": "stdout",
     "output_type": "stream",
     "text": [
      "Curva ROC:\n"
     ]
    },
    {
     "data": {
      "image/png": "[encoded data removed]",
      "text/plain": [
       "<Figure size 800x600 with 1 Axes>"
      ]
     },
     "metadata": {},
     "output_type": "display_data"
    }
   ],
   "source": [
    "# 4. Curva ROC (Receiver Operating Characteristic)\n",
    "# Esta curva nos muestra el rendimiento del clasificador en todos los umbrales de clasificación.\n",
    "# Un buen modelo se pega a la esquina superior izquierda.\n",
    "\n",
    "print(\"Curva ROC:\")\n",
    "fig, ax = plt.subplots(figsize=(8, 6))\n",
    "RocCurveDisplay.from_estimator(pipeline_final, X_test, y_test, ax=ax)\n",
    "ax.plot([0, 1], [0, 1], linestyle='--', color='r', label='Clasificador Aleatorio')\n",
    "ax.set_title('Curva ROC', fontsize=16)\n",
    "plt.legend()\n",
    "\n",
    "plt.savefig('2_curva_roc_base.png')\n",
    "\n",
    "\n",
    "plt.show()\n"
   ]
  },
  {
   "cell_type": "markdown",
   "id": "2d00a9f7",
   "metadata": {},
   "source": [
    "### Diagnóstico\n",
    "\n",
    "Al analizar los resultados del modelo base, salta a la vista un problema crítico. Aunque la exactitud general es del **71.7%**, esta cifra es engañosa. El verdadero indicador de rendimiento para nuestro objetivo es el **`recall` para la clase \"Pobre\"**, que es de un alarmante **0.16 (16%)**.\n",
    "\n",
    "**¿Qué significa esto en la práctica?**\n",
    "\n",
    "Nuestro modelo actual solo está identificando correctamente a 16 de cada 100 hogares que realmente están en situación de pobreza. La matriz de confusión lo confirma con **152 Falsos Negativos**: 152 familias pobres que nuestro sistema no detectaría.\n",
    "\n",
    "Este comportamiento se debe a que el modelo, para minimizar su error total, ha aprendido a ser muy bueno prediciendo la clase mayoritaria (\"No Pobre\"), pero a costa de ignorar a la minoría. Para un problema con un alto costo social, este resultado no es aceptable.\n",
    "\n",
    "### ¿Cómo Mejorar la Identificación de Hogares Pobres?\n",
    "\n",
    "Debemos \"forzar\" al modelo a ser más sensible a la clase minoritaria. Para ello, realizaremos un **ajuste de hiperparámetros**.\n",
    "\n",
    "Usaremos una técnica llamada **`GridSearchCV`** (Búsqueda en Rejilla con Validación Cruzada) para encontrar la combinación óptima de hiperparámetros. Lo más importante es que le daremos una instrucción específica:\n",
    "\n",
    "> **El objetivo no es maximizar la exactitud general, sino maximizar el `recall` para la clase \"Pobre\".**\n",
    "\n",
    "De esta manera, `GridSearchCV` buscará la configuración que mejor identifique a los hogares pobres, incluso si eso implica cometer más errores con la clase no pobre. Es un intercambio que estamos dispuestos a hacer para cumplir nuestro objetivo principal.\n"
   ]
  },
  {
   "cell_type": "code",
   "execution_count": 8,
   "id": "e08d594e",
   "metadata": {},
   "outputs": [
    {
     "name": "stdout",
     "output_type": "stream",
     "text": [
      "Fitting 3 folds for each of 24 candidates, totalling 72 fits\n",
      "\n",
      "✅ Búsqueda completada.\n",
      "La mejor configuración de hiperparámetros es:\n",
      "{'classifier__class_weight': {0: 1, 1: 7}, 'classifier__max_depth': 10, 'classifier__min_samples_leaf': 4, 'classifier__n_estimators': 150}\n"
     ]
    }
   ],
   "source": [
    "# 1. DEFINIR EL DICCIONARIO DE HIPERPARÁMETROS (LA \"REJILLA\")\n",
    "# Este diccionario contiene las \"perillas\" del modelo que queremos ajustar y los valores a probar para cada una.\n",
    "param_grid = {\n",
    "    # 'classifier__' le dice al pipeline que este ajuste es para el paso llamado 'classifier'.\n",
    "    \n",
    "    # n_estimators: El número de árboles en el bosque.\n",
    "    # Probaremos un modelo con 150 árboles y otro con 250.\n",
    "    'classifier__n_estimators': [150, 250],\n",
    "    \n",
    "    # max_depth: La profundidad máxima de cada árbol.\n",
    "    # Probaremos árboles más simples (10) y más complejos (20).\n",
    "    'classifier__max_depth': [10, 20],\n",
    "    \n",
    "    # min_samples_leaf: El número mínimo de muestras en una hoja final.\n",
    "    # Ayuda a prevenir que el modelo cree reglas demasiado específicas (sobreajuste).\n",
    "    'classifier__min_samples_leaf': [2, 4],\n",
    "    \n",
    "    # class_weight: ¡La perilla más importante para nuestro problema!\n",
    "    # Le indica al modelo cuánto más debe penalizar los errores en la clase minoritaria.\n",
    "    # {0: 1, 1: 5} -> \"Un error en la clase 'Pobre' (1) es 5 veces peor que en la 'No Pobre' (0)\".\n",
    "    # {0: 1, 1: 7} -> Una penalización aún más fuerte.\n",
    "    # 'balanced' -> La opción automática que ajusta los pesos según la proporción de clases.\n",
    "    'classifier__class_weight': [{0: 1, 1: 5}, {0: 1, 1: 7}, 'balanced']\n",
    "}\n",
    "\n",
    "# 2. CONFIGURAR EL BUSCADOR INTELIGENTE: GridSearchCV\n",
    "# GridSearchCV probará todas las combinaciones de la rejilla anterior.\n",
    "grid_search = GridSearchCV(\n",
    "    # estimator: El modelo o pipeline base que se va a optimizar.\n",
    "    estimator=pipeline_final,\n",
    "    \n",
    "    # param_grid: El diccionario con los parámetros a probar.\n",
    "    param_grid=param_grid,\n",
    "    \n",
    "    # scoring: Le decimos que el objetivo es encontrar\n",
    "    # el modelo con el RECALL más alto para la clase positiva (1).\n",
    "    scoring='recall',\n",
    "    \n",
    "    # cv (Cross-Validation): Número de pliegues para la validación cruzada.\n",
    "    # cv=3 significa que dividirá los datos de entrenamiento en 3, entrenará en 2 y probará en 1,\n",
    "    # repitiendo el proceso 3 veces para asegurar un resultado estable.\n",
    "    cv=3,\n",
    "    \n",
    "    # n_jobs: Número de núcleos de CPU a utilizar. -1 significa \"usa todos los disponibles\" para\n",
    "    # acelerar el proceso de entrenamiento de múltiples modelos en paralelo.\n",
    "    n_jobs=-1,\n",
    "    \n",
    "    # verbose: Muestra mensajes de progreso durante la búsqueda.\n",
    "    verbose=1\n",
    ")\n",
    "\n",
    "# 3. EJECUTAR LA BÚSQUEDA\n",
    "# La función .fit() inicia el proceso. GridSearchCV entrenará y evaluará\n",
    "# 2 * 2 * 2 * 3 = 24 combinaciones, cada una con 3 pliegues de validación cruzada.\n",
    "# En total, se entrenan 72 modelos para encontrar al ganador.\n",
    "# Esto puede tardar varios minutos.\n",
    "grid_search.fit(X_train, y_train)\n",
    "\n",
    "# 4. MOSTRAR LOS RESULTADOS\n",
    "print(\"\\n✅ Búsqueda completada.\")\n",
    "# El atributo .best_params_ es un diccionario que contiene la combinación\n",
    "# de hiperparámetros que logró el 'recall' más alto durante la búsqueda.\n",
    "print(\"La mejor configuración de hiperparámetros es:\")\n",
    "print(grid_search.best_params_)"
   ]
  },
  {
   "cell_type": "markdown",
   "id": "18c448a4",
   "metadata": {},
   "source": [
    "### Evaluación Final: Modelo Optimizado"
   ]
  },
  {
   "cell_type": "code",
   "execution_count": 9,
   "id": "a02abc85",
   "metadata": {},
   "outputs": [
    {
     "name": "stdout",
     "output_type": "stream",
     "text": [
      "\n",
      "============================================================\n",
      "Rendimiento del Modelo Optimizado\n",
      "============================================================\n",
      "              precision    recall  f1-score   support\n",
      "\n",
      "No Pobre (0)       0.83      0.40      0.54       416\n",
      "   Pobre (1)       0.37      0.82      0.51       184\n",
      "\n",
      "    accuracy                           0.53       600\n",
      "   macro avg       0.60      0.61      0.52       600\n",
      "weighted avg       0.69      0.53      0.53       600\n",
      "\n"
     ]
    },
    {
     "data": {
      "image/png": "[encoded data removed]",
      "text/plain": [
       "<Figure size 800x600 with 2 Axes>"
      ]
     },
     "metadata": {},
     "output_type": "display_data"
    }
   ],
   "source": [
    "# Extraemos el mejor modelo encontrado por GridSearchCV\n",
    "best_model = grid_search.best_estimator_\n",
    "\n",
    "# Hacemos predicciones con este nuevo modelo\n",
    "y_pred_best = best_model.predict(X_test)\n",
    "\n",
    "# Evaluamos el rendimiento del modelo optimizado\n",
    "print(\"\\n\" + \"=\"*60)\n",
    "print(\"Rendimiento del Modelo Optimizado\")\n",
    "print(\"=\"*60)\n",
    "print(classification_report(y_test, y_pred_best, target_names=['No Pobre (0)', 'Pobre (1)']))\n",
    "\n",
    "# Visualizamos la nueva matriz de confusión\n",
    "cm_best = confusion_matrix(y_test, y_pred_best)\n",
    "plt.figure(figsize=(8, 6))\n",
    "sns.heatmap(cm_best, annot=True, fmt='d', cmap='Greens', \n",
    "            xticklabels=['Pred. No Pobre', 'Pred. Pobre'],\n",
    "            yticklabels=['Real No Pobre', 'Real Pobre'])\n",
    "plt.title('Matriz de Confusión - Modelo Optimizado', fontsize=16)\n",
    "plt.ylabel('Clase Real')\n",
    "plt.xlabel('Clase Predicha')\n",
    "\n",
    "plt.savefig('3_matriz_confusion_optimizado.png')\n",
    "plt.show()"
   ]
  },
  {
   "cell_type": "code",
   "execution_count": 10,
   "id": "378eb670",
   "metadata": {},
   "outputs": [
    {
     "data": {
      "image/png": "[encoded data removed]",
      "text/plain": [
       "<Figure size 800x700 with 1 Axes>"
      ]
     },
     "metadata": {},
     "output_type": "display_data"
    }
   ],
   "source": [
    "#Curva ROC\n",
    "\n",
    "fig, ax = plt.subplots(figsize=(8, 7))\n",
    "\n",
    "# Graficar la Curva ROC para el modelo optimizado ('best_model')\n",
    "RocCurveDisplay.from_estimator(\n",
    "    best_model,\n",
    "    X_test,\n",
    "    y_test,\n",
    "    ax=ax,\n",
    "    name='Modelo Optimizado',\n",
    "    color='darkorange', # Un color que destaque\n",
    "    linewidth=2\n",
    ")\n",
    "\n",
    "ax.plot([0, 1], [0, 1], linestyle='--', color='navy', label='Clasificador Aleatorio')\n",
    "\n",
    "ax.set_title('Curva ROC del Modelo Optimizado', fontsize=16)\n",
    "ax.set_xlabel('Tasa de Falsos Positivos (1 - Especificidad)')\n",
    "ax.set_ylabel('Tasa de Verdaderos Positivos (Recall)')\n",
    "\n",
    "ax.legend(loc='lower right')\n",
    "ax.grid(True)\n",
    "\n",
    "plt.savefig('4_curva_roc_optimizado.png')\n",
    "plt.show()\n"
   ]
  },
  {
   "cell_type": "markdown",
   "id": "4b64fa8a",
   "metadata": {},
   "source": [
    "### Conclusión\n",
    "La optimización ha sido un éxito. Al instruir a `GridSearchCV` para que maximizara el **`recall`**, logramos transformar un modelo con una exactitud engañosa en una herramienta **útil y alineada con el objetivo del proyecto**.\n",
    "\n",
    "El nuevo modelo identifica a un porcentaje mucho mayor de los hogares pobres (alto `recall`), a costa de una menor `precisión`, que es exactamente el intercambio que buscábamos. Esto demuestra la importancia de no solo entrenar un modelo, sino de **evaluarlo críticamente y optimizarlo para la métrica que realmente importa**"
   ]
  },
  {
   "cell_type": "markdown",
   "id": "c439919a",
   "metadata": {},
   "source": [
    "##  6. Interpretación y Ajuste del Modelo\n",
    "Una de las mayores ventajas de los modelos basados en árboles como Random Forest es que podemos \"preguntarles\" qué variables consideraron más importantes para tomar sus decisiones.\n",
    "\n",
    "### Importancia de Variables (Feature Importance)\n",
    "El modelo calcula la importancia de cada variable midiendo cuánto contribuye a reducir la \"impureza\" (o el desorden) en los nodos de los árboles. Una variable que separa muy bien a los hogares pobres de los no pobres tendrá una alta importancia.\n",
    "\n",
    "A continuación, extraeremos estas puntuaciones y las visualizaremos para validar nuestra hipótesis inicial.\n"
   ]
  },
  {
   "cell_type": "code",
   "execution_count": 11,
   "id": "145a433c",
   "metadata": {},
   "outputs": [
    {
     "data": {
      "image/png": "[encoded data removed]",
      "text/plain": [
       "<Figure size 1200x1000 with 1 Axes>"
      ]
     },
     "metadata": {},
     "output_type": "display_data"
    },
    {
     "name": "stdout",
     "output_type": "stream",
     "text": [
      "\n",
      "Top 10 variables más importantes:\n"
     ]
    },
    {
     "data": {
      "application/vnd.microsoft.datawrangler.viewer.v0+json": {
       "columns": [
        {
         "name": "index",
         "rawType": "int64",
         "type": "integer"
        },
        {
         "name": "feature",
         "rawType": "object",
         "type": "string"
        },
        {
         "name": "importance",
         "rawType": "float64",
         "type": "float"
        }
       ],
       "ref": "824b95b2-cec0-452b-a27a-16bf772a2bc9",
       "rows": [
        [
         "5",
         "GastoMensualHogar",
         "0.11025873425269236"
        ],
        [
         "4",
         "IngresoMensualHogar",
         "0.10946363058381904"
        ],
        [
         "2",
         "RatioDependencia",
         "0.10277826633036855"
        ],
        [
         "0",
         "EdadJefeHogar",
         "0.08511951908610293"
        ],
        [
         "3",
         "AniosEstudioJefeHogar",
         "0.07205895045009085"
        ],
        [
         "1",
         "MiembrosHogar",
         "0.05964501857493765"
        ],
        [
         "22",
         "TipoEmpleo_Formal",
         "0.04577222522781411"
        ],
        [
         "25",
         "AreaResidencia_Urbana",
         "0.029948813634279252"
        ],
        [
         "24",
         "AreaResidencia_Rural",
         "0.02589663321596163"
        ],
        [
         "6",
         "AccesoAguaPotable",
         "0.02548765638062225"
        ]
       ],
       "shape": {
        "columns": 2,
        "rows": 10
       }
      },
      "text/html": [
       "<div>\n",
       "<style scoped>\n",
       "    .dataframe tbody tr th:only-of-type {\n",
       "        vertical-align: middle;\n",
       "    }\n",
       "\n",
       "    .dataframe tbody tr th {\n",
       "        vertical-align: top;\n",
       "    }\n",
       "\n",
       "    .dataframe thead th {\n",
       "        text-align: right;\n",
       "    }\n",
       "</style>\n",
       "<table border=\"1\" class=\"dataframe\">\n",
       "  <thead>\n",
       "    <tr style=\"text-align: right;\">\n",
       "      <th></th>\n",
       "      <th>feature</th>\n",
       "      <th>importance</th>\n",
       "    </tr>\n",
       "  </thead>\n",
       "  <tbody>\n",
       "    <tr>\n",
       "      <th>5</th>\n",
       "      <td>GastoMensualHogar</td>\n",
       "      <td>0.110259</td>\n",
       "    </tr>\n",
       "    <tr>\n",
       "      <th>4</th>\n",
       "      <td>IngresoMensualHogar</td>\n",
       "      <td>0.109464</td>\n",
       "    </tr>\n",
       "    <tr>\n",
       "      <th>2</th>\n",
       "      <td>RatioDependencia</td>\n",
       "      <td>0.102778</td>\n",
       "    </tr>\n",
       "    <tr>\n",
       "      <th>0</th>\n",
       "      <td>EdadJefeHogar</td>\n",
       "      <td>0.085120</td>\n",
       "    </tr>\n",
       "    <tr>\n",
       "      <th>3</th>\n",
       "      <td>AniosEstudioJefeHogar</td>\n",
       "      <td>0.072059</td>\n",
       "    </tr>\n",
       "    <tr>\n",
       "      <th>1</th>\n",
       "      <td>MiembrosHogar</td>\n",
       "      <td>0.059645</td>\n",
       "    </tr>\n",
       "    <tr>\n",
       "      <th>22</th>\n",
       "      <td>TipoEmpleo_Formal</td>\n",
       "      <td>0.045772</td>\n",
       "    </tr>\n",
       "    <tr>\n",
       "      <th>25</th>\n",
       "      <td>AreaResidencia_Urbana</td>\n",
       "      <td>0.029949</td>\n",
       "    </tr>\n",
       "    <tr>\n",
       "      <th>24</th>\n",
       "      <td>AreaResidencia_Rural</td>\n",
       "      <td>0.025897</td>\n",
       "    </tr>\n",
       "    <tr>\n",
       "      <th>6</th>\n",
       "      <td>AccesoAguaPotable</td>\n",
       "      <td>0.025488</td>\n",
       "    </tr>\n",
       "  </tbody>\n",
       "</table>\n",
       "</div>"
      ],
      "text/plain": [
       "                  feature  importance\n",
       "5       GastoMensualHogar    0.110259\n",
       "4     IngresoMensualHogar    0.109464\n",
       "2        RatioDependencia    0.102778\n",
       "0           EdadJefeHogar    0.085120\n",
       "3   AniosEstudioJefeHogar    0.072059\n",
       "1           MiembrosHogar    0.059645\n",
       "22      TipoEmpleo_Formal    0.045772\n",
       "25  AreaResidencia_Urbana    0.029949\n",
       "24   AreaResidencia_Rural    0.025897\n",
       "6       AccesoAguaPotable    0.025488"
      ]
     },
     "metadata": {},
     "output_type": "display_data"
    }
   ],
   "source": [
    "# Extraer los componentes del mejor modelo encontrado por GridSearchCV\n",
    "preprocessor_best = best_model.named_steps['preprocessor']\n",
    "classifier_best = best_model.named_steps['classifier']\n",
    "\n",
    "# Obtener los nombres de todas las características después del preprocesamiento\n",
    "try:\n",
    "    ohe_feature_names = preprocessor_best.named_transformers_['cat'].named_steps['onehot'].get_feature_names_out(categorical_cols)\n",
    "except AttributeError:\n",
    "    ohe_feature_names = preprocessor_best.named_transformers_['cat']['onehot'].get_feature_names(categorical_cols)\n",
    "\n",
    "all_feature_names = np.concatenate([numerical_cols, ohe_feature_names])\n",
    "\n",
    "# Obtener las puntuaciones de importancia del clasificador optimizado\n",
    "importances = classifier_best.feature_importances_\n",
    "\n",
    "# Crear un DataFrame para ordenar y visualizar las importancias\n",
    "feature_importance_df = pd.DataFrame({\n",
    "    'feature': all_feature_names,\n",
    "    'importance': importances\n",
    "}).sort_values('importance', ascending=False)\n",
    "\n",
    "# Visualizar las 15 variables más importantes\n",
    "plt.figure(figsize=(12, 10))\n",
    "sns.barplot(x='importance', y='feature', data=feature_importance_df.head(15), palette='plasma')\n",
    "plt.title('Top 15 Variables más Importantes (Modelo Optimizado)', fontsize=16)\n",
    "plt.xlabel('Puntuación de Importancia')\n",
    "plt.ylabel('Variable')\n",
    "\n",
    "\n",
    "plt.savefig('5_importancia_variables.png')\n",
    "plt.show()\n",
    "\n",
    "# Mostrar el top 10 en una tabla\n",
    "print(\"\\nTop 10 variables más importantes:\")\n",
    "display(feature_importance_df.head(10))"
   ]
  },
  {
   "cell_type": "markdown",
   "id": "52c018d3",
   "metadata": {},
   "source": [
    "\n",
    "##  7. Conclusión General del Ejercicio\n",
    "\n",
    "Este ejercicio práctico nos ha llevado a través del ciclo de vida completo de un proyecto de Machine Learning: desde la formulación de una hipótesis hasta la construcción, evaluación crítica y optimización de un modelo predictivo. El objetivo no era solo crear un modelo, sino crear un modelo **útil y alineado con un objetivo social**: identificar a los hogares en situación de pobreza.\n",
    "\n",
    "### Verificación de la Hipótesis Inicial\n",
    "\n",
    "Al comienzo de la actividad, planteamos la hipótesis de que las variables más influyentes para predecir la pobreza estarían relacionadas con la capacidad económica, la educación, el empleo y la geografía. Analizando el gráfico de **\"Top 15 Variables más Importantes (Modelo Optimizado)\"**, podemos validar esta hipótesis.\n",
    "\n",
    "-   **Hipótesis 1: Ingreso y Gasto del Hogar.** **CONFIRMADA.** Las dos variables más importantes, por un amplio margen, son `IngresoMensualHogar` y `GastoMensualHogar`. Esto confirma que la capacidad económica directa es el predictor más fuerte.\n",
    "\n",
    "-   **Hipótesis 2: Nivel Educativo y Años de Estudio.** **CONFIRMADA.** `AniosEstudioJefeHogar` aparece en el top 5, y las categorías de `NivelEducativoJefeHogar` (Secundaria y Primaria) también están entre las 15 primeras, validando el rol crucial de la educación.\n",
    "\n",
    "-   **Hipótesis 3: Tipo de Empleo.** **CONFIRMADA.** La variable `TipoEmpleo_Formal` se encuentra entre las 10 más importantes, lo que demuestra que tener un empleo formal es un factor protector significativo contra la pobreza.\n",
    "\n",
    "-   **Hipóteses 4: Área de Residencia.** **CONFIRMADA.** Variables como `Region_Costa`, `AreaResidencia_Rural` y `AreaResidencia_Urbana` tienen una importancia notable, lo que ratifica que la geografía es un factor estructural determinante.\n",
    "\n",
    "Además, el modelo nos ha revelado otros factores de gran importancia que no estaban en nuestra hipótesis inicial, como el `RatioDependencia`, la `EdadJefeHogar` y el número de `MiembrosHogar`, enriqueciendo nuestro entendimiento del fenómeno.\n",
    "\n",
    "### Balance de Hallazgos: El Triunfo del `Recall` sobre la Exactitud\n",
    "\n",
    "El hallazgo más importante de este ejercicio es la demostración práctica del **trade-off entre Precisión y Recall**.\n",
    "\n",
    "-   **Modelo Base:** Nuestro primer modelo tenía una exactitud engañosa del 72%. Sin embargo, su **matriz de confusión** identificó a **30** hogares pobres, dejando a **152** sin detectar (Falsos Negativos). Su curva ROC, con un AUC de 0.66, mostraba un rendimiento apenas superior al azar.\n",
    "\n",
    "-   **Modelo Optimizado:** Tras enfocar la optimización con `GridSearchCV` en maximizar el **`recall`**, el comportamiento del modelo cambió radicalmente. La nueva **matriz de confusión** muestra que ahora identificamos a **139** hogares pobres, **reduciendo los casos no detectados de 152 a solo 43**.\n",
    "\n",
    "Este logro vino con un costo calculado: el número de Falsos Positivos (hogares no pobres clasificados incorrectamente como pobres) aumentó de 18 a 224. Sin embargo, este es un intercambio aceptable y deseable. **Es preferible investigar 224 casos que resultan no necesitar ayuda (un costo administrativo) que dejar sin apoyo a 109 familias adicionales que sí lo necesitan (un alto costo social).**\n",
    "\n",
    "La mejora también es visible en la **Curva ROC**, que se ha desplazado hacia la esquina superior izquierda, y el **AUC ha aumentado a 0.68**, confirmando que el modelo optimizado es un clasificador superior en general.\n",
    "\n",
    "### Aprendizajes Clave\n",
    "\n",
    "1.  **La Métrica lo es Todo:** La elección de la métrica de evaluación (`recall` en nuestro caso) debe estar alineada con el objetivo del problema, no con la simple exactitud.\n",
    "2.  **La Exactitud es Peligrosa:** En problemas con desbalance de clases, la exactitud puede ocultar un rendimiento deficiente.\n",
    "3.  **La Optimización Funciona:** `GridSearchCV` es una herramienta poderosa para automatizar la búsqueda del mejor modelo para una tarea específica.\n",
    "4.  **La Interpretabilidad Valida:** Analizar la importancia de las variables nos permite confirmar que el modelo ha aprendido patrones lógicos y coherentes con la realidad.\n",
    "\n"
   ]
  }
 ],
 "metadata": {
  "kernelspec": {
   "display_name": ".conda",
   "language": "python",
   "name": "python3"
  },
  "language_info": {
   "codemirror_mode": {
    "name": "ipython",
    "version": 3
   },
   "file_extension": ".py",
   "mimetype": "text/x-python",
   "name": "python",
   "nbconvert_exporter": "python",
   "pygments_lexer": "ipython3",
   "version": "3.11.13"
  }
 },
 "nbformat": 4,
 "nbformat_minor": 5
}
